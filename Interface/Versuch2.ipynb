{
 "cells": [
  {
   "cell_type": "code",
   "execution_count": 12,
   "metadata": {},
   "outputs": [
    {
     "data": {
      "application/vnd.jupyter.widget-view+json": {
       "model_id": "238e14dba08445f48d1366ce6eac6823",
       "version_major": 2,
       "version_minor": 0
      },
      "text/plain": [
       "Map(center=[0, 0], controls=(ZoomControl(options=['position', 'zoom_in_text', 'zoom_in_title', 'zoom_out_text'…"
      ]
     },
     "execution_count": 12,
     "metadata": {},
     "output_type": "execute_result"
    },
    {
     "name": "stdout",
     "output_type": "stream",
     "text": [
      "[[-92.702637, -1.691649], [-92.702637, 1.45004], [-88.571777, 1.45004], [-88.571777, -1.691649], [-92.702637, -1.691649]]\n",
      "[[-86.220703, -3.425692], [-86.220703, 1.515936], [-76.333008, 1.515936], [-76.333008, -3.425692], [-86.220703, -3.425692]]\n",
      "[[-92.724609, -1.735574], [-88.352051, -1.757537], [-88.461914, 1.58183], [-92.614746, 1.515936], [-92.724609, -1.735574]]\n"
     ]
    }
   ],
   "source": [
    "from ipyleaflet import Map, TileLayer, DrawControl\n",
    "\n",
    "# define a function to handle the polygon creation event\n",
    "def handle_draw(self, action, geo_json):\n",
    "    print(geo_json['geometry']['coordinates'][0])\n",
    "\n",
    "# create a custom tile layer with your own tile server URL\n",
    "tile_layer = TileLayer(\n",
    "    url='https://server.arcgisonline.com/ArcGIS/rest/services/World_Imagery/MapServer/tile/{z}/{y}/{x}',  # replace with your own tile server URL\n",
    "    attribution='Esri'  # replace with your own attribution text\n",
    ")\n",
    "\n",
    "# create a TileLayer object with the URL of the custom tile\n",
    "overlay = TileLayer(\n",
    "    url='https://stamen-tiles-{s}.a.ssl.fastly.net/toner-hybrid/{z}/{x}/{y}{r}.png',\n",
    "    attribution='Stamen',\n",
    "    name='Topographic Map'\n",
    ")\n",
    "\n",
    "# create a map object with your custom tile layer\n",
    "m = Map(center=(0, 0), zoom=2, layers=[tile_layer])\n",
    "\n",
    "# add the overlay to the map\n",
    "m.add_layer(overlay)\n",
    "\n",
    "# create a draw control and add it to the map\n",
    "dc = DrawControl()\n",
    "dc.on_draw(handle_draw)\n",
    "dc.polygon = {\n",
    "    \"shapeOptions\": {\n",
    "        \"fillColor\": \"#6be5c3\",\n",
    "        \"color\": \"#6be5c3\",\n",
    "        \"fillOpacity\": 0.5\n",
    "    },\n",
    "    \"allowIntersection\": False\n",
    "}\n",
    "dc.circle = {\n",
    "    \"shapeOptions\": {\n",
    "        \"fillColor\": \"#efed69\",\n",
    "        \"color\": \"#efed69\",\n",
    "        \"fillOpacity\": 0.7\n",
    "    }\n",
    "}\n",
    "dc.rectangle = {\n",
    "    \"shapeOptions\": {\n",
    "        \"fillColor\": \"#fca45d\",\n",
    "        \"color\": \"#fca45d\",\n",
    "        \"fillOpacity\": 0.5\n",
    "    }\n",
    "}\n",
    "dc.circlemarker = {}\n",
    "dc.polyline = {}\n",
    "m.add_control(dc)\n",
    "\n",
    "# display the map\n",
    "m"
   ]
  },
  {
   "cell_type": "code",
   "execution_count": null,
   "metadata": {},
   "outputs": [],
   "source": []
  }
 ],
 "metadata": {
  "kernelspec": {
   "display_name": "Python 3",
   "language": "python",
   "name": "python3"
  },
  "language_info": {
   "codemirror_mode": {
    "name": "ipython",
    "version": 3
   },
   "file_extension": ".py",
   "mimetype": "text/x-python",
   "name": "python",
   "nbconvert_exporter": "python",
   "pygments_lexer": "ipython3",
   "version": "3.11.2"
  },
  "orig_nbformat": 4
 },
 "nbformat": 4,
 "nbformat_minor": 2
}
