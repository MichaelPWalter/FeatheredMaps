{
 "cells": [
  {
   "cell_type": "code",
   "execution_count": 1,
   "metadata": {},
   "outputs": [
    {
     "data": {
      "application/vnd.jupyter.widget-view+json": {
       "model_id": "5a4a15b2984e4d178da3d0b130b10309",
       "version_major": 2,
       "version_minor": 0
      },
      "text/plain": [
       "Map(center=[0, 0], controls=(ZoomControl(options=['position', 'zoom_in_text', 'zoom_in_title', 'zoom_out_text'…"
      ]
     },
     "metadata": {},
     "output_type": "display_data"
    },
    {
     "name": "stdout",
     "output_type": "stream",
     "text": [
      "[-91.164551, -0.285643]\n",
      "251811\n",
      "drew circle\n"
     ]
    }
   ],
   "source": [
    "from ipyleaflet import Map, TileLayer, DrawControl, Marker, SearchControl, AwesomeIcon, Circle\n",
    "\n",
    "#circle = Circle(color=\"transparent\", fill_opacity=0)\n",
    "\n",
    "# define a function to handle the polygon creation event\n",
    "def handle_draw(self, action, geo_json):\n",
    "    #print(geo_json)\n",
    "    try:\n",
    "        radius = int(geo_json['properties']['style']['radius'])\n",
    "        location = geo_json['geometry']['coordinates']\n",
    "        print(location)\n",
    "        print(radius)\n",
    "        circle = Circle(location=(location[1],location[0]), radius=radius, fillColor=\"#efed69\", color = \"#efed69\", fillOpacity = 0.8)\n",
    "        m.add_layer(circle)\n",
    "        print(\"drew circle\")\n",
    "\n",
    "    except:\n",
    "        print(geo_json['geometry']['coordinates'][0])\n",
    "\n",
    "\n",
    "# create a custom tile layer with your own tile server URL\n",
    "tile_layer = TileLayer(\n",
    "    url='https://server.arcgisonline.com/ArcGIS/rest/services/World_Imagery/MapServer/tile/{z}/{y}/{x}',  # replace with your own tile server URL\n",
    "    attribution='Esri'  # replace with your own attribution text\n",
    ")\n",
    "\n",
    "# create a TileLayer object with the URL of the custom tile\n",
    "overlay = TileLayer(\n",
    "    url='https://stamen-tiles-{s}.a.ssl.fastly.net/toner-hybrid/{z}/{x}/{y}{r}.png',\n",
    "    attribution='Stamen',\n",
    "    name='Topographic Map'\n",
    ")\n",
    "\n",
    "# create a map object with your custom tile layer\n",
    "m = Map(center=(0, 0), zoom=2, layers=[tile_layer], scroll_wheel_zoom=True)\n",
    "\n",
    "search = SearchControl(\n",
    "    position=\"topleft\",\n",
    "    url=\"https://nominatim.openstreetmap.org/search?format=json&q={s}\",\n",
    "    zoom=11,\n",
    "    marker=Marker(icon=AwesomeIcon(name=\"check\", marker_color='green', icon_color='darkgreen'))\n",
    ")\n",
    "\n",
    "def on_found(**kwargs):\n",
    "    # Print the result of the search (text, location etc)\n",
    "    print(kwargs)\n",
    "\n",
    "search.on_location_found(on_found)\n",
    "\n",
    "# add the overlay to the map\n",
    "m.add_layer(overlay)\n",
    "\n",
    "# create a draw control and add it to the map\n",
    "dc = DrawControl()\n",
    "dc.on_draw(handle_draw)\n",
    "dc.polygon = {\n",
    "    \"shapeOptions\": {\n",
    "        \"fillColor\": \"#6be5c3\",\n",
    "        \"color\": \"#6be5c3\",\n",
    "        \"fillOpacity\": 0.5\n",
    "    },\n",
    "    \"allowIntersection\": False\n",
    "}\n",
    "dc.circle = {\n",
    "    \"shapeOptions\": {\n",
    "        \"fillColor\": \"#efed69\",\n",
    "        \"color\": \"#efed69\",\n",
    "        \"fillOpacity\": 0.5\n",
    "    }\n",
    "}\n",
    "dc.rectangle = {\n",
    "    \"shapeOptions\": {\n",
    "        \"fillColor\": \"#fca45d\",\n",
    "        \"color\": \"#fca45d\",\n",
    "        \"fillOpacity\": 0.5\n",
    "    }\n",
    "}\n",
    "dc.circlemarker = {}\n",
    "dc.polyline = {}\n",
    "m.add_control(dc)\n",
    "\n",
    "\n",
    "\n",
    "m.add_control(search)\n",
    "\n",
    "# display the map\n",
    "m.layout.height = '700px'\n",
    "m"
   ]
  },
  {
   "cell_type": "code",
   "execution_count": null,
   "metadata": {},
   "outputs": [],
   "source": []
  }
 ],
 "metadata": {
  "kernelspec": {
   "display_name": "Python 3",
   "language": "python",
   "name": "python3"
  },
  "language_info": {
   "codemirror_mode": {
    "name": "ipython",
    "version": 3
   },
   "file_extension": ".py",
   "mimetype": "text/x-python",
   "name": "python",
   "nbconvert_exporter": "python",
   "pygments_lexer": "ipython3",
   "version": "3.11.2"
  },
  "orig_nbformat": 4
 },
 "nbformat": 4,
 "nbformat_minor": 2
}
