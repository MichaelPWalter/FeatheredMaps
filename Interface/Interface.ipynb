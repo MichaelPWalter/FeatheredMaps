{
 "cells": [
  {
   "cell_type": "code",
   "execution_count": 21,
   "metadata": {},
   "outputs": [
    {
     "ename": "TypeError",
     "evalue": "'Map' object is not subscriptable",
     "output_type": "error",
     "traceback": [
      "\u001b[1;31m---------------------------------------------------------------------------\u001b[0m",
      "\u001b[1;31mTypeError\u001b[0m                                 Traceback (most recent call last)",
      "Cell \u001b[1;32mIn[21], line 36\u001b[0m\n\u001b[0;32m     33\u001b[0m m\n\u001b[0;32m     35\u001b[0m \u001b[39mwhile\u001b[39;00m \u001b[39mTrue\u001b[39;00m:\n\u001b[1;32m---> 36\u001b[0m     \u001b[39mprint\u001b[39m(m[\u001b[39m'\u001b[39;49m\u001b[39mlast_clicked\u001b[39;49m\u001b[39m'\u001b[39;49m][\u001b[39m'\u001b[39m\u001b[39mlat\u001b[39m\u001b[39m'\u001b[39m])\n\u001b[0;32m     37\u001b[0m     time\u001b[39m.\u001b[39msleep(\u001b[39m10\u001b[39m)\n",
      "\u001b[1;31mTypeError\u001b[0m: 'Map' object is not subscriptable"
     ]
    }
   ],
   "source": [
    "import folium\n",
    "import time\n",
    "\n",
    "\n",
    "tile = folium.TileLayer(\n",
    "        tiles = 'https://server.arcgisonline.com/ArcGIS/rest/services/World_Imagery/MapServer/tile/{z}/{y}/{x}',\n",
    "        attr = 'Esri',\n",
    "        name = 'Esri Satellite',\n",
    "        overlay = False,\n",
    "        control = True\n",
    "       )\n",
    "\n",
    "\n",
    "\n",
    "# create a map using OpenStreetMap tiles\n",
    "m = folium.Map(location=[0, 0], zoom_start=2, tiles=tile )\n",
    "\n",
    "folium.TileLayer(\n",
    "    tiles = 'https://stamen-tiles-{s}.a.ssl.fastly.net/toner-hybrid/{z}/{x}/{y}{r}.png',\n",
    "    attr = 'Stamen',\n",
    "    name = 'Stamen Toner Hybrid',\n",
    "    overlay = True,\n",
    "    control = True\n",
    ").add_to(m)\n",
    "\"\"\" \n",
    "Compare tile providers on https://leaflet-extras.github.io/leaflet-providers/preview/\n",
    "\"\"\"\n",
    "\n",
    "m.add_child(folium.ClickForMarker())\n",
    "\n",
    "\n",
    "# display the map\n",
    "m\n",
    "\n",
    "while True:\n",
    "    print(m['last_clicked']['lat'])\n",
    "    time.sleep(10)\n"
   ]
  },
  {
   "cell_type": "code",
   "execution_count": 14,
   "metadata": {},
   "outputs": [
    {
     "ename": "TypeError",
     "evalue": "ClickForMarker.__init__() got an unexpected keyword argument 'callback'",
     "output_type": "error",
     "traceback": [
      "\u001b[1;31m---------------------------------------------------------------------------\u001b[0m",
      "\u001b[1;31mTypeError\u001b[0m                                 Traceback (most recent call last)",
      "Cell \u001b[1;32mIn[14], line 11\u001b[0m\n\u001b[0;32m      8\u001b[0m     \u001b[39mprint\u001b[39m(\u001b[39m'\u001b[39m\u001b[39mMarker clicked at\u001b[39m\u001b[39m'\u001b[39m, e\u001b[39m.\u001b[39mlatlng)\n\u001b[0;32m     10\u001b[0m \u001b[39m# add a click event listener to the map\u001b[39;00m\n\u001b[1;32m---> 11\u001b[0m m\u001b[39m.\u001b[39madd_child(folium\u001b[39m.\u001b[39;49mClickForMarker(callback\u001b[39m=\u001b[39;49mon_marker_click))\n\u001b[0;32m     13\u001b[0m \u001b[39m# display the map\u001b[39;00m\n\u001b[0;32m     14\u001b[0m m\n",
      "\u001b[1;31mTypeError\u001b[0m: ClickForMarker.__init__() got an unexpected keyword argument 'callback'"
     ]
    }
   ],
   "source": [
    "import folium\n",
    "\n",
    "# create a map using OpenStreetMap tiles\n",
    "m = folium.Map(location=[0, 0], zoom_start=2, tiles='OpenStreetMap')\n",
    "\n",
    "# define a function to handle the marker click event\n",
    "def on_marker_click(e):\n",
    "    print('Marker clicked at', e.latlng)\n",
    "\n",
    "# add a click event listener to the map\n",
    "m.add_child(folium.ClickForMarker(callback=on_marker_click))\n",
    "\n",
    "# display the map\n",
    "m"
   ]
  }
 ],
 "metadata": {
  "kernelspec": {
   "display_name": "Python 3",
   "language": "python",
   "name": "python3"
  },
  "language_info": {
   "codemirror_mode": {
    "name": "ipython",
    "version": 3
   },
   "file_extension": ".py",
   "mimetype": "text/x-python",
   "name": "python",
   "nbconvert_exporter": "python",
   "pygments_lexer": "ipython3",
   "version": "3.11.2"
  },
  "orig_nbformat": 4
 },
 "nbformat": 4,
 "nbformat_minor": 2
}
