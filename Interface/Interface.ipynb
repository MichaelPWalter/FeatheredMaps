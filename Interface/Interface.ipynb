{
 "cells": [
  {
   "cell_type": "code",
   "execution_count": 2,
   "metadata": {},
   "outputs": [
    {
     "data": {
      "application/vnd.jupyter.widget-view+json": {
       "model_id": "32bc13f12a8d4fcfbaff3899bdf07e8d",
       "version_major": 2,
       "version_minor": 0
      },
      "text/plain": [
       "Map(center=[0, 0], controls=(ZoomControl(options=['position', 'zoom_in_text', 'zoom_in_title', 'zoom_out_text'…"
      ]
     },
     "metadata": {},
     "output_type": "display_data"
    },
    {
     "name": "stdout",
     "output_type": "stream",
     "text": [
      "{'event': 'locationfound', 'text': 'Smara, Pachalik de Es-Semara باشوية السمارة, Es Semara Province, Morocco', 'feature': None, 'location': [26.7435827, -11.6645492]}\n",
      "[[-4.647217, 35.719758], [-5.267944, 35.978006], [-6.015015, 35.88905], [-6.679688, 35.034494], [-6.877441, 34.443159], [-8.668213, 33.417687], [-4.647217, 35.719758]]\n",
      "[[-4.647217, 35.719758], [-5.267944, 35.978006], [-6.015015, 35.88905], [-6.679688, 35.034494], [-6.877441, 34.443159], [-8.668213, 33.417687], [-4.647217, 35.719758]]\n",
      "[[-4.790039, 36.040216], [-5.866699, 35.960223], [-6.82251, 35.353216], [-8.591309, 33.67864], [-10.634766, 31.222197], [-10.513916, 29.850173], [-11.942139, 29.017748], [-13.007812, 28.565225], [-13.568115, 27.751608], [-14.414063, 26.88288], [-15.007324, 26.332807], [-8.668213, 26.313113], [-8.679199, 28.690588], [-7.404785, 29.40132], [-5.493164, 29.64032], [-3.647461, 30.675715], [-2.790527, 32.054645], [-1.263428, 32.222096], [-1.746826, 34.116352], [-2.021484, 35.128894], [-2.076416, 35.808904], [-4.790039, 36.040216]]\n",
      "[[-92.329102, -1.576339], [-92.329102, 1.872835], [-88.956299, 1.872835], [-88.956299, -1.576339], [-92.329102, -1.576339]]\n"
     ]
    }
   ],
   "source": [
    "from ipyleaflet import Map, TileLayer, DrawControl, Marker, SearchControl, AwesomeIcon, Circle\n",
    "\n",
    "#circle = Circle(color=\"transparent\", fill_opacity=0)\n",
    "\n",
    "# define a function to handle the polygon creation event\n",
    "def handle_draw(self, action, geo_json):\n",
    "    #print(geo_json)\n",
    "    try:\n",
    "        radius = int(geo_json['properties']['style']['radius'])\n",
    "        location = geo_json['geometry']['coordinates']\n",
    "        print(location)\n",
    "        print(radius)\n",
    "        circle = Circle(location=(location[1],location[0]), radius=radius, fillColor=\"#efed69\", color = \"#efed69\", fillOpacity = 0.8)\n",
    "        m.add_layer(circle)\n",
    "        print(\"drew circle\")\n",
    "\n",
    "    except:\n",
    "        print(geo_json['geometry']['coordinates'][0])\n",
    "\n",
    "\n",
    "# create a custom tile layer with your own tile server URL\n",
    "tile_layer = TileLayer(\n",
    "    url='https://server.arcgisonline.com/ArcGIS/rest/services/World_Imagery/MapServer/tile/{z}/{y}/{x}',  # replace with your own tile server URL\n",
    "    attribution='Esri'  # replace with your own attribution text\n",
    ")\n",
    "\n",
    "# create a TileLayer object with the URL of the custom tile\n",
    "overlay = TileLayer(\n",
    "    url='https://stamen-tiles-{s}.a.ssl.fastly.net/toner-hybrid/{z}/{x}/{y}{r}.png',\n",
    "    attribution='Stamen',\n",
    "    name='Topographic Map'\n",
    ")\n",
    "\n",
    "# create a map object with your custom tile layer\n",
    "m = Map(center=(0, 0), zoom=2, layers=[tile_layer], scroll_wheel_zoom=True)\n",
    "\n",
    "search = SearchControl(\n",
    "    position=\"topleft\",\n",
    "    url=\"https://nominatim.openstreetmap.org/search?format=json&q={s}\",\n",
    "    zoom=11,\n",
    "    marker=Marker(icon=AwesomeIcon(name=\"check\", marker_color='green', icon_color='darkgreen'))\n",
    ")\n",
    "\n",
    "def on_found(**kwargs):\n",
    "    # Print the result of the search (text, location etc)\n",
    "    print(kwargs)\n",
    "\n",
    "search.on_location_found(on_found)\n",
    "\n",
    "# add the overlay to the map\n",
    "m.add_layer(overlay)\n",
    "\n",
    "# create a draw control and add it to the map\n",
    "dc = DrawControl()\n",
    "dc.on_draw(handle_draw)\n",
    "dc.polygon = {\n",
    "    \"shapeOptions\": {\n",
    "        \"fillColor\": \"#6be5c3\",\n",
    "        \"color\": \"#6be5c3\",\n",
    "        \"fillOpacity\": 0.5\n",
    "    },\n",
    "    \"allowIntersection\": False\n",
    "}\n",
    "dc.circle = {\n",
    "    \"shapeOptions\": {\n",
    "        \"fillColor\": \"#efed69\",\n",
    "        \"color\": \"#efed69\",\n",
    "        \"fillOpacity\": 0.5\n",
    "    }\n",
    "}\n",
    "dc.rectangle = {\n",
    "    \"shapeOptions\": {\n",
    "        \"fillColor\": \"#fca45d\",\n",
    "        \"color\": \"#fca45d\",\n",
    "        \"fillOpacity\": 0.5\n",
    "    }\n",
    "}\n",
    "dc.circlemarker = {}\n",
    "dc.polyline = {}\n",
    "m.add_control(dc)\n",
    "\n",
    "\n",
    "\n",
    "m.add_control(search)\n",
    "\n",
    "# display the map\n",
    "m.layout.height = '700px'\n",
    "m"
   ]
  },
  {
   "cell_type": "code",
   "execution_count": null,
   "metadata": {},
   "outputs": [],
   "source": []
  }
 ],
 "metadata": {
  "kernelspec": {
   "display_name": "Python 3",
   "language": "python",
   "name": "python3"
  },
  "language_info": {
   "codemirror_mode": {
    "name": "ipython",
    "version": 3
   },
   "file_extension": ".py",
   "mimetype": "text/x-python",
   "name": "python",
   "nbconvert_exporter": "python",
   "pygments_lexer": "ipython3",
   "version": "3.11.2"
  },
  "orig_nbformat": 4
 },
 "nbformat": 4,
 "nbformat_minor": 2
}
