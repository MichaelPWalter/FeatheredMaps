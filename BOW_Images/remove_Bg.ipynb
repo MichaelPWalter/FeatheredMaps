{
 "cells": [
  {
   "cell_type": "code",
   "execution_count": null,
   "metadata": {
    "vscode": {
     "languageId": "plaintext"
    }
   },
   "outputs": [],
   "source": [
    "import cv2\n",
    "import numpy as np\n",
    "import os\n",
    "from collections import Counter\n",
    "from glob import glob\n",
    "\n",
    "# Folder paths\n",
    "input_folder = \"path/to/your/images\"  # Change this to your folder path\n",
    "output_folder = \"path/to/save/transparent_images\"\n",
    "\n",
    "os.makedirs(output_folder, exist_ok=True)\n",
    "\n",
    "# Process each image\n",
    "for image_path in glob(os.path.join(input_folder, \"*.jpg\")):\n",
    "    # Load image\n",
    "    img = cv2.imread(image_path)\n",
    "\n",
    "    # Convert to RGB\n",
    "    img_rgb = cv2.cvtColor(img, cv2.COLOR_BGR2RGB)\n",
    "\n",
    "    # Reshape image to a list of pixels\n",
    "    pixels = img_rgb.reshape(-1, 3)\n",
    "\n",
    "    # Find the most common color\n",
    "    most_common_color = Counter(map(tuple, pixels)).most_common(1)[0][0]\n",
    "\n",
    "    # Create a mask for pixels matching the most common color\n",
    "    mask = np.all(img_rgb == most_common_color, axis=-1)\n",
    "\n",
    "    # Create an output image with an alpha channel\n",
    "    img_rgba = np.dstack((img_rgb, ~mask * 255))  # Invert mask for transparency\n",
    "\n",
    "    # Save as PNG\n",
    "    output_path = os.path.join(output_folder, os.path.basename(image_path).replace(\".jpg\", \".png\"))\n",
    "    cv2.imwrite(output_path, cv2.cvtColor(img_rgba, cv2.COLOR_RGBA2BGRA))\n",
    "\n",
    "print(\"Processing complete! Transparent images saved to:\", output_folder)"
   ]
  }
 ],
 "metadata": {
  "language_info": {
   "name": "python"
  }
 },
 "nbformat": 4,
 "nbformat_minor": 2
}
