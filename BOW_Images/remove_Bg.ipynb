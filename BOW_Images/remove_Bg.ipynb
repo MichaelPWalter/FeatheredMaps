{
 "cells": [
  {
   "cell_type": "code",
   "execution_count": 1,
   "metadata": {},
   "outputs": [
    {
     "name": "stdout",
     "output_type": "stream",
     "text": [
      "Defaulting to user installation because normal site-packages is not writeable\n",
      "Collecting opencv-python\n",
      "  Downloading opencv_python-4.11.0.86-cp37-abi3-macosx_13_0_arm64.whl.metadata (20 kB)\n",
      "Collecting numpy\n",
      "  Downloading numpy-2.0.2-cp39-cp39-macosx_14_0_arm64.whl.metadata (60 kB)\n",
      "Downloading opencv_python-4.11.0.86-cp37-abi3-macosx_13_0_arm64.whl (37.3 MB)\n",
      "\u001b[2K   \u001b[90m━━━━━━━━━━━━━━━━━━━━━━━━━━━━━━━━━━━━━━━━\u001b[0m \u001b[32m37.3/37.3 MB\u001b[0m \u001b[31m42.4 MB/s\u001b[0m eta \u001b[36m0:00:00\u001b[0ma \u001b[36m0:00:01\u001b[0m\n",
      "\u001b[?25hDownloading numpy-2.0.2-cp39-cp39-macosx_14_0_arm64.whl (5.3 MB)\n",
      "\u001b[2K   \u001b[90m━━━━━━━━━━━━━━━━━━━━━━━━━━━━━━━━━━━━━━━━\u001b[0m \u001b[32m5.3/5.3 MB\u001b[0m \u001b[31m42.1 MB/s\u001b[0m eta \u001b[36m0:00:00\u001b[0m\n",
      "\u001b[?25hInstalling collected packages: numpy, opencv-python\n",
      "Successfully installed numpy-2.0.2 opencv-python-4.11.0.86\n"
     ]
    }
   ],
   "source": [
    "!python3 -m pip install opencv-python numpy"
   ]
  },
  {
   "cell_type": "code",
   "execution_count": null,
   "metadata": {},
   "outputs": [
    {
     "name": "stdout",
     "output_type": "stream",
     "text": [
      "Processing complete! Transparent images saved to: BOW_Images/PNGs/\n"
     ]
    }
   ],
   "source": [
    "import cv2\n",
    "import numpy as np\n",
    "import os\n",
    "from collections import Counter\n",
    "from glob import glob  \n",
    "\n",
    "# Folder paths\n",
    "input_folder = \"BOW_Images/Drawings/\"  # Change this to your folder path\n",
    "output_folder = \"BOW_Images/PNGs/\"\n",
    "\n",
    "os.makedirs(output_folder, exist_ok=True)\n",
    "\n",
    "# Process each image\n",
    "for image_path in glob(os.path.join(input_folder, \"*.jpg\")):\n",
    "    # Load image\n",
    "    img = cv2.imread(image_path)\n",
    "\n",
    "    # Convert to RGB\n",
    "    img_rgb = cv2.cvtColor(img, cv2.COLOR_BGR2RGB)\n",
    "\n",
    "    # Reshape image to a list of pixels\n",
    "    pixels = img_rgb.reshape(-1, 3)\n",
    "\n",
    "    # Find the most common color\n",
    "    most_common_color = Counter(map(tuple, pixels)).most_common(1)[0][0]\n",
    "\n",
    "    # Create a mask for pixels matching the most common color\n",
    "    mask = np.all(img_rgb == most_common_color, axis=-1)\n",
    "\n",
    "    # Create an output image with an alpha channel\n",
    "    img_rgba = np.dstack((img_rgb, ~mask * 255))  # Invert mask for transparency\n",
    "\n",
    "    # Save as PNG\n",
    "    output_path = os.path.join(output_folder, os.path.basename(image_path).replace(\".jpg\", \".png\"))\n",
    "    cv2.imwrite(output_path, cv2.cvtColor(img_rgba, cv2.COLOR_RGBA2BGRA))\n",
    "\n",
    "print(\"Processing complete! Transparent images saved to:\", output_folder)"
   ]
  }
 ],
 "metadata": {
  "kernelspec": {
   "display_name": "Python 3",
   "language": "python",
   "name": "python3"
  },
  "language_info": {
   "codemirror_mode": {
    "name": "ipython",
    "version": 3
   },
   "file_extension": ".py",
   "mimetype": "text/x-python",
   "name": "python",
   "nbconvert_exporter": "python",
   "pygments_lexer": "ipython3",
   "version": "3.9.6"
  }
 },
 "nbformat": 4,
 "nbformat_minor": 2
}
