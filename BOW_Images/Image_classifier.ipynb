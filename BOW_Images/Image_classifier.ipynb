{
 "cells": [
  {
   "cell_type": "code",
   "execution_count": 2,
   "metadata": {},
   "outputs": [
    {
     "ename": "",
     "evalue": "",
     "output_type": "error",
     "traceback": [
      "\u001b[1;31mThe Kernel crashed while executing code in the current cell or a previous cell. \n",
      "\u001b[1;31mPlease review the code in the cell(s) to identify a possible cause of the failure. \n",
      "\u001b[1;31mClick <a href='https://aka.ms/vscodeJupyterKernelCrash'>here</a> for more info. \n",
      "\u001b[1;31mView Jupyter <a href='command:jupyter.viewOutput'>log</a> for further details."
     ]
    }
   ],
   "source": [
    "import os\n",
    "import cv2\n",
    "import glob\n",
    "\n",
    "# Supported image formats\n",
    "IMAGE_EXTENSIONS = (\".jpg\", \".jpeg\", \".png\")\n",
    "\n",
    "def get_images(folder):\n",
    "    \"\"\"Recursively fetch all image files from a folder and its subfolders.\"\"\"\n",
    "    return [f for f in glob.glob(os.path.join(folder, \"**\", \"*\"), recursive=True) if f.lower().endswith(IMAGE_EXTENSIONS)]\n",
    "\n",
    "def rename_image(image_path, tag):\n",
    "    \"\"\"Rename the image by appending a tag before the file extension.\"\"\"\n",
    "    parts = image_path.split(\"/\")  # Split by \"/\"\n",
    "    directory = \"/\".join(parts[:-1])  # Everything except the last part\n",
    "    filename = parts[-1]\n",
    "    filename = filename.split(\".jpg\")[0]\n",
    "\n",
    "    # Avoid renaming if already labeled\n",
    "    if any(filename.endswith(suffix) for suffix in [\"_head\", \"_full\", \"_inflight\"]):\n",
    "        return\n",
    "    \n",
    "    new_filename = f\"{filename}{tag}.jpg\"\n",
    "    new_path = os.path.join(directory, new_filename)\n",
    "    os.rename(image_path, new_path)\n",
    "    print(f\"Renamed: {filename} → {new_filename}\")\n",
    "\n",
    "def label_images(folder):\n",
    "    \"\"\"Go through images in the folder and rename them based on key input.\"\"\"\n",
    "    images = get_images(folder)\n",
    "    \n",
    "    if not images:\n",
    "        print(\"No images found.\")\n",
    "        return\n",
    "\n",
    "    for image_path in images:\n",
    "        img = cv2.imread(image_path)\n",
    "        if img is None:\n",
    "            continue\n",
    "\n",
    "        cv2.imshow(\"Image Labeling\", img)\n",
    "        key = cv2.waitKey(0)  # Wait for key press\n",
    "\n",
    "        if key == 27:  # Escape key to exit\n",
    "            break\n",
    "        elif key == 82:  # Up arrow\n",
    "            rename_image(image_path, \"_head\")\n",
    "        elif key == 84:  # Down arrow\n",
    "            rename_image(image_path, \"_full\")\n",
    "        elif key == 83:  # Right arrow\n",
    "            rename_image(image_path, \"_inflight\")\n",
    "\n",
    "    cv2.destroyAllWindows()\n",
    "\n",
    "# Set the folder containing images\n",
    "image_folder = \"C:\\\\Users\\\\Walter\\\\Documents\\\\GitHub\\\\FeatheredMaps\\\\BOW_Images\\\\BOW_Images\\\\Drawings\"  # Change this to your folder\n",
    "label_images(image_folder)\n"
   ]
  }
 ],
 "metadata": {
  "kernelspec": {
   "display_name": "Python 3",
   "language": "python",
   "name": "python3"
  },
  "language_info": {
   "codemirror_mode": {
    "name": "ipython",
    "version": 3
   },
   "file_extension": ".py",
   "mimetype": "text/x-python",
   "name": "python",
   "nbconvert_exporter": "python",
   "pygments_lexer": "ipython3",
   "version": "3.12.9"
  }
 },
 "nbformat": 4,
 "nbformat_minor": 2
}
