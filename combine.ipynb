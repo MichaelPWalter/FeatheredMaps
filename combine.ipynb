{
 "cells": [
  {
   "cell_type": "code",
   "execution_count": 8,
   "metadata": {},
   "outputs": [
    {
     "name": "stdout",
     "output_type": "stream",
     "text": [
      "Combined CSV file has been saved as 'combined.csv'.\n"
     ]
    }
   ],
   "source": [
    "import pandas as pd\n",
    "\n",
    "# File paths for the two input CSVs and the output CSV\n",
    "csv_file_1 = \"C:\\\\Users\\\\Walter\\\\Documents\\\\GitHub\\\\FeatheredMaps\\\\Clements_filtered_species.csv\"  # Replace with the first file name\n",
    "csv_file_2 = \"C:\\\\Users\\\\Walter\\\\Documents\\\\GitHub\\\\FeatheredMaps\\\\modified_file_with_relativeRatio.csv\"  # Replace with the second file name\n",
    "output_csv_file = \"combined.csv\"  # Replace with the desired output file name\n",
    "\n",
    "# Load the two CSV files into DataFrames\n",
    "df1 = pd.read_csv(csv_file_1)\n",
    "df2 = pd.read_csv(csv_file_2, delimiter='\\t')\n",
    "\n",
    "# Merge the two DataFrames on a specific column (e.g., 'Key')\n",
    "# Use 'inner', 'left', 'right', or 'outer' for different types of joins\n",
    "merged_df = pd.merge(df1, df2, left_on=\"scientific name\", right_on=\"splitScientificName\", how=\"right\")  # Replace 'Key' with the column to match\n",
    "\n",
    "# Save the combined DataFrame to a new CSV file\n",
    "merged_df.to_csv(output_csv_file, index=False)\n",
    "\n",
    "print(f\"Combined CSV file has been saved as '{output_csv_file}'.\")"
   ]
  }
 ],
 "metadata": {
  "kernelspec": {
   "display_name": "Python 3",
   "language": "python",
   "name": "python3"
  },
  "language_info": {
   "codemirror_mode": {
    "name": "ipython",
    "version": 3
   },
   "file_extension": ".py",
   "mimetype": "text/x-python",
   "name": "python",
   "nbconvert_exporter": "python",
   "pygments_lexer": "ipython3",
   "version": "3.12.8"
  }
 },
 "nbformat": 4,
 "nbformat_minor": 2
}
