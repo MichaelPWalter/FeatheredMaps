{
 "cells": [
  {
   "cell_type": "code",
   "execution_count": 122,
   "metadata": {},
   "outputs": [
    {
     "name": "stderr",
     "output_type": "stream",
     "text": [
      "C:\\Users\\Walter\\AppData\\Local\\Temp\\ipykernel_9144\\657073583.py:5: DtypeWarning: Columns (12) have mixed types. Specify dtype option on import or set low_memory=False.\n",
      "  Clements_df = pd.read_csv('C:\\\\Users\\\\Walter\\\\Documents\\\\GitHub\\\\FeatheredMaps\\\\Cleaned_Clements-v2024-October-2024-rev.csv')\n"
     ]
    },
    {
     "name": "stdout",
     "output_type": "stream",
     "text": [
      "Clements_df\n",
      "Unnamed: 0, sort v2024, speciesCode_eBird, Clements v2024b change, text for website v2024b, rank_Clements, commonName_Clements, scientificName_Clements, range_Clements, order_english_Clements, family_english_Clements, extinct_Clements, extinctYear_Clements, sort_v2023, family_Clements, genus_Clements, species_Clements\n",
      "IOC_df\n",
      "Unnamed: 0.1, Unnamed: 0, 14.1, 13.2, rank_IOC, Extinct, commonName_IOC, Counters, scientificName_IOC, authority_IOC, breedingRange_IOC, nonbreedingRange_IOC, Code, Comment, order_IOC, family_IOC, genus_IOC, species_IOC\n"
     ]
    },
    {
     "name": "stderr",
     "output_type": "stream",
     "text": [
      "C:\\Users\\Walter\\AppData\\Local\\Temp\\ipykernel_9144\\657073583.py:23: DtypeWarning: Columns (2,5) have mixed types. Specify dtype option on import or set low_memory=False.\n",
      "  IOC_df = pd.read_csv(\"C:\\\\Users\\\\Walter\\\\Documents\\\\GitHub\\\\FeatheredMaps\\\\Cleaned_IOC_Names_File_Plus-14.csv\")\n"
     ]
    }
   ],
   "source": [
    "import pandas as pd\n",
    "from IPython.display import clear_output\n",
    "\n",
    "#Import GBIF and IOC Data \n",
    "Clements_df = pd.read_csv('C:\\\\Users\\\\Walter\\\\Documents\\\\GitHub\\\\FeatheredMaps\\\\Cleaned_Clements-v2024-October-2024-rev.csv')\n",
    "Clements_df = Clements_df[Clements_df[\"species_code\"].notna() & Clements_df[\"species_code\"].str.strip().astype(bool)]\n",
    "Clements_df = Clements_df[Clements_df[\"category\"].isin([\"species\", \"subspecies\", \"group (monotypic)\"])]\n",
    "Clements_df.rename(columns={'category': 'rank_Clements',\n",
    "                            'species_code': 'speciesCode_eBird',\n",
    "                            'English name': 'commonName_Clements',\n",
    "                            'scientific name': 'scientificName_Clements',\n",
    "                            'range': 'range_Clements',\n",
    "                            'extinct': 'extinct_Clements',\n",
    "                            'extinct year':'extinctYear_Clements',\n",
    "                            'family': 'family_Clements',\n",
    "                            'genus': 'genus_Clements',\n",
    "                            'species':'species_Clements'\n",
    "                            }, inplace=True)\n",
    "\n",
    "print(\"Clements_df\")\n",
    "print(\", \".join(Clements_df.columns))\n",
    "\n",
    "IOC_df = pd.read_csv(\"C:\\\\Users\\\\Walter\\\\Documents\\\\GitHub\\\\FeatheredMaps\\\\Cleaned_IOC_Names_File_Plus-14.csv\")\n",
    "IOC_df = IOC_df[IOC_df[\"Rank\"].isin([\"Species\", \"ssp\"])]\n",
    "IOC_df.rename(columns={'Rank': 'rank_IOC',\n",
    "                        'Exctinct': 'extinct_IOC',\n",
    "                        'English name': 'commonName_IOC',\n",
    "                        'Scientific Name': 'scientificName_IOC',\n",
    "                        'Authority': 'authority_IOC',\n",
    "                        'Breeding Range': 'breedingRange_IOC',\n",
    "                        'Nonbreeding Range': 'nonbreedingRange_IOC',\n",
    "                        'order': 'order_IOC',\n",
    "                        'family': 'family_IOC',\n",
    "                        'genus': 'genus_IOC',\n",
    "                        'species':'species_IOC'\n",
    "                        }, inplace=True)\n",
    "\n",
    "\n",
    "print(\"IOC_df\")\n",
    "print(\", \".join(IOC_df.columns))"
   ]
  },
  {
   "cell_type": "code",
   "execution_count": 123,
   "metadata": {},
   "outputs": [
    {
     "name": "stdout",
     "output_type": "stream",
     "text": [
      "['Struthionidae' nan 'Rheidae' 'Apterygidae' 'Casuariidae' 'Tinamidae'\n",
      " 'Anhimidae' 'Anseranatidae' 'Anatidae' 'Megapodiidae' 'Cracidae'\n",
      " 'Numididae' 'Odontophoridae' 'Phasianidae' 'Caprimulgidae'\n",
      " 'Steatornithidae' 'Nyctibiidae' 'Podargidae' 'Aegothelidae'\n",
      " 'Hemiprocnidae' 'Apodidae' 'Trochilidae' 'Musophagidae' 'Otididae'\n",
      " 'Cuculidae' 'Mesitornithidae' 'Pteroclidae' 'Columbidae' 'Heliornithidae'\n",
      " 'Sarothruridae' 'Rallidae' 'Psophiidae' 'Gruidae' 'Aramidae'\n",
      " 'Podicipedidae' 'Phoenicopteridae' 'Turnicidae' 'Burhinidae'\n",
      " 'Pluvianellidae' 'Chionidae' 'Haematopodidae' 'Ibidorhynchidae'\n",
      " 'Recurvirostridae' 'Charadriidae' 'Pluvianidae' 'Rostratulidae'\n",
      " 'Jacanidae' 'Pedionomidae' 'Thinocoridae' 'Scolopacidae' 'Dromadidae'\n",
      " 'Glareolidae' 'Laridae' 'Stercorariidae' 'Alcidae' 'Rhynochetidae'\n",
      " 'Eurypygidae' 'Phaethontidae' 'Gaviidae' 'Spheniscidae' 'Oceanitidae'\n",
      " 'Diomedeidae' 'Hydrobatidae' 'Procellariidae' 'Ciconiidae' 'Fregatidae'\n",
      " 'Sulidae' 'Anhingidae' 'Phalacrocoracidae' 'Threskiornithidae' 'Ardeidae'\n",
      " 'Scopidae' 'Balaenicipitidae' 'Pelecanidae' 'Opisthocomidae'\n",
      " 'Cathartidae' 'Sagittariidae' 'Pandionidae' 'Accipitridae' 'Tytonidae'\n",
      " 'Strigidae' 'Coliidae' 'Leptosomidae' 'Trogonidae' 'Upupidae'\n",
      " 'Phoeniculidae' 'Bucorvidae' 'Bucerotidae' 'Coraciidae'\n",
      " 'Brachypteraciidae' 'Alcedinidae' 'Todidae' 'Momotidae' 'Meropidae'\n",
      " 'Galbulidae' 'Bucconidae' 'Capitonidae' 'Semnornithidae' 'Ramphastidae'\n",
      " 'Megalaimidae' 'Lybiidae' 'Indicatoridae' 'Picidae' 'Cariamidae'\n",
      " 'Falconidae' 'Strigopidae' 'Cacatuidae' 'Psittacidae' 'Psittaculidae'\n",
      " 'Acanthisittidae' 'Sapayoidae' 'Philepittidae' 'Eurylaimidae'\n",
      " 'Calyptomenidae' 'Pittidae' 'Furnariidae' 'Thamnophilidae'\n",
      " 'Formicariidae' 'Grallariidae' 'Conopophagidae' 'Rhinocryptidae'\n",
      " 'Melanopareiidae' 'Tyrannidae' 'Cotingidae' 'Pipridae' 'Tityridae'\n",
      " 'Menuridae' 'Atrichornithidae' 'Ptilonorhynchidae' 'Climacteridae'\n",
      " 'Maluridae' 'Meliphagidae' 'Dasyornithidae' 'Pardalotidae' 'Acanthizidae'\n",
      " 'Pomatostomidae' 'Orthonychidae' 'Cnemophilidae' 'Melanocharitidae'\n",
      " 'Paramythiidae' 'Callaeidae' 'Notiomystidae' 'Psophodidae'\n",
      " 'Cinclosomatidae' 'Platysteiridae' 'Malaconotidae' 'Machaerirhynchidae'\n",
      " 'Vangidae' 'Pityriasidae' 'Artamidae' 'Rhagologidae' 'Aegithinidae'\n",
      " 'Campephagidae' 'Mohouidae' 'Neosittidae' 'Eulacestomatidae' 'Oreoicidae'\n",
      " 'Falcunculidae' 'Pachycephalidae' 'Vireonidae' 'Oriolidae' 'Dicruridae'\n",
      " 'Rhipiduridae' 'Monarchidae' 'Platylophidae' 'Laniidae' 'Corvidae'\n",
      " 'Corcoracidae' 'Melampittidae' 'Ifritidae' 'Paradisaeidae' 'Petroicidae'\n",
      " 'Picathartidae' 'Chaetopidae' 'Eupetidae' 'Bombycillidae'\n",
      " 'Ptiliogonatidae' 'Hypocoliidae' 'Dulidae' 'Mohoidae' 'Hylocitreidae'\n",
      " 'Stenostiridae' 'Paridae' 'Remizidae' 'Nicatoridae' 'Panuridae'\n",
      " 'Alaudidae' 'Pycnonotidae' 'Hirundinidae' 'Pnoepygidae' 'Macrosphenidae'\n",
      " 'Cettiidae' 'Scotocercidae' 'Erythrocercidae' 'Hyliidae' 'Aegithalidae'\n",
      " 'Phylloscopidae' 'Acrocephalidae' 'Locustellidae' 'Donacobiidae'\n",
      " 'Bernieridae' 'Cisticolidae' 'Sylviidae' 'Paradoxornithidae'\n",
      " 'Zosteropidae' 'Timaliidae' 'Pellorneidae' 'Alcippeidae' 'Leiothrichidae'\n",
      " 'Modulatricidae' 'Promeropidae' 'Irenidae' 'Regulidae' 'Elachuridae'\n",
      " 'Hyliotidae' 'Troglodytidae' 'Polioptilidae' 'Sittidae' 'Tichodromidae'\n",
      " 'Certhiidae' 'Salpornithidae' 'Mimidae' 'Sturnidae' 'Buphagidae'\n",
      " 'Turdidae' 'Muscicapidae' 'Cinclidae' 'Chloropseidae' 'Dicaeidae'\n",
      " 'Nectariniidae' 'Passeridae' 'Ploceidae' 'Estrildidae' 'Viduidae'\n",
      " 'Peucedramidae' 'Prunellidae' 'Motacillidae' 'Urocynchramidae'\n",
      " 'Fringillidae' 'Calcariidae' 'Rhodinocichlidae' 'Emberizidae'\n",
      " 'Passerellidae' 'Calyptophilidae' 'Phaenicophilidae' 'Nesospingidae'\n",
      " 'Spindalidae' 'Zeledoniidae' 'Teretistridae' 'Icteriidae' 'Icteridae'\n",
      " 'Parulidae' 'Mitrospingidae' 'Cardinalidae' 'Thraupidae']\n"
     ]
    }
   ],
   "source": [
    "unique_entries = IOC_df[\"Counters\"].unique()\n",
    "\n",
    "print(unique_entries)"
   ]
  },
  {
   "cell_type": "code",
   "execution_count": 124,
   "metadata": {},
   "outputs": [
    {
     "name": "stdout",
     "output_type": "stream",
     "text": [
      "       Unnamed: 0_x  sort v2024 speciesCode_eBird Clements v2024b change  \\\n",
      "0            4392.0      4877.0           emchum1                    NaN   \n",
      "1            4393.0      4878.0           emchum2                    NaN   \n",
      "2            4394.0      4879.0           emchum3                    NaN   \n",
      "3           23084.0     24889.0           rufwar1                    NaN   \n",
      "4           23085.0     24890.0           rufwar2                    NaN   \n",
      "...             ...         ...               ...                    ...   \n",
      "32774       23510.0     25326.0           nesbab1                    NaN   \n",
      "32775       23505.0     25321.0           lusbab1                    NaN   \n",
      "32776       23506.0     25322.0           chfbab1                    NaN   \n",
      "32777       23508.0     25324.0           chfbab3                    NaN   \n",
      "32778       23507.0     25323.0           chfbab2                    NaN   \n",
      "\n",
      "      text for website v2024b rank_Clements          commonName_Clements  \\\n",
      "0                         NaN       species  Emerald-chinned Hummingbird   \n",
      "1                         NaN    subspecies                          NaN   \n",
      "2                         NaN    subspecies                          NaN   \n",
      "3                         NaN       species         Rufous-faced Warbler   \n",
      "4                         NaN    subspecies                          NaN   \n",
      "...                       ...           ...                          ...   \n",
      "32774                     NaN       species       Negros Striped-Babbler   \n",
      "32775                     NaN       species        Luzon Striped-Babbler   \n",
      "32776                     NaN       species       Chestnut-faced Babbler   \n",
      "32777                     NaN    subspecies                          NaN   \n",
      "32778                     NaN    subspecies                          NaN   \n",
      "\n",
      "                    scientificName_Clements  \\\n",
      "0                         Abeillia abeillei   \n",
      "1                Abeillia abeillei abeillei   \n",
      "2                   Abeillia abeillei aurea   \n",
      "3                    Abroscopus albogularis   \n",
      "4        Abroscopus albogularis albogularis   \n",
      "...                                     ...   \n",
      "32774                  Zosterornis nigrorum   \n",
      "32775                  Zosterornis striatus   \n",
      "32776                Zosterornis whiteheadi   \n",
      "32777  Zosterornis whiteheadi sorsogonensis   \n",
      "32778     Zosterornis whiteheadi whiteheadi   \n",
      "\n",
      "                                          range_Clements  \\\n",
      "0                                                    NaN   \n",
      "1      mountains of southeastern Mexico to northern H...   \n",
      "2      mountains of southern Honduras and northern Ni...   \n",
      "3                                                    NaN   \n",
      "4      Nepal to Sikkim, northeastern India, Banglades...   \n",
      "...                                                  ...   \n",
      "32774             Philippines (montane forest of Negros)   \n",
      "32775              northern Philippines (northern Luzon)   \n",
      "32776                                                NaN   \n",
      "32777              northern Philippines (southern Luzon)   \n",
      "32778              northern Philippines (northern Luzon)   \n",
      "\n",
      "      order_english_Clements  ...                    scientificName_IOC  \\\n",
      "0                Apodiformes  ...                     Abeillia abeillei   \n",
      "1                Apodiformes  ...            Abeillia abeillei abeillei   \n",
      "2                Apodiformes  ...               Abeillia abeillei aurea   \n",
      "3              Passeriformes  ...                Abroscopus albogularis   \n",
      "4              Passeriformes  ...    Abroscopus albogularis albogularis   \n",
      "...                      ...  ...                                   ...   \n",
      "32774          Passeriformes  ...                  Zosterornis nigrorum   \n",
      "32775          Passeriformes  ...                  Zosterornis striatus   \n",
      "32776          Passeriformes  ...                Zosterornis whiteheadi   \n",
      "32777          Passeriformes  ...  Zosterornis whiteheadi sorsogonensis   \n",
      "32778          Passeriformes  ...     Zosterornis whiteheadi whiteheadi   \n",
      "\n",
      "                       authority_IOC  \\\n",
      "0      (Lesson, RP & Delattre, 1839)   \n",
      "1      (Lesson, RP & Delattre, 1839)   \n",
      "2          Miller, W & Griscom, 1925   \n",
      "3                   (Moore, F, 1854)   \n",
      "4                   (Moore, F, 1854)   \n",
      "...                              ...   \n",
      "32774           (Rand & Rabor, 1952)   \n",
      "32775            Ogilvie-Grant, 1894   \n",
      "32776            Ogilvie-Grant, 1894   \n",
      "32777           (Rand & Rabor, 1967)   \n",
      "32778            Ogilvie-Grant, 1894   \n",
      "\n",
      "                                   breedingRange_IOC  nonbreedingRange_IOC  \\\n",
      "0                      MA : se Mexico to n Nicaragua                   NaN   \n",
      "1                            se Mexico to n Honduras                   NaN   \n",
      "2                         s Honduras and n Nicaragua                   NaN   \n",
      "3                   OR : e Himalayas through se Asia                   NaN   \n",
      "4      e Himalayas to Yunnan (s China) and w Myanmar                   NaN   \n",
      "...                                              ...                   ...   \n",
      "32774           OR : montane Negros (wc Philippines)                   NaN   \n",
      "32775                   OR : e Luzon (n Philippines)                   NaN   \n",
      "32776             OR : montane Luzon (n Philippines)                   NaN   \n",
      "32777                montane s Luzon (n Philippines)                   NaN   \n",
      "32778             montane n, c Luzon (n Philippines)                   NaN   \n",
      "\n",
      "           Code                                            Comment  \\\n",
      "0           NaN                                                NaN   \n",
      "1           NaN                                                NaN   \n",
      "2           NaN                                                NaN   \n",
      "3           NaN                                                NaN   \n",
      "4           NaN                                                NaN   \n",
      "...         ...                                                ...   \n",
      "32774       NaN                                                NaN   \n",
      "32775       NaN                                                NaN   \n",
      "32776  TAX, SEQ  Separate 5 species of Philippine Stachyris bab...   \n",
      "32777       NaN                                                NaN   \n",
      "32778       NaN                                                NaN   \n",
      "\n",
      "           order_IOC    family_IOC    genus_IOC             species_IOC  \n",
      "0        Apodiformes   Trochilidae     Abeillia                     NaN  \n",
      "1        Apodiformes   Trochilidae     Abeillia       Abeillia abeillei  \n",
      "2        Apodiformes   Trochilidae     Abeillia       Abeillia abeillei  \n",
      "3      Passeriformes     Cettiidae   Abroscopus                     NaN  \n",
      "4      Passeriformes     Cettiidae   Abroscopus  Abroscopus albogularis  \n",
      "...              ...           ...          ...                     ...  \n",
      "32774  Passeriformes  Zosteropidae  Zosterornis                     NaN  \n",
      "32775  Passeriformes  Zosteropidae  Zosterornis                     NaN  \n",
      "32776  Passeriformes  Zosteropidae  Zosterornis                     NaN  \n",
      "32777  Passeriformes  Zosteropidae  Zosterornis  Zosterornis whiteheadi  \n",
      "32778  Passeriformes  Zosteropidae  Zosterornis  Zosterornis whiteheadi  \n",
      "\n",
      "[32779 rows x 35 columns]\n"
     ]
    }
   ],
   "source": [
    "merged_on_scientific_name_df = pd.merge(Clements_df,IOC_df,left_on=\"scientificName_Clements\",right_on=\"scientificName_IOC\",how=\"outer\")\n",
    "print(merged_on_scientific_name_df)\n",
    "\n",
    "\n",
    "Combined_df = merged_on_scientific_name_df[[\"sort v2024\",\n",
    "                                           \"14.1\",\n",
    "                                           \"speciesCode_eBird\",\n",
    "                                           \"scientificName_Clements\",\n",
    "                                           \"scientificName_IOC\",\n",
    "                                           \"commonName_Clements\",\n",
    "                                           \"commonName_IOC\",\n",
    "                                           \"rank_Clements\",\n",
    "                                           \"rank_IOC\",\n",
    "                                           \"species_Clements\",\n",
    "                                           \"genus_Clements\",\n",
    "                                           \"family_Clements\",\n",
    "                                           \"species_IOC\",\n",
    "                                           \"genus_IOC\",\n",
    "                                           \"family_IOC\",\n",
    "                                           \"family_english_Clements\",\n",
    "                                           \"order_IOC\",\n",
    "                                           \"order_english_Clements\",\n",
    "                                           \"authority_IOC\",\n",
    "                                           \"extinct_Clements\",\n",
    "                                           \"extinctYear_Clements\",\n",
    "                                           \"extinct_Clements\",\n",
    "                                           \"range_Clements\",\n",
    "                                           \"breedingRange_IOC\",\n",
    "                                           \"nonbreedingRange_IOC\"]]\n",
    "\n",
    "\n",
    "\n",
    "# merged_on_common_name_df = pd.merge(Clements_df,IOC_df,on=\"English name\",how=\"left\")\n",
    "# print(merged_on_common_name_df)\n",
    "\n",
    "\n",
    "Combined_df.to_csv(\"Combined_Clements_IOC.csv\")"
   ]
  },
  {
   "cell_type": "code",
   "execution_count": 125,
   "metadata": {},
   "outputs": [
    {
     "name": "stdout",
     "output_type": "stream",
     "text": [
      "Clements\n",
      "31434\n",
      "IOC\n",
      "31032\n",
      "Combined\n",
      "32779\n",
      "1747\n"
     ]
    }
   ],
   "source": [
    "print(\"Clements\")\n",
    "print(len(Clements_df))\n",
    "print(\"IOC\")\n",
    "print(len(IOC_df))\n",
    "print(\"Combined\")\n",
    "print(len(Combined_df))\n",
    "\n",
    "print (len(Clements_df[~Clements_df['scientificName_Clements'].isin(IOC_df['scientificName_IOC'])]))"
   ]
  },
  {
   "cell_type": "code",
   "execution_count": 126,
   "metadata": {},
   "outputs": [
    {
     "name": "stdout",
     "output_type": "stream",
     "text": [
      "2878\n",
      "        Row 1824 matches Row 13359,\tBlue Crane:\t\tAnthropoides paradiseus/Grus paradisea\n",
      "        Row 1825 matches Row 13360,\tDemoiselle Crane:\t\tAnthropoides virgo/Grus virgo\n",
      "        Row 2011 matches Row 14282,\tSpot-tailed Nightjar:\t\tAntiurus maculicaudus/Hydropsalis maculicaudus\n",
      "        Row 2042 matches Row 26583,\tChestnut-headed Crake:\t\tAnurolimnas castaneiceps/Rufirallus castaneiceps\n",
      "        Row 2287 matches Row 7592,\tLemon Dove:\t\tAplopelia larvata/Columba larvata\n",
      "        Row 2804 matches Row 3652,\tSooty Flycatcher:\t\tArtomyias fuliginosa/Bradornis fuliginosus\n",
      "        Row 2807 matches Row 3665,\tUssher's Flycatcher:\t\tArtomyias ussheri/Bradornis ussheri\n",
      "        Row 3839 matches Row 13354,\tWattled Crane:\t\tBugeranus carunculatus/Grus carunculata\n",
      "        Row 3846 matches Row 3847,\tRed-billed Oxpecker:\t\tBuphagus erythroryncha/Buphagus erythrorynchus\n",
      "        Row 5720 matches Row 24611,\tCardinal Lory:\t\tChalcopsitta cardinalis/Pseudeos cardinalis\n",
      "        Row 5724 matches Row 24612,\tDusky Lory:\t\tChalcopsitta fuscata/Pseudeos fuscata\n",
      "        Row 5843 matches Row 28978,\tStriated Lorikeet:\t\tCharmosyna multistriata/Synorhacma multistriata\n",
      "        Row 7167 matches Row 14028,\tHooded Grosbeak:\t\tCoccothraustes abeillei/Hesperiphona abeillei\n",
      "        Row 7179 matches Row 14033,\tEvening Grosbeak:\t\tCoccothraustes vespertinus/Hesperiphona vespertina\n",
      "        Row 8027 matches Row 15464,\tYellow-billed Shrike:\t\tCorvinella corvina/Lanius corvinus\n",
      "        Row 9341 matches Row 22168,\tWhite-throated Caracara:\t\tDaptrius albogularis/Phalcoboenus albogularis\n",
      "        Row 9343 matches Row 22169,\tStriated Caracara:\t\tDaptrius australis/Phalcoboenus australis\n",
      "        Row 9344 matches Row 22170,\tCarunculated Caracara:\t\tDaptrius carunculatus/Phalcoboenus carunculatus\n",
      "        Row 9345 matches Row 18085,\tYellow-headed Caracara:\t\tDaptrius chimachima/Milvago chimachima\n",
      "        Row 9348 matches Row 18088,\tChimango Caracara:\t\tDaptrius chimango/Milvago chimango\n",
      "        Row 9351 matches Row 22171,\tMountain Caracara:\t\tDaptrius megalopterus/Phalcoboenus megalopterus\n",
      "        Row 10167 matches Row 31760,\tRed-stained Woodpecker:\t\tDryobates affinis/Veniliornis affinis\n",
      "        Row 10172 matches Row 15977,\tWhite-headed Woodpecker:\t\tDryobates albolarvatus/Leuconotopicus albolarvatus\n",
      "        Row 10175 matches Row 15980,\tArizona Woodpecker:\t\tDryobates arizonae/Leuconotopicus arizonae\n",
      "        Row 10178 matches Row 15983,\tRed-cockaded Woodpecker:\t\tDryobates borealis/Leuconotopicus borealis\n",
      "        Row 10179 matches Row 31765,\tScarlet-backed Woodpecker:\t\tDryobates callonotus/Veniliornis callonotus\n",
      "        Row 10182 matches Row 31768,\tGolden-collared Woodpecker:\t\tDryobates cassini/Veniliornis cassini\n",
      "        Row 10187 matches Row 31769,\tChoco Woodpecker:\t\tDryobates chocoensis/Veniliornis chocoensis\n",
      "        Row 10188 matches Row 31770,\tYellow-vented Woodpecker:\t\tDryobates dignus/Veniliornis dignus\n",
      "        Row 10192 matches Row 31774,\tDot-fronted Woodpecker:\t\tDryobates frontalis/Veniliornis frontalis\n",
      "        Row 10193 matches Row 15984,\tSmoky-brown Woodpecker:\t\tDryobates fumigatus/Leuconotopicus fumigatus\n",
      "        Row 10199 matches Row 31775,\tRed-rumped Woodpecker:\t\tDryobates kirkii/Veniliornis kirkii\n",
      "        Row 10205 matches Row 31781,\tStriped Woodpecker:\t\tDryobates lignarius/Veniliornis lignarius\n",
      "        Row 10208 matches Row 31782,\tYellow-eared Woodpecker:\t\tDryobates maculifrons/Veniliornis maculifrons\n",
      "        Row 10223 matches Row 31783,\tCheckered Woodpecker:\t\tDryobates mixtus/Veniliornis mixtus\n",
      "        Row 10228 matches Row 31788,\tBar-bellied Woodpecker:\t\tDryobates nigriceps/Veniliornis nigriceps\n",
      "        Row 10233 matches Row 31792,\tLittle Woodpecker:\t\tDryobates passerinus/Veniliornis passerinus\n",
      "        Row 10255 matches Row 31802,\tBlood-colored Woodpecker:\t\tDryobates sanguineus/Veniliornis sanguineus\n",
      "        Row 10266 matches Row 31803,\tWhite-spotted Woodpecker:\t\tDryobates spilogaster/Veniliornis spilogaster\n",
      "        Row 10267 matches Row 15990,\tStrickland's Woodpecker:\t\tDryobates stricklandi/Leuconotopicus stricklandi\n",
      "        Row 10268 matches Row 15991,\tHairy Woodpecker:\t\tDryobates villosus/Leuconotopicus villosus\n",
      "        Row 10457 matches Row 23421,\tChestnut Wattle-eye:\t\tDyaphorophyia castanea/Platysteira castanea\n",
      "        Row 10458 matches Row 23432,\tWest African Wattle-eye:\t\tDyaphorophyia hormophora/Platysteira hormophora\n",
      "        Row 10459 matches Row 23439,\tWhite-spotted Wattle-eye:\t\tDyaphorophyia tonsa/Platysteira tonsa\n",
      "        Row 10892 matches Row 802,\tPlum-headed Finch:\t\tEmblema modesta/Aidemosyne modesta\n",
      "        Row 10894 matches Row 3408,\tStar Finch:\t\tEmblema ruficauda/Bathilda ruficauda\n",
      "        Row 10939 matches Row 13350,\tCrowned Slaty Flycatcher:\t\tEmpidonomus aurantioatrocristatus/Griseotyrannus aurantioatrocristatus\n",
      "        Row 10993 matches Row 30459,\tPale-yellow Robin:\t\tEopsaltria capito/Tregellasia capito\n",
      "        Row 10996 matches Row 25898,\tWhite-breasted Robin:\t\tEopsaltria georgiana/Quoyornis georgianus\n",
      "        Row 11000 matches Row 30462,\tWhite-faced Robin:\t\tEopsaltria leucops/Tregellasia leucops\n",
      "        Row 11011 matches Row 12670,\tBanded Yellow Robin:\t\tEopsaltria placens/Gennaeodryas placens\n",
      "        Row 12470 matches Row 2302,\tCalayan Rail:\t\tGallirallus calayanensis/Aptenorallus calayanensis\n",
      "        Row 12471 matches Row 11476,\tChestnut Rail:\t\tGallirallus castaneoventris/Eulabeornis castaneoventris\n",
      "        Row 12474 matches Row 14462,\tDieffenbach's Rail:\t\tGallirallus dieffenbachii/Hypotaenidia dieffenbachii\n",
      "        Row 12476 matches Row 4022,\tNew Caledonian Rail:\t\tGallirallus lafresnayanus/Cabalus lafresnayanus\n",
      "        Row 12477 matches Row 4023,\tChatham Islands Rail:\t\tGallirallus modestus/Cabalus modestus\n",
      "        Row 12478 matches Row 14464,\tOkinawa Rail:\t\tGallirallus okinawae/Hypotaenidia okinawae\n",
      "        Row 12479 matches Row 14465,\tGuam Rail:\t\tGallirallus owstoni/Hypotaenidia owstoni\n",
      "        Row 12480 matches Row 14466,\tTahiti Rail:\t\tGallirallus pacificus/Hypotaenidia pacifica\n",
      "        Row 12481 matches Row 14467,\tBuff-banded Rail:\t\tGallirallus philippensis/Hypotaenidia philippensis\n",
      "        Row 12503 matches Row 14488,\tBar-winged Rail:\t\tGallirallus poecilopterus/Hypotaenidia poeciloptera\n",
      "        Row 12504 matches Row 14489,\tRoviana Rail:\t\tGallirallus rovianae/Hypotaenidia rovianae\n",
      "        Row 12506 matches Row 14491,\tBarred Rail:\t\tGallirallus torquatus/Hypotaenidia torquata\n",
      "        Row 12512 matches Row 14497,\tWake Island Rail:\t\tGallirallus wakensis/Hypotaenidia wakensis\n",
      "        Row 12513 matches Row 13508,\tInvisible Rail:\t\tGallirallus wallacii/Habroptila wallacii\n",
      "        Row 12514 matches Row 14498,\tWoodford's Rail:\t\tGallirallus woodfordi/Hypotaenidia woodfordi\n",
      "        Row 13012 matches Row 28322,\tAustralian Pratincole:\t\tGlareola isabella/Stiltia isabella\n",
      "        Row 13126 matches Row 13139,\tBarred Honeyeater:\t\tGliciphila undulata/Glycifohia undulata\n",
      "        Row 13838 matches Row 1857,\tYellow-breasted Pipit:\t\tHemimacronyx chloris/Anthus chloris\n",
      "        Row 15647 matches Row 8275,\tSpeckled Rail:\t\tLaterallus notatus/Coturnicops notatus\n",
      "        Row 15652 matches Row 15651,\tDot-winged Crake:\t\tLaterallus spilopterus/Laterallus spiloptera\n",
      "        Row 17406 matches Row 26155,\tThick-billed Berrypecker:\t\tMelanocharis crassirostris/Rhamphocharis crassirostris\n",
      "        Row 17418 matches Row 26158,\tSpotted Berrypecker:\t\tMelanocharis piperata/Rhamphocharis piperata\n",
      "        Row 17453 matches Row 21672,\tWhite-rumped Robin:\t\tMelanodryas bimaculata/Peneothello bimaculata\n",
      "        Row 17456 matches Row 21675,\tSmoky Robin:\t\tMelanodryas cryptoleuca/Peneothello cryptoleuca\n",
      "        Row 17469 matches Row 21683,\tMangrove Robin:\t\tMelanodryas pulverulenta/Peneothello pulverulenta\n",
      "        Row 17474 matches Row 21688,\tWhite-winged Robin:\t\tMelanodryas sigillata/Peneothello sigillata\n",
      "        Row 17581 matches Row 29605,\tWhite-lined Honeyeater:\t\tMeliphaga albilineata/Territornis albilineata\n",
      "        Row 17582 matches Row 18018,\tScrub Honeyeater:\t\tMeliphaga albonotata/Microptilotis albonotatus\n",
      "        Row 17583 matches Row 18019,\tMimic Honeyeater:\t\tMeliphaga analoga/Microptilotis analogus\n",
      "        Row 17592 matches Row 20227,\tOrange-cheeked Honeyeater:\t\tMeliphaga chrysogenys/Oreornis chrysogenys\n",
      "        Row 17593 matches Row 18020,\tElegant Honeyeater:\t\tMeliphaga cinereifrons/Microptilotis cinereifrons\n",
      "        Row 17594 matches Row 18021,\tYellow-gaped Honeyeater:\t\tMeliphaga flavirictus/Microptilotis flavirictus\n",
      "        Row 17597 matches Row 29606,\tKimberley Honeyeater:\t\tMeliphaga fordiana/Territornis fordiana\n",
      "        Row 17598 matches Row 18024,\tGraceful Honeyeater:\t\tMeliphaga gracilis/Microptilotis gracilis\n",
      "        Row 17599 matches Row 18025,\tCryptic Honeyeater:\t\tMeliphaga imitatrix/Microptilotis imitatrix\n",
      "        Row 17608 matches Row 18027,\tForest Honeyeater:\t\tMeliphaga montana/Microptilotis montanus\n",
      "        Row 17618 matches Row 18030,\tMountain Honeyeater:\t\tMeliphaga orientalis/Microptilotis orientalis\n",
      "        Row 17622 matches Row 29607,\tStreak-breasted Honeyeater:\t\tMeliphaga reticulata/Territornis reticulata\n",
      "        Row 17623 matches Row 18034,\tTagula Honeyeater:\t\tMeliphaga vicina/Microptilotis vicina\n",
      "        Row 18066 matches Row 11709,\tPuff-backed Bulbul:\t\tMicrotarsus eutilotus/Euptilotus eutilotus\n",
      "        Row 18067 matches Row 3611,\tAndaman Bulbul:\t\tMicrotarsus fuscoflavescens/Brachypodius fuscoflavescens\n",
      "        Row 18068 matches Row 3612,\tBlack-headed Bulbul:\t\tMicrotarsus melanocephalos/Brachypodius melanocephalos\n",
      "        Row 18074 matches Row 3617,\tBlue-wattled Bulbul:\t\tMicrotarsus nieuwenhuisii/Brachypodius nieuwenhuisii\n",
      "        Row 18078 matches Row 23950,\tYellow-wattled Bulbul:\t\tMicrotarsus urostictus/Poliolophus urostictus\n",
      "        Row 19005 matches Row 3647,\tBöhm's Flycatcher:\t\tMyopornis boehmi/Bradornis boehmi\n",
      "        Row 20260 matches Row 19366,\tOrinoco Goose:\t\tOressochen jubatus/Neochen jubata\n",
      "        Row 20261 matches Row 5946,\tAndean Goose:\t\tOressochen melanopterus/Chloephaga melanoptera\n",
      "        Row 20880 matches Row 9688,\tThick-billed Flowerpecker:\t\tPachyglossa agilis/Dicaeum agile\n",
      "        Row 20892 matches Row 9717,\tYellow-vented Flowerpecker:\t\tPachyglossa chrysorrhea/Dicaeum chrysorrheum\n",
      "        Row 20895 matches Row 9734,\tBrown-backed Flowerpecker:\t\tPachyglossa everetti/Dicaeum everetti\n",
      "        Row 20898 matches Row 9782,\tYellow-bellied Flowerpecker:\t\tPachyglossa melanozantha/Dicaeum melanozanthum\n",
      "        Row 20899 matches Row 24364,\tOlive-backed Flowerpecker:\t\tPachyglossa olivacea/Prionochilus olivaceus\n",
      "        Row 20903 matches Row 9800,\tWhiskered Flowerpecker:\t\tPachyglossa propria/Dicaeum proprium\n",
      "        Row 20905 matches Row 23601,\tCompact Weaver:\t\tPachyphantes superciliosus/Ploceus superciliosus\n",
      "        Row 21793 matches Row 21130,\tPalawan Tit:\t\tPeriparus amabilis/Pardaliparus amabilis\n",
      "        Row 21816 matches Row 21131,\tElegant Tit:\t\tPeriparus elegans/Pardaliparus elegans\n",
      "        Row 21832 matches Row 21141,\tYellow-bellied Tit:\t\tPeriparus venustulus/Pardaliparus venustulus\n",
      "        Row 24158 matches Row 24161,\tRufous-sided Warbling Finch:\t\tPoospizopsis hypochondria/Poospizopsis hypocondria\n",
      "        Row 24892 matches Row 21258,\tPurple-crowned Lorikeet:\t\tPsitteuteles porphyrocephalus/Parvipsitta porphyrocephala\n",
      "        Row 24893 matches Row 21259,\tLittle Lorikeet:\t\tPsitteuteles pusillus/Parvipsitta pusilla\n",
      "        Row 25851 matches Row 29005,\tTschudi's Nightjar:\t\tQuechuavis decussata/Systellura decussata\n",
      "        Row 26024 matches Row 26021,\tBrazilian Tanager:\t\tRamphocelus bresilius/Ramphocelus bresilia\n",
      "        Row 26415 matches Row 29485,\tRosy-patched Bushshrike:\t\tRhodophoneus cruentus/Telophorus cruentus\n",
      "        Row 26564 matches Row 14929,\tSpectacled Bulbul:\t\tRubigula erythropthalmos/Ixodia erythropthalmos\n",
      "        Row 26579 matches Row 14930,\tScaly-breasted Bulbul:\t\tRubigula squamata/Ixodia squamata\n",
      "        Row 26586 matches Row 15629,\tBlack-banded Crake:\t\tRufirallus fasciatus/Laterallus fasciatus\n",
      "        Row 26587 matches Row 15642,\tRed-and-white Crake:\t\tRufirallus leucopyrrhus/Laterallus leucopyrrhus\n",
      "        Row 26588 matches Row 18035,\tOcellated Crake:\t\tRufirallus schomburgkii/Micropygia schomburgkii\n",
      "        Row 26594 matches Row 15653,\tRufous-faced Crake:\t\tRufirallus xenopterus/Laterallus xenopterus\n",
      "        Row 27705 matches Row 26204,\tDouble-banded Courser:\t\tSmutsornis africanus/Rhinoptilus africanus\n",
      "        Row 28758 matches Row 28757,\tDes Murs's Wiretail:\t\tSylviorthorhynchus desmursii/Sylviorthorhynchus desmurii\n",
      "        Row 29521 matches Row 27283,\tRoraiman Nightjar:\t\tTepuiornis whitelyi/Setopagis whitelyi\n",
      "        Row 29906 matches Row 5813,\tHooded Plover:\t\tThinornis cucullatus/Charadrius cucullatus\n",
      "        Row 29909 matches Row 5814,\tLittle Ringed Plover:\t\tThinornis dubius/Charadrius dubius\n",
      "        Row 29913 matches Row 5818,\tForbes's Plover:\t\tThinornis forbesi/Charadrius forbesi\n",
      "        Row 29914 matches Row 5823,\tBlack-fronted Dotterel:\t\tThinornis melanops/Charadrius melanops\n",
      "        Row 29915 matches Row 5827,\tShore Plover:\t\tThinornis novaeseelandiae/Charadrius novaeseelandiae\n",
      "        Row 29918 matches Row 5828,\tLong-billed Plover:\t\tThinornis placidus/Charadrius placidus\n",
      "        Row 29919 matches Row 5830,\tThree-banded Plover:\t\tThinornis tricollaris/Charadrius tricollaris\n",
      "        Row 30421 matches Row 30436,\tWestern Yellow-billed Barbet:\t\tTrachylaemus goffinii/Trachyphonus goffinii\n",
      "        Row 30424 matches Row 30442,\tEastern Yellow-billed Barbet:\t\tTrachylaemus purpuratus/Trachyphonus purpuratus\n",
      "        Row 30577 matches Row 11012,\tRed Lory:\t\tTrichoglossus borneus/Eos bornea\n",
      "        Row 30585 matches Row 13127,\tMusk Lorikeet:\t\tTrichoglossus concinnus/Glossopsitta concinna\n",
      "        Row 30586 matches Row 11015,\tBlack-winged Lory:\t\tTrichoglossus cyanogenius/Eos cyanogenia\n",
      "        Row 30588 matches Row 26810,\tSula Lorikeet:\t\tTrichoglossus flavoviridis/Saudareos flavoviridis\n",
      "        Row 30605 matches Row 11016,\tRed-and-blue Lory:\t\tTrichoglossus histrio/Eos histrio\n",
      "        Row 30609 matches Row 26811,\tIris Lorikeet:\t\tTrichoglossus iris/Saudareos iris\n",
      "        Row 30612 matches Row 26814,\tMindanao Lorikeet:\t\tTrichoglossus johnstoniae/Saudareos johnstoniae\n",
      "        Row 30613 matches Row 26815,\tYellow-cheeked Lorikeet:\t\tTrichoglossus meyeri/Saudareos meyeri\n",
      "        Row 30617 matches Row 26816,\tOrnate Lorikeet:\t\tTrichoglossus ornatus/Saudareos ornata\n",
      "        Row 30618 matches Row 11019,\tBlue-streaked Lory:\t\tTrichoglossus reticulatus/Eos reticulata\n",
      "        Row 30622 matches Row 11020,\tBlue-eared Lory:\t\tTrichoglossus semilarvatus/Eos semilarvata\n",
      "        Row 30623 matches Row 11021,\tViolet-necked Lory:\t\tTrichoglossus squamatus/Eos squamata\n",
      "        Row 31674 matches Row 15515,\tMagpie Shrike:\t\tUrolestes melanoleucus/Lanius melanoleucus\n",
      "        Row 31841 matches Row 5849,\tDuchess Lorikeet:\t\tVini margarethae/Charmosynoides margarethae\n",
      "2878\r"
     ]
    }
   ],
   "source": [
    "df = Combined_df\n",
    "# Slice the DataFrame to keep rows where only one column has an entry\n",
    "df = df[(df['commonName_Clements'].isna() & df['commonName_IOC'].notna()) | (df['commonName_Clements'].notna() & df['commonName_IOC'].isna())]\n",
    "\n",
    "print(len(df))\n",
    "\n",
    "# Initialize an empty list to store matching rows\n",
    "matching_rows = []\n",
    "i=0\n",
    "# Iterate through the DataFrame and compare values\n",
    "for index1, row1 in df.iterrows():\n",
    "    i+=1\n",
    "    print(i,end=\"\\r\")\n",
    "    for index2, row2 in df.iterrows():\n",
    "        # Check if the entries are not in the same row and are equal\n",
    "        if row1['commonName_Clements'] == row2['commonName_IOC'] and index1 != index2:\n",
    "            matching_rows.append((index1, row1, index2, row2))\n",
    "            print(f\"        Row {index1} matches Row {index2},\\t{row1['commonName_Clements']}:\\t\\t{row1['scientificName_Clements']}/{row2['scientificName_IOC']}\")\n",
    "\n",
    "\n",
    "            \n"
   ]
  },
  {
   "cell_type": "code",
   "execution_count": 129,
   "metadata": {},
   "outputs": [
    {
     "name": "stdout",
     "output_type": "stream",
     "text": [
      "        Row 1824 matches Row 13359\n",
      "commonName:\t\tBlue Crane\t\t\t\tBlue Crane\n",
      "scientificName:\t\tAnthropoides paradiseus\t\t\tGrus paradisea\n",
      "Family:\t\t\tGruidae\t\t\t\t\tGruidae\n",
      "One or both indices do not exist in the DataFrame.# Reset the index if needed\n",
      "        Row 1825 matches Row 13360\n",
      "commonName:\t\tDemoiselle Crane\t\t\t\tDemoiselle Crane\n",
      "scientificName:\t\tAnthropoides virgo\t\t\tGrus virgo\n",
      "Family:\t\t\tGruidae\t\t\t\t\tGruidae\n",
      "One or both indices do not exist in the DataFrame.# Reset the index if needed\n",
      "        Row 2011 matches Row 14282\n",
      "commonName:\t\tSpot-tailed Nightjar\t\t\t\tSpot-tailed Nightjar\n",
      "scientificName:\t\tAntiurus maculicaudus\t\t\tHydropsalis maculicaudus\n",
      "Family:\t\t\tCaprimulgidae\t\t\t\t\tCaprimulgidae\n",
      "One or both indices do not exist in the DataFrame.# Reset the index if needed\n",
      "        Row 2042 matches Row 26583\n",
      "commonName:\t\tChestnut-headed Crake\t\t\t\tChestnut-headed Crake\n",
      "scientificName:\t\tAnurolimnas castaneiceps\t\t\tRufirallus castaneiceps\n",
      "Family:\t\t\tRallidae\t\t\t\t\tRallidae\n"
     ]
    },
    {
     "name": "stderr",
     "output_type": "stream",
     "text": [
      "C:\\Users\\Walter\\AppData\\Local\\Temp\\ipykernel_9144\\3454993490.py:24: SettingWithCopyWarning: \n",
      "A value is trying to be set on a copy of a slice from a DataFrame\n",
      "\n",
      "See the caveats in the documentation: https://pandas.pydata.org/pandas-docs/stable/user_guide/indexing.html#returning-a-view-versus-a-copy\n",
      "  Combined_df.drop(match[2], inplace=True)\n"
     ]
    },
    {
     "name": "stdout",
     "output_type": "stream",
     "text": [
      "true\n",
      "        Row 2287 matches Row 7592\n",
      "commonName:\t\tLemon Dove\t\t\t\tLemon Dove\n",
      "scientificName:\t\tAplopelia larvata\t\t\tColumba larvata\n",
      "Family:\t\t\tColumbidae\t\t\t\t\tColumbidae\n"
     ]
    },
    {
     "name": "stderr",
     "output_type": "stream",
     "text": [
      "C:\\Users\\Walter\\AppData\\Local\\Temp\\ipykernel_9144\\3454993490.py:24: SettingWithCopyWarning: \n",
      "A value is trying to be set on a copy of a slice from a DataFrame\n",
      "\n",
      "See the caveats in the documentation: https://pandas.pydata.org/pandas-docs/stable/user_guide/indexing.html#returning-a-view-versus-a-copy\n",
      "  Combined_df.drop(match[2], inplace=True)\n"
     ]
    },
    {
     "name": "stdout",
     "output_type": "stream",
     "text": [
      "true\n",
      "        Row 2804 matches Row 3652\n",
      "commonName:\t\tSooty Flycatcher\t\t\t\tSooty Flycatcher\n",
      "scientificName:\t\tArtomyias fuliginosa\t\t\tBradornis fuliginosus\n",
      "Family:\t\t\tMuscicapidae\t\t\t\t\tMuscicapidae\n"
     ]
    },
    {
     "name": "stderr",
     "output_type": "stream",
     "text": [
      "C:\\Users\\Walter\\AppData\\Local\\Temp\\ipykernel_9144\\3454993490.py:24: SettingWithCopyWarning: \n",
      "A value is trying to be set on a copy of a slice from a DataFrame\n",
      "\n",
      "See the caveats in the documentation: https://pandas.pydata.org/pandas-docs/stable/user_guide/indexing.html#returning-a-view-versus-a-copy\n",
      "  Combined_df.drop(match[2], inplace=True)\n"
     ]
    },
    {
     "name": "stdout",
     "output_type": "stream",
     "text": [
      "true\n",
      "        Row 2807 matches Row 3665\n",
      "commonName:\t\tUssher's Flycatcher\t\t\t\tUssher's Flycatcher\n",
      "scientificName:\t\tArtomyias ussheri\t\t\tBradornis ussheri\n",
      "Family:\t\t\tMuscicapidae\t\t\t\t\tMuscicapidae\n"
     ]
    },
    {
     "name": "stderr",
     "output_type": "stream",
     "text": [
      "C:\\Users\\Walter\\AppData\\Local\\Temp\\ipykernel_9144\\3454993490.py:24: SettingWithCopyWarning: \n",
      "A value is trying to be set on a copy of a slice from a DataFrame\n",
      "\n",
      "See the caveats in the documentation: https://pandas.pydata.org/pandas-docs/stable/user_guide/indexing.html#returning-a-view-versus-a-copy\n",
      "  Combined_df.drop(match[2], inplace=True)\n"
     ]
    },
    {
     "name": "stdout",
     "output_type": "stream",
     "text": [
      "true\n",
      "        Row 3839 matches Row 13354\n",
      "commonName:\t\tWattled Crane\t\t\t\tWattled Crane\n",
      "scientificName:\t\tBugeranus carunculatus\t\t\tGrus carunculata\n",
      "Family:\t\t\tGruidae\t\t\t\t\tGruidae\n"
     ]
    },
    {
     "name": "stderr",
     "output_type": "stream",
     "text": [
      "C:\\Users\\Walter\\AppData\\Local\\Temp\\ipykernel_9144\\3454993490.py:24: SettingWithCopyWarning: \n",
      "A value is trying to be set on a copy of a slice from a DataFrame\n",
      "\n",
      "See the caveats in the documentation: https://pandas.pydata.org/pandas-docs/stable/user_guide/indexing.html#returning-a-view-versus-a-copy\n",
      "  Combined_df.drop(match[2], inplace=True)\n"
     ]
    },
    {
     "name": "stdout",
     "output_type": "stream",
     "text": [
      "true\n",
      "        Row 3846 matches Row 3847\n",
      "commonName:\t\tRed-billed Oxpecker\t\t\t\tRed-billed Oxpecker\n",
      "scientificName:\t\tBuphagus erythroryncha\t\t\tBuphagus erythrorynchus\n",
      "Family:\t\t\tBuphagidae\t\t\t\t\tBuphagidae\n"
     ]
    },
    {
     "name": "stderr",
     "output_type": "stream",
     "text": [
      "C:\\Users\\Walter\\AppData\\Local\\Temp\\ipykernel_9144\\3454993490.py:24: SettingWithCopyWarning: \n",
      "A value is trying to be set on a copy of a slice from a DataFrame\n",
      "\n",
      "See the caveats in the documentation: https://pandas.pydata.org/pandas-docs/stable/user_guide/indexing.html#returning-a-view-versus-a-copy\n",
      "  Combined_df.drop(match[2], inplace=True)\n"
     ]
    },
    {
     "name": "stdout",
     "output_type": "stream",
     "text": [
      "true\n",
      "        Row 5720 matches Row 24611\n",
      "commonName:\t\tCardinal Lory\t\t\t\tCardinal Lory\n",
      "scientificName:\t\tChalcopsitta cardinalis\t\t\tPseudeos cardinalis\n",
      "Family:\t\t\tPsittaculidae\t\t\t\t\tPsittaculidae\n"
     ]
    },
    {
     "name": "stderr",
     "output_type": "stream",
     "text": [
      "C:\\Users\\Walter\\AppData\\Local\\Temp\\ipykernel_9144\\3454993490.py:24: SettingWithCopyWarning: \n",
      "A value is trying to be set on a copy of a slice from a DataFrame\n",
      "\n",
      "See the caveats in the documentation: https://pandas.pydata.org/pandas-docs/stable/user_guide/indexing.html#returning-a-view-versus-a-copy\n",
      "  Combined_df.drop(match[2], inplace=True)\n"
     ]
    },
    {
     "name": "stdout",
     "output_type": "stream",
     "text": [
      "true\n",
      "        Row 5724 matches Row 24612\n",
      "commonName:\t\tDusky Lory\t\t\t\tDusky Lory\n",
      "scientificName:\t\tChalcopsitta fuscata\t\t\tPseudeos fuscata\n",
      "Family:\t\t\tPsittaculidae\t\t\t\t\tPsittaculidae\n"
     ]
    },
    {
     "name": "stderr",
     "output_type": "stream",
     "text": [
      "C:\\Users\\Walter\\AppData\\Local\\Temp\\ipykernel_9144\\3454993490.py:24: SettingWithCopyWarning: \n",
      "A value is trying to be set on a copy of a slice from a DataFrame\n",
      "\n",
      "See the caveats in the documentation: https://pandas.pydata.org/pandas-docs/stable/user_guide/indexing.html#returning-a-view-versus-a-copy\n",
      "  Combined_df.drop(match[2], inplace=True)\n"
     ]
    },
    {
     "name": "stdout",
     "output_type": "stream",
     "text": [
      "true\n",
      "        Row 5843 matches Row 28978\n",
      "commonName:\t\tStriated Lorikeet\t\t\t\tStriated Lorikeet\n",
      "scientificName:\t\tCharmosyna multistriata\t\t\tSynorhacma multistriata\n",
      "Family:\t\t\tPsittaculidae\t\t\t\t\tPsittaculidae\n"
     ]
    },
    {
     "name": "stderr",
     "output_type": "stream",
     "text": [
      "C:\\Users\\Walter\\AppData\\Local\\Temp\\ipykernel_9144\\3454993490.py:24: SettingWithCopyWarning: \n",
      "A value is trying to be set on a copy of a slice from a DataFrame\n",
      "\n",
      "See the caveats in the documentation: https://pandas.pydata.org/pandas-docs/stable/user_guide/indexing.html#returning-a-view-versus-a-copy\n",
      "  Combined_df.drop(match[2], inplace=True)\n"
     ]
    },
    {
     "name": "stdout",
     "output_type": "stream",
     "text": [
      "true\n",
      "        Row 7167 matches Row 14028\n",
      "commonName:\t\tHooded Grosbeak\t\t\t\tHooded Grosbeak\n",
      "scientificName:\t\tCoccothraustes abeillei\t\t\tHesperiphona abeillei\n",
      "Family:\t\t\tFringillidae\t\t\t\t\tFringillidae\n"
     ]
    },
    {
     "name": "stderr",
     "output_type": "stream",
     "text": [
      "C:\\Users\\Walter\\AppData\\Local\\Temp\\ipykernel_9144\\3454993490.py:24: SettingWithCopyWarning: \n",
      "A value is trying to be set on a copy of a slice from a DataFrame\n",
      "\n",
      "See the caveats in the documentation: https://pandas.pydata.org/pandas-docs/stable/user_guide/indexing.html#returning-a-view-versus-a-copy\n",
      "  Combined_df.drop(match[2], inplace=True)\n"
     ]
    },
    {
     "name": "stdout",
     "output_type": "stream",
     "text": [
      "true\n",
      "        Row 7179 matches Row 14033\n",
      "commonName:\t\tEvening Grosbeak\t\t\t\tEvening Grosbeak\n",
      "scientificName:\t\tCoccothraustes vespertinus\t\t\tHesperiphona vespertina\n",
      "Family:\t\t\tFringillidae\t\t\t\t\tFringillidae\n"
     ]
    },
    {
     "name": "stderr",
     "output_type": "stream",
     "text": [
      "C:\\Users\\Walter\\AppData\\Local\\Temp\\ipykernel_9144\\3454993490.py:24: SettingWithCopyWarning: \n",
      "A value is trying to be set on a copy of a slice from a DataFrame\n",
      "\n",
      "See the caveats in the documentation: https://pandas.pydata.org/pandas-docs/stable/user_guide/indexing.html#returning-a-view-versus-a-copy\n",
      "  Combined_df.drop(match[2], inplace=True)\n"
     ]
    },
    {
     "name": "stdout",
     "output_type": "stream",
     "text": [
      "true\n",
      "        Row 8027 matches Row 15464\n",
      "commonName:\t\tYellow-billed Shrike\t\t\t\tYellow-billed Shrike\n",
      "scientificName:\t\tCorvinella corvina\t\t\tLanius corvinus\n",
      "Family:\t\t\tLaniidae\t\t\t\t\tLaniidae\n"
     ]
    },
    {
     "name": "stderr",
     "output_type": "stream",
     "text": [
      "C:\\Users\\Walter\\AppData\\Local\\Temp\\ipykernel_9144\\3454993490.py:24: SettingWithCopyWarning: \n",
      "A value is trying to be set on a copy of a slice from a DataFrame\n",
      "\n",
      "See the caveats in the documentation: https://pandas.pydata.org/pandas-docs/stable/user_guide/indexing.html#returning-a-view-versus-a-copy\n",
      "  Combined_df.drop(match[2], inplace=True)\n"
     ]
    },
    {
     "name": "stdout",
     "output_type": "stream",
     "text": [
      "true\n",
      "        Row 9341 matches Row 22168\n",
      "commonName:\t\tWhite-throated Caracara\t\t\t\tWhite-throated Caracara\n",
      "scientificName:\t\tDaptrius albogularis\t\t\tPhalcoboenus albogularis\n",
      "Family:\t\t\tFalconidae\t\t\t\t\tFalconidae\n"
     ]
    },
    {
     "name": "stderr",
     "output_type": "stream",
     "text": [
      "C:\\Users\\Walter\\AppData\\Local\\Temp\\ipykernel_9144\\3454993490.py:24: SettingWithCopyWarning: \n",
      "A value is trying to be set on a copy of a slice from a DataFrame\n",
      "\n",
      "See the caveats in the documentation: https://pandas.pydata.org/pandas-docs/stable/user_guide/indexing.html#returning-a-view-versus-a-copy\n",
      "  Combined_df.drop(match[2], inplace=True)\n"
     ]
    },
    {
     "name": "stdout",
     "output_type": "stream",
     "text": [
      "true\n",
      "        Row 9343 matches Row 22169\n",
      "commonName:\t\tStriated Caracara\t\t\t\tStriated Caracara\n",
      "scientificName:\t\tDaptrius australis\t\t\tPhalcoboenus australis\n",
      "Family:\t\t\tFalconidae\t\t\t\t\tFalconidae\n"
     ]
    },
    {
     "name": "stderr",
     "output_type": "stream",
     "text": [
      "C:\\Users\\Walter\\AppData\\Local\\Temp\\ipykernel_9144\\3454993490.py:24: SettingWithCopyWarning: \n",
      "A value is trying to be set on a copy of a slice from a DataFrame\n",
      "\n",
      "See the caveats in the documentation: https://pandas.pydata.org/pandas-docs/stable/user_guide/indexing.html#returning-a-view-versus-a-copy\n",
      "  Combined_df.drop(match[2], inplace=True)\n"
     ]
    },
    {
     "name": "stdout",
     "output_type": "stream",
     "text": [
      "true\n",
      "        Row 9344 matches Row 22170\n",
      "commonName:\t\tCarunculated Caracara\t\t\t\tCarunculated Caracara\n",
      "scientificName:\t\tDaptrius carunculatus\t\t\tPhalcoboenus carunculatus\n",
      "Family:\t\t\tFalconidae\t\t\t\t\tFalconidae\n"
     ]
    },
    {
     "name": "stderr",
     "output_type": "stream",
     "text": [
      "C:\\Users\\Walter\\AppData\\Local\\Temp\\ipykernel_9144\\3454993490.py:24: SettingWithCopyWarning: \n",
      "A value is trying to be set on a copy of a slice from a DataFrame\n",
      "\n",
      "See the caveats in the documentation: https://pandas.pydata.org/pandas-docs/stable/user_guide/indexing.html#returning-a-view-versus-a-copy\n",
      "  Combined_df.drop(match[2], inplace=True)\n"
     ]
    },
    {
     "name": "stdout",
     "output_type": "stream",
     "text": [
      "true\n",
      "        Row 9345 matches Row 18085\n",
      "commonName:\t\tYellow-headed Caracara\t\t\t\tYellow-headed Caracara\n",
      "scientificName:\t\tDaptrius chimachima\t\t\tMilvago chimachima\n",
      "Family:\t\t\tFalconidae\t\t\t\t\tFalconidae\n"
     ]
    },
    {
     "name": "stderr",
     "output_type": "stream",
     "text": [
      "C:\\Users\\Walter\\AppData\\Local\\Temp\\ipykernel_9144\\3454993490.py:24: SettingWithCopyWarning: \n",
      "A value is trying to be set on a copy of a slice from a DataFrame\n",
      "\n",
      "See the caveats in the documentation: https://pandas.pydata.org/pandas-docs/stable/user_guide/indexing.html#returning-a-view-versus-a-copy\n",
      "  Combined_df.drop(match[2], inplace=True)\n"
     ]
    },
    {
     "name": "stdout",
     "output_type": "stream",
     "text": [
      "true\n",
      "        Row 9348 matches Row 18088\n",
      "commonName:\t\tChimango Caracara\t\t\t\tChimango Caracara\n",
      "scientificName:\t\tDaptrius chimango\t\t\tMilvago chimango\n",
      "Family:\t\t\tFalconidae\t\t\t\t\tFalconidae\n"
     ]
    },
    {
     "name": "stderr",
     "output_type": "stream",
     "text": [
      "C:\\Users\\Walter\\AppData\\Local\\Temp\\ipykernel_9144\\3454993490.py:24: SettingWithCopyWarning: \n",
      "A value is trying to be set on a copy of a slice from a DataFrame\n",
      "\n",
      "See the caveats in the documentation: https://pandas.pydata.org/pandas-docs/stable/user_guide/indexing.html#returning-a-view-versus-a-copy\n",
      "  Combined_df.drop(match[2], inplace=True)\n"
     ]
    },
    {
     "name": "stdout",
     "output_type": "stream",
     "text": [
      "true\n",
      "        Row 9351 matches Row 22171\n",
      "commonName:\t\tMountain Caracara\t\t\t\tMountain Caracara\n",
      "scientificName:\t\tDaptrius megalopterus\t\t\tPhalcoboenus megalopterus\n",
      "Family:\t\t\tFalconidae\t\t\t\t\tFalconidae\n"
     ]
    },
    {
     "name": "stderr",
     "output_type": "stream",
     "text": [
      "C:\\Users\\Walter\\AppData\\Local\\Temp\\ipykernel_9144\\3454993490.py:24: SettingWithCopyWarning: \n",
      "A value is trying to be set on a copy of a slice from a DataFrame\n",
      "\n",
      "See the caveats in the documentation: https://pandas.pydata.org/pandas-docs/stable/user_guide/indexing.html#returning-a-view-versus-a-copy\n",
      "  Combined_df.drop(match[2], inplace=True)\n"
     ]
    },
    {
     "name": "stdout",
     "output_type": "stream",
     "text": [
      "true\n",
      "        Row 10167 matches Row 31760\n",
      "commonName:\t\tRed-stained Woodpecker\t\t\t\tRed-stained Woodpecker\n",
      "scientificName:\t\tDryobates affinis\t\t\tVeniliornis affinis\n",
      "Family:\t\t\tPicidae\t\t\t\t\tPicidae\n"
     ]
    },
    {
     "name": "stderr",
     "output_type": "stream",
     "text": [
      "C:\\Users\\Walter\\AppData\\Local\\Temp\\ipykernel_9144\\3454993490.py:24: SettingWithCopyWarning: \n",
      "A value is trying to be set on a copy of a slice from a DataFrame\n",
      "\n",
      "See the caveats in the documentation: https://pandas.pydata.org/pandas-docs/stable/user_guide/indexing.html#returning-a-view-versus-a-copy\n",
      "  Combined_df.drop(match[2], inplace=True)\n"
     ]
    },
    {
     "name": "stdout",
     "output_type": "stream",
     "text": [
      "true\n",
      "        Row 10172 matches Row 15977\n",
      "commonName:\t\tWhite-headed Woodpecker\t\t\t\tWhite-headed Woodpecker\n",
      "scientificName:\t\tDryobates albolarvatus\t\t\tLeuconotopicus albolarvatus\n",
      "Family:\t\t\tPicidae\t\t\t\t\tPicidae\n"
     ]
    },
    {
     "name": "stderr",
     "output_type": "stream",
     "text": [
      "C:\\Users\\Walter\\AppData\\Local\\Temp\\ipykernel_9144\\3454993490.py:24: SettingWithCopyWarning: \n",
      "A value is trying to be set on a copy of a slice from a DataFrame\n",
      "\n",
      "See the caveats in the documentation: https://pandas.pydata.org/pandas-docs/stable/user_guide/indexing.html#returning-a-view-versus-a-copy\n",
      "  Combined_df.drop(match[2], inplace=True)\n"
     ]
    },
    {
     "name": "stdout",
     "output_type": "stream",
     "text": [
      "true\n",
      "        Row 10175 matches Row 15980\n",
      "commonName:\t\tArizona Woodpecker\t\t\t\tArizona Woodpecker\n",
      "scientificName:\t\tDryobates arizonae\t\t\tLeuconotopicus arizonae\n",
      "Family:\t\t\tPicidae\t\t\t\t\tPicidae\n"
     ]
    },
    {
     "name": "stderr",
     "output_type": "stream",
     "text": [
      "C:\\Users\\Walter\\AppData\\Local\\Temp\\ipykernel_9144\\3454993490.py:24: SettingWithCopyWarning: \n",
      "A value is trying to be set on a copy of a slice from a DataFrame\n",
      "\n",
      "See the caveats in the documentation: https://pandas.pydata.org/pandas-docs/stable/user_guide/indexing.html#returning-a-view-versus-a-copy\n",
      "  Combined_df.drop(match[2], inplace=True)\n"
     ]
    },
    {
     "name": "stdout",
     "output_type": "stream",
     "text": [
      "true\n",
      "        Row 10178 matches Row 15983\n",
      "commonName:\t\tRed-cockaded Woodpecker\t\t\t\tRed-cockaded Woodpecker\n",
      "scientificName:\t\tDryobates borealis\t\t\tLeuconotopicus borealis\n",
      "Family:\t\t\tPicidae\t\t\t\t\tPicidae\n"
     ]
    },
    {
     "name": "stderr",
     "output_type": "stream",
     "text": [
      "C:\\Users\\Walter\\AppData\\Local\\Temp\\ipykernel_9144\\3454993490.py:24: SettingWithCopyWarning: \n",
      "A value is trying to be set on a copy of a slice from a DataFrame\n",
      "\n",
      "See the caveats in the documentation: https://pandas.pydata.org/pandas-docs/stable/user_guide/indexing.html#returning-a-view-versus-a-copy\n",
      "  Combined_df.drop(match[2], inplace=True)\n"
     ]
    },
    {
     "name": "stdout",
     "output_type": "stream",
     "text": [
      "true\n",
      "        Row 10179 matches Row 31765\n",
      "commonName:\t\tScarlet-backed Woodpecker\t\t\t\tScarlet-backed Woodpecker\n",
      "scientificName:\t\tDryobates callonotus\t\t\tVeniliornis callonotus\n",
      "Family:\t\t\tPicidae\t\t\t\t\tPicidae\n"
     ]
    },
    {
     "name": "stderr",
     "output_type": "stream",
     "text": [
      "C:\\Users\\Walter\\AppData\\Local\\Temp\\ipykernel_9144\\3454993490.py:24: SettingWithCopyWarning: \n",
      "A value is trying to be set on a copy of a slice from a DataFrame\n",
      "\n",
      "See the caveats in the documentation: https://pandas.pydata.org/pandas-docs/stable/user_guide/indexing.html#returning-a-view-versus-a-copy\n",
      "  Combined_df.drop(match[2], inplace=True)\n"
     ]
    },
    {
     "name": "stdout",
     "output_type": "stream",
     "text": [
      "true\n",
      "        Row 10182 matches Row 31768\n",
      "commonName:\t\tGolden-collared Woodpecker\t\t\t\tGolden-collared Woodpecker\n",
      "scientificName:\t\tDryobates cassini\t\t\tVeniliornis cassini\n",
      "Family:\t\t\tPicidae\t\t\t\t\tPicidae\n"
     ]
    },
    {
     "name": "stderr",
     "output_type": "stream",
     "text": [
      "C:\\Users\\Walter\\AppData\\Local\\Temp\\ipykernel_9144\\3454993490.py:24: SettingWithCopyWarning: \n",
      "A value is trying to be set on a copy of a slice from a DataFrame\n",
      "\n",
      "See the caveats in the documentation: https://pandas.pydata.org/pandas-docs/stable/user_guide/indexing.html#returning-a-view-versus-a-copy\n",
      "  Combined_df.drop(match[2], inplace=True)\n"
     ]
    },
    {
     "name": "stdout",
     "output_type": "stream",
     "text": [
      "true\n",
      "        Row 10187 matches Row 31769\n",
      "commonName:\t\tChoco Woodpecker\t\t\t\tChoco Woodpecker\n",
      "scientificName:\t\tDryobates chocoensis\t\t\tVeniliornis chocoensis\n",
      "Family:\t\t\tPicidae\t\t\t\t\tPicidae\n"
     ]
    },
    {
     "name": "stderr",
     "output_type": "stream",
     "text": [
      "C:\\Users\\Walter\\AppData\\Local\\Temp\\ipykernel_9144\\3454993490.py:24: SettingWithCopyWarning: \n",
      "A value is trying to be set on a copy of a slice from a DataFrame\n",
      "\n",
      "See the caveats in the documentation: https://pandas.pydata.org/pandas-docs/stable/user_guide/indexing.html#returning-a-view-versus-a-copy\n",
      "  Combined_df.drop(match[2], inplace=True)\n"
     ]
    },
    {
     "name": "stdout",
     "output_type": "stream",
     "text": [
      "true\n",
      "        Row 10188 matches Row 31770\n",
      "commonName:\t\tYellow-vented Woodpecker\t\t\t\tYellow-vented Woodpecker\n",
      "scientificName:\t\tDryobates dignus\t\t\tVeniliornis dignus\n",
      "Family:\t\t\tPicidae\t\t\t\t\tPicidae\n"
     ]
    },
    {
     "name": "stderr",
     "output_type": "stream",
     "text": [
      "C:\\Users\\Walter\\AppData\\Local\\Temp\\ipykernel_9144\\3454993490.py:24: SettingWithCopyWarning: \n",
      "A value is trying to be set on a copy of a slice from a DataFrame\n",
      "\n",
      "See the caveats in the documentation: https://pandas.pydata.org/pandas-docs/stable/user_guide/indexing.html#returning-a-view-versus-a-copy\n",
      "  Combined_df.drop(match[2], inplace=True)\n"
     ]
    },
    {
     "name": "stdout",
     "output_type": "stream",
     "text": [
      "true\n",
      "        Row 10192 matches Row 31774\n",
      "commonName:\t\tDot-fronted Woodpecker\t\t\t\tDot-fronted Woodpecker\n",
      "scientificName:\t\tDryobates frontalis\t\t\tVeniliornis frontalis\n",
      "Family:\t\t\tPicidae\t\t\t\t\tPicidae\n"
     ]
    },
    {
     "name": "stderr",
     "output_type": "stream",
     "text": [
      "C:\\Users\\Walter\\AppData\\Local\\Temp\\ipykernel_9144\\3454993490.py:24: SettingWithCopyWarning: \n",
      "A value is trying to be set on a copy of a slice from a DataFrame\n",
      "\n",
      "See the caveats in the documentation: https://pandas.pydata.org/pandas-docs/stable/user_guide/indexing.html#returning-a-view-versus-a-copy\n",
      "  Combined_df.drop(match[2], inplace=True)\n"
     ]
    },
    {
     "name": "stdout",
     "output_type": "stream",
     "text": [
      "true\n",
      "        Row 10193 matches Row 15984\n",
      "commonName:\t\tSmoky-brown Woodpecker\t\t\t\tSmoky-brown Woodpecker\n",
      "scientificName:\t\tDryobates fumigatus\t\t\tLeuconotopicus fumigatus\n",
      "Family:\t\t\tPicidae\t\t\t\t\tPicidae\n"
     ]
    },
    {
     "name": "stderr",
     "output_type": "stream",
     "text": [
      "C:\\Users\\Walter\\AppData\\Local\\Temp\\ipykernel_9144\\3454993490.py:24: SettingWithCopyWarning: \n",
      "A value is trying to be set on a copy of a slice from a DataFrame\n",
      "\n",
      "See the caveats in the documentation: https://pandas.pydata.org/pandas-docs/stable/user_guide/indexing.html#returning-a-view-versus-a-copy\n",
      "  Combined_df.drop(match[2], inplace=True)\n"
     ]
    },
    {
     "name": "stdout",
     "output_type": "stream",
     "text": [
      "true\n",
      "        Row 10199 matches Row 31775\n",
      "commonName:\t\tRed-rumped Woodpecker\t\t\t\tRed-rumped Woodpecker\n",
      "scientificName:\t\tDryobates kirkii\t\t\tVeniliornis kirkii\n",
      "Family:\t\t\tPicidae\t\t\t\t\tPicidae\n"
     ]
    },
    {
     "name": "stderr",
     "output_type": "stream",
     "text": [
      "C:\\Users\\Walter\\AppData\\Local\\Temp\\ipykernel_9144\\3454993490.py:24: SettingWithCopyWarning: \n",
      "A value is trying to be set on a copy of a slice from a DataFrame\n",
      "\n",
      "See the caveats in the documentation: https://pandas.pydata.org/pandas-docs/stable/user_guide/indexing.html#returning-a-view-versus-a-copy\n",
      "  Combined_df.drop(match[2], inplace=True)\n"
     ]
    },
    {
     "name": "stdout",
     "output_type": "stream",
     "text": [
      "true\n",
      "        Row 10205 matches Row 31781\n",
      "commonName:\t\tStriped Woodpecker\t\t\t\tStriped Woodpecker\n",
      "scientificName:\t\tDryobates lignarius\t\t\tVeniliornis lignarius\n",
      "Family:\t\t\tPicidae\t\t\t\t\tPicidae\n"
     ]
    },
    {
     "name": "stderr",
     "output_type": "stream",
     "text": [
      "C:\\Users\\Walter\\AppData\\Local\\Temp\\ipykernel_9144\\3454993490.py:24: SettingWithCopyWarning: \n",
      "A value is trying to be set on a copy of a slice from a DataFrame\n",
      "\n",
      "See the caveats in the documentation: https://pandas.pydata.org/pandas-docs/stable/user_guide/indexing.html#returning-a-view-versus-a-copy\n",
      "  Combined_df.drop(match[2], inplace=True)\n"
     ]
    },
    {
     "name": "stdout",
     "output_type": "stream",
     "text": [
      "true\n",
      "        Row 10208 matches Row 31782\n",
      "commonName:\t\tYellow-eared Woodpecker\t\t\t\tYellow-eared Woodpecker\n",
      "scientificName:\t\tDryobates maculifrons\t\t\tVeniliornis maculifrons\n",
      "Family:\t\t\tPicidae\t\t\t\t\tPicidae\n"
     ]
    },
    {
     "name": "stderr",
     "output_type": "stream",
     "text": [
      "C:\\Users\\Walter\\AppData\\Local\\Temp\\ipykernel_9144\\3454993490.py:24: SettingWithCopyWarning: \n",
      "A value is trying to be set on a copy of a slice from a DataFrame\n",
      "\n",
      "See the caveats in the documentation: https://pandas.pydata.org/pandas-docs/stable/user_guide/indexing.html#returning-a-view-versus-a-copy\n",
      "  Combined_df.drop(match[2], inplace=True)\n"
     ]
    },
    {
     "name": "stdout",
     "output_type": "stream",
     "text": [
      "true\n",
      "        Row 10223 matches Row 31783\n",
      "commonName:\t\tCheckered Woodpecker\t\t\t\tCheckered Woodpecker\n",
      "scientificName:\t\tDryobates mixtus\t\t\tVeniliornis mixtus\n",
      "Family:\t\t\tPicidae\t\t\t\t\tPicidae\n"
     ]
    },
    {
     "name": "stderr",
     "output_type": "stream",
     "text": [
      "C:\\Users\\Walter\\AppData\\Local\\Temp\\ipykernel_9144\\3454993490.py:24: SettingWithCopyWarning: \n",
      "A value is trying to be set on a copy of a slice from a DataFrame\n",
      "\n",
      "See the caveats in the documentation: https://pandas.pydata.org/pandas-docs/stable/user_guide/indexing.html#returning-a-view-versus-a-copy\n",
      "  Combined_df.drop(match[2], inplace=True)\n"
     ]
    },
    {
     "name": "stdout",
     "output_type": "stream",
     "text": [
      "true\n",
      "        Row 10228 matches Row 31788\n",
      "commonName:\t\tBar-bellied Woodpecker\t\t\t\tBar-bellied Woodpecker\n",
      "scientificName:\t\tDryobates nigriceps\t\t\tVeniliornis nigriceps\n",
      "Family:\t\t\tPicidae\t\t\t\t\tPicidae\n"
     ]
    },
    {
     "name": "stderr",
     "output_type": "stream",
     "text": [
      "C:\\Users\\Walter\\AppData\\Local\\Temp\\ipykernel_9144\\3454993490.py:24: SettingWithCopyWarning: \n",
      "A value is trying to be set on a copy of a slice from a DataFrame\n",
      "\n",
      "See the caveats in the documentation: https://pandas.pydata.org/pandas-docs/stable/user_guide/indexing.html#returning-a-view-versus-a-copy\n",
      "  Combined_df.drop(match[2], inplace=True)\n"
     ]
    },
    {
     "name": "stdout",
     "output_type": "stream",
     "text": [
      "true\n",
      "        Row 10233 matches Row 31792\n",
      "commonName:\t\tLittle Woodpecker\t\t\t\tLittle Woodpecker\n",
      "scientificName:\t\tDryobates passerinus\t\t\tVeniliornis passerinus\n",
      "Family:\t\t\tPicidae\t\t\t\t\tPicidae\n"
     ]
    },
    {
     "name": "stderr",
     "output_type": "stream",
     "text": [
      "C:\\Users\\Walter\\AppData\\Local\\Temp\\ipykernel_9144\\3454993490.py:24: SettingWithCopyWarning: \n",
      "A value is trying to be set on a copy of a slice from a DataFrame\n",
      "\n",
      "See the caveats in the documentation: https://pandas.pydata.org/pandas-docs/stable/user_guide/indexing.html#returning-a-view-versus-a-copy\n",
      "  Combined_df.drop(match[2], inplace=True)\n"
     ]
    },
    {
     "name": "stdout",
     "output_type": "stream",
     "text": [
      "true\n",
      "        Row 10255 matches Row 31802\n",
      "commonName:\t\tBlood-colored Woodpecker\t\t\t\tBlood-colored Woodpecker\n",
      "scientificName:\t\tDryobates sanguineus\t\t\tVeniliornis sanguineus\n",
      "Family:\t\t\tPicidae\t\t\t\t\tPicidae\n"
     ]
    },
    {
     "name": "stderr",
     "output_type": "stream",
     "text": [
      "C:\\Users\\Walter\\AppData\\Local\\Temp\\ipykernel_9144\\3454993490.py:24: SettingWithCopyWarning: \n",
      "A value is trying to be set on a copy of a slice from a DataFrame\n",
      "\n",
      "See the caveats in the documentation: https://pandas.pydata.org/pandas-docs/stable/user_guide/indexing.html#returning-a-view-versus-a-copy\n",
      "  Combined_df.drop(match[2], inplace=True)\n"
     ]
    },
    {
     "name": "stdout",
     "output_type": "stream",
     "text": [
      "true\n",
      "        Row 10266 matches Row 31803\n",
      "commonName:\t\tWhite-spotted Woodpecker\t\t\t\tWhite-spotted Woodpecker\n",
      "scientificName:\t\tDryobates spilogaster\t\t\tVeniliornis spilogaster\n",
      "Family:\t\t\tPicidae\t\t\t\t\tPicidae\n"
     ]
    },
    {
     "name": "stderr",
     "output_type": "stream",
     "text": [
      "C:\\Users\\Walter\\AppData\\Local\\Temp\\ipykernel_9144\\3454993490.py:24: SettingWithCopyWarning: \n",
      "A value is trying to be set on a copy of a slice from a DataFrame\n",
      "\n",
      "See the caveats in the documentation: https://pandas.pydata.org/pandas-docs/stable/user_guide/indexing.html#returning-a-view-versus-a-copy\n",
      "  Combined_df.drop(match[2], inplace=True)\n"
     ]
    },
    {
     "name": "stdout",
     "output_type": "stream",
     "text": [
      "true\n",
      "        Row 10267 matches Row 15990\n",
      "commonName:\t\tStrickland's Woodpecker\t\t\t\tStrickland's Woodpecker\n",
      "scientificName:\t\tDryobates stricklandi\t\t\tLeuconotopicus stricklandi\n",
      "Family:\t\t\tPicidae\t\t\t\t\tPicidae\n"
     ]
    },
    {
     "name": "stderr",
     "output_type": "stream",
     "text": [
      "C:\\Users\\Walter\\AppData\\Local\\Temp\\ipykernel_9144\\3454993490.py:24: SettingWithCopyWarning: \n",
      "A value is trying to be set on a copy of a slice from a DataFrame\n",
      "\n",
      "See the caveats in the documentation: https://pandas.pydata.org/pandas-docs/stable/user_guide/indexing.html#returning-a-view-versus-a-copy\n",
      "  Combined_df.drop(match[2], inplace=True)\n"
     ]
    },
    {
     "name": "stdout",
     "output_type": "stream",
     "text": [
      "true\n",
      "        Row 10268 matches Row 15991\n",
      "commonName:\t\tHairy Woodpecker\t\t\t\tHairy Woodpecker\n",
      "scientificName:\t\tDryobates villosus\t\t\tLeuconotopicus villosus\n",
      "Family:\t\t\tPicidae\t\t\t\t\tPicidae\n"
     ]
    },
    {
     "name": "stderr",
     "output_type": "stream",
     "text": [
      "C:\\Users\\Walter\\AppData\\Local\\Temp\\ipykernel_9144\\3454993490.py:24: SettingWithCopyWarning: \n",
      "A value is trying to be set on a copy of a slice from a DataFrame\n",
      "\n",
      "See the caveats in the documentation: https://pandas.pydata.org/pandas-docs/stable/user_guide/indexing.html#returning-a-view-versus-a-copy\n",
      "  Combined_df.drop(match[2], inplace=True)\n"
     ]
    },
    {
     "name": "stdout",
     "output_type": "stream",
     "text": [
      "true\n",
      "        Row 10457 matches Row 23421\n",
      "commonName:\t\tChestnut Wattle-eye\t\t\t\tChestnut Wattle-eye\n",
      "scientificName:\t\tDyaphorophyia castanea\t\t\tPlatysteira castanea\n",
      "Family:\t\t\tPlatysteiridae\t\t\t\t\tPlatysteiridae\n"
     ]
    },
    {
     "name": "stderr",
     "output_type": "stream",
     "text": [
      "C:\\Users\\Walter\\AppData\\Local\\Temp\\ipykernel_9144\\3454993490.py:24: SettingWithCopyWarning: \n",
      "A value is trying to be set on a copy of a slice from a DataFrame\n",
      "\n",
      "See the caveats in the documentation: https://pandas.pydata.org/pandas-docs/stable/user_guide/indexing.html#returning-a-view-versus-a-copy\n",
      "  Combined_df.drop(match[2], inplace=True)\n"
     ]
    },
    {
     "name": "stdout",
     "output_type": "stream",
     "text": [
      "true\n",
      "        Row 10458 matches Row 23432\n",
      "commonName:\t\tWest African Wattle-eye\t\t\t\tWest African Wattle-eye\n",
      "scientificName:\t\tDyaphorophyia hormophora\t\t\tPlatysteira hormophora\n",
      "Family:\t\t\tPlatysteiridae\t\t\t\t\tPlatysteiridae\n"
     ]
    },
    {
     "name": "stderr",
     "output_type": "stream",
     "text": [
      "C:\\Users\\Walter\\AppData\\Local\\Temp\\ipykernel_9144\\3454993490.py:24: SettingWithCopyWarning: \n",
      "A value is trying to be set on a copy of a slice from a DataFrame\n",
      "\n",
      "See the caveats in the documentation: https://pandas.pydata.org/pandas-docs/stable/user_guide/indexing.html#returning-a-view-versus-a-copy\n",
      "  Combined_df.drop(match[2], inplace=True)\n"
     ]
    },
    {
     "name": "stdout",
     "output_type": "stream",
     "text": [
      "true\n",
      "        Row 10459 matches Row 23439\n",
      "commonName:\t\tWhite-spotted Wattle-eye\t\t\t\tWhite-spotted Wattle-eye\n",
      "scientificName:\t\tDyaphorophyia tonsa\t\t\tPlatysteira tonsa\n",
      "Family:\t\t\tPlatysteiridae\t\t\t\t\tPlatysteiridae\n"
     ]
    },
    {
     "name": "stderr",
     "output_type": "stream",
     "text": [
      "C:\\Users\\Walter\\AppData\\Local\\Temp\\ipykernel_9144\\3454993490.py:24: SettingWithCopyWarning: \n",
      "A value is trying to be set on a copy of a slice from a DataFrame\n",
      "\n",
      "See the caveats in the documentation: https://pandas.pydata.org/pandas-docs/stable/user_guide/indexing.html#returning-a-view-versus-a-copy\n",
      "  Combined_df.drop(match[2], inplace=True)\n"
     ]
    },
    {
     "name": "stdout",
     "output_type": "stream",
     "text": [
      "true\n",
      "        Row 10892 matches Row 802\n",
      "commonName:\t\tPlum-headed Finch\t\t\t\tPlum-headed Finch\n",
      "scientificName:\t\tEmblema modesta\t\t\tAidemosyne modesta\n",
      "Family:\t\t\tEstrildidae\t\t\t\t\tEstrildidae\n"
     ]
    },
    {
     "name": "stderr",
     "output_type": "stream",
     "text": [
      "C:\\Users\\Walter\\AppData\\Local\\Temp\\ipykernel_9144\\3454993490.py:24: SettingWithCopyWarning: \n",
      "A value is trying to be set on a copy of a slice from a DataFrame\n",
      "\n",
      "See the caveats in the documentation: https://pandas.pydata.org/pandas-docs/stable/user_guide/indexing.html#returning-a-view-versus-a-copy\n",
      "  Combined_df.drop(match[2], inplace=True)\n"
     ]
    },
    {
     "name": "stdout",
     "output_type": "stream",
     "text": [
      "true\n",
      "        Row 10894 matches Row 3408\n",
      "commonName:\t\tStar Finch\t\t\t\tStar Finch\n",
      "scientificName:\t\tEmblema ruficauda\t\t\tBathilda ruficauda\n",
      "Family:\t\t\tEstrildidae\t\t\t\t\tEstrildidae\n"
     ]
    },
    {
     "name": "stderr",
     "output_type": "stream",
     "text": [
      "C:\\Users\\Walter\\AppData\\Local\\Temp\\ipykernel_9144\\3454993490.py:24: SettingWithCopyWarning: \n",
      "A value is trying to be set on a copy of a slice from a DataFrame\n",
      "\n",
      "See the caveats in the documentation: https://pandas.pydata.org/pandas-docs/stable/user_guide/indexing.html#returning-a-view-versus-a-copy\n",
      "  Combined_df.drop(match[2], inplace=True)\n"
     ]
    },
    {
     "name": "stdout",
     "output_type": "stream",
     "text": [
      "true\n",
      "        Row 10939 matches Row 13350\n",
      "commonName:\t\tCrowned Slaty Flycatcher\t\t\t\tCrowned Slaty Flycatcher\n",
      "scientificName:\t\tEmpidonomus aurantioatrocristatus\t\t\tGriseotyrannus aurantioatrocristatus\n",
      "Family:\t\t\tTyrannidae\t\t\t\t\tTyrannidae\n"
     ]
    },
    {
     "name": "stderr",
     "output_type": "stream",
     "text": [
      "C:\\Users\\Walter\\AppData\\Local\\Temp\\ipykernel_9144\\3454993490.py:24: SettingWithCopyWarning: \n",
      "A value is trying to be set on a copy of a slice from a DataFrame\n",
      "\n",
      "See the caveats in the documentation: https://pandas.pydata.org/pandas-docs/stable/user_guide/indexing.html#returning-a-view-versus-a-copy\n",
      "  Combined_df.drop(match[2], inplace=True)\n"
     ]
    },
    {
     "name": "stdout",
     "output_type": "stream",
     "text": [
      "true\n",
      "        Row 10993 matches Row 30459\n",
      "commonName:\t\tPale-yellow Robin\t\t\t\tPale-yellow Robin\n",
      "scientificName:\t\tEopsaltria capito\t\t\tTregellasia capito\n",
      "Family:\t\t\tPetroicidae\t\t\t\t\tPetroicidae\n"
     ]
    },
    {
     "name": "stderr",
     "output_type": "stream",
     "text": [
      "C:\\Users\\Walter\\AppData\\Local\\Temp\\ipykernel_9144\\3454993490.py:24: SettingWithCopyWarning: \n",
      "A value is trying to be set on a copy of a slice from a DataFrame\n",
      "\n",
      "See the caveats in the documentation: https://pandas.pydata.org/pandas-docs/stable/user_guide/indexing.html#returning-a-view-versus-a-copy\n",
      "  Combined_df.drop(match[2], inplace=True)\n"
     ]
    },
    {
     "name": "stdout",
     "output_type": "stream",
     "text": [
      "true\n",
      "        Row 10996 matches Row 25898\n",
      "commonName:\t\tWhite-breasted Robin\t\t\t\tWhite-breasted Robin\n",
      "scientificName:\t\tEopsaltria georgiana\t\t\tQuoyornis georgianus\n",
      "Family:\t\t\tPetroicidae\t\t\t\t\tPetroicidae\n"
     ]
    },
    {
     "name": "stderr",
     "output_type": "stream",
     "text": [
      "C:\\Users\\Walter\\AppData\\Local\\Temp\\ipykernel_9144\\3454993490.py:24: SettingWithCopyWarning: \n",
      "A value is trying to be set on a copy of a slice from a DataFrame\n",
      "\n",
      "See the caveats in the documentation: https://pandas.pydata.org/pandas-docs/stable/user_guide/indexing.html#returning-a-view-versus-a-copy\n",
      "  Combined_df.drop(match[2], inplace=True)\n"
     ]
    },
    {
     "name": "stdout",
     "output_type": "stream",
     "text": [
      "true\n",
      "        Row 11000 matches Row 30462\n",
      "commonName:\t\tWhite-faced Robin\t\t\t\tWhite-faced Robin\n",
      "scientificName:\t\tEopsaltria leucops\t\t\tTregellasia leucops\n",
      "Family:\t\t\tPetroicidae\t\t\t\t\tPetroicidae\n"
     ]
    },
    {
     "name": "stderr",
     "output_type": "stream",
     "text": [
      "C:\\Users\\Walter\\AppData\\Local\\Temp\\ipykernel_9144\\3454993490.py:24: SettingWithCopyWarning: \n",
      "A value is trying to be set on a copy of a slice from a DataFrame\n",
      "\n",
      "See the caveats in the documentation: https://pandas.pydata.org/pandas-docs/stable/user_guide/indexing.html#returning-a-view-versus-a-copy\n",
      "  Combined_df.drop(match[2], inplace=True)\n"
     ]
    },
    {
     "name": "stdout",
     "output_type": "stream",
     "text": [
      "true\n",
      "        Row 11011 matches Row 12670\n",
      "commonName:\t\tBanded Yellow Robin\t\t\t\tBanded Yellow Robin\n",
      "scientificName:\t\tEopsaltria placens\t\t\tGennaeodryas placens\n",
      "Family:\t\t\tPetroicidae\t\t\t\t\tPetroicidae\n"
     ]
    },
    {
     "name": "stderr",
     "output_type": "stream",
     "text": [
      "C:\\Users\\Walter\\AppData\\Local\\Temp\\ipykernel_9144\\3454993490.py:24: SettingWithCopyWarning: \n",
      "A value is trying to be set on a copy of a slice from a DataFrame\n",
      "\n",
      "See the caveats in the documentation: https://pandas.pydata.org/pandas-docs/stable/user_guide/indexing.html#returning-a-view-versus-a-copy\n",
      "  Combined_df.drop(match[2], inplace=True)\n"
     ]
    },
    {
     "name": "stdout",
     "output_type": "stream",
     "text": [
      "true\n",
      "        Row 12470 matches Row 2302\n",
      "commonName:\t\tCalayan Rail\t\t\t\tCalayan Rail\n",
      "scientificName:\t\tGallirallus calayanensis\t\t\tAptenorallus calayanensis\n",
      "Family:\t\t\tRallidae\t\t\t\t\tRallidae\n"
     ]
    },
    {
     "name": "stderr",
     "output_type": "stream",
     "text": [
      "C:\\Users\\Walter\\AppData\\Local\\Temp\\ipykernel_9144\\3454993490.py:24: SettingWithCopyWarning: \n",
      "A value is trying to be set on a copy of a slice from a DataFrame\n",
      "\n",
      "See the caveats in the documentation: https://pandas.pydata.org/pandas-docs/stable/user_guide/indexing.html#returning-a-view-versus-a-copy\n",
      "  Combined_df.drop(match[2], inplace=True)\n"
     ]
    },
    {
     "name": "stdout",
     "output_type": "stream",
     "text": [
      "true\n",
      "        Row 12471 matches Row 11476\n",
      "commonName:\t\tChestnut Rail\t\t\t\tChestnut Rail\n",
      "scientificName:\t\tGallirallus castaneoventris\t\t\tEulabeornis castaneoventris\n",
      "Family:\t\t\tRallidae\t\t\t\t\tRallidae\n"
     ]
    },
    {
     "name": "stderr",
     "output_type": "stream",
     "text": [
      "C:\\Users\\Walter\\AppData\\Local\\Temp\\ipykernel_9144\\3454993490.py:24: SettingWithCopyWarning: \n",
      "A value is trying to be set on a copy of a slice from a DataFrame\n",
      "\n",
      "See the caveats in the documentation: https://pandas.pydata.org/pandas-docs/stable/user_guide/indexing.html#returning-a-view-versus-a-copy\n",
      "  Combined_df.drop(match[2], inplace=True)\n"
     ]
    },
    {
     "name": "stdout",
     "output_type": "stream",
     "text": [
      "true\n",
      "        Row 12474 matches Row 14462\n",
      "commonName:\t\tDieffenbach's Rail\t\t\t\tDieffenbach's Rail\n",
      "scientificName:\t\tGallirallus dieffenbachii\t\t\tHypotaenidia dieffenbachii\n",
      "Family:\t\t\tRallidae\t\t\t\t\tRallidae\n"
     ]
    },
    {
     "name": "stderr",
     "output_type": "stream",
     "text": [
      "C:\\Users\\Walter\\AppData\\Local\\Temp\\ipykernel_9144\\3454993490.py:24: SettingWithCopyWarning: \n",
      "A value is trying to be set on a copy of a slice from a DataFrame\n",
      "\n",
      "See the caveats in the documentation: https://pandas.pydata.org/pandas-docs/stable/user_guide/indexing.html#returning-a-view-versus-a-copy\n",
      "  Combined_df.drop(match[2], inplace=True)\n"
     ]
    },
    {
     "name": "stdout",
     "output_type": "stream",
     "text": [
      "true\n",
      "        Row 12476 matches Row 4022\n",
      "commonName:\t\tNew Caledonian Rail\t\t\t\tNew Caledonian Rail\n",
      "scientificName:\t\tGallirallus lafresnayanus\t\t\tCabalus lafresnayanus\n",
      "Family:\t\t\tRallidae\t\t\t\t\tRallidae\n"
     ]
    },
    {
     "name": "stderr",
     "output_type": "stream",
     "text": [
      "C:\\Users\\Walter\\AppData\\Local\\Temp\\ipykernel_9144\\3454993490.py:24: SettingWithCopyWarning: \n",
      "A value is trying to be set on a copy of a slice from a DataFrame\n",
      "\n",
      "See the caveats in the documentation: https://pandas.pydata.org/pandas-docs/stable/user_guide/indexing.html#returning-a-view-versus-a-copy\n",
      "  Combined_df.drop(match[2], inplace=True)\n"
     ]
    },
    {
     "name": "stdout",
     "output_type": "stream",
     "text": [
      "true\n",
      "        Row 12477 matches Row 4023\n",
      "commonName:\t\tChatham Islands Rail\t\t\t\tChatham Islands Rail\n",
      "scientificName:\t\tGallirallus modestus\t\t\tCabalus modestus\n",
      "Family:\t\t\tRallidae\t\t\t\t\tRallidae\n"
     ]
    },
    {
     "name": "stderr",
     "output_type": "stream",
     "text": [
      "C:\\Users\\Walter\\AppData\\Local\\Temp\\ipykernel_9144\\3454993490.py:24: SettingWithCopyWarning: \n",
      "A value is trying to be set on a copy of a slice from a DataFrame\n",
      "\n",
      "See the caveats in the documentation: https://pandas.pydata.org/pandas-docs/stable/user_guide/indexing.html#returning-a-view-versus-a-copy\n",
      "  Combined_df.drop(match[2], inplace=True)\n"
     ]
    },
    {
     "name": "stdout",
     "output_type": "stream",
     "text": [
      "true\n",
      "        Row 12478 matches Row 14464\n",
      "commonName:\t\tOkinawa Rail\t\t\t\tOkinawa Rail\n",
      "scientificName:\t\tGallirallus okinawae\t\t\tHypotaenidia okinawae\n",
      "Family:\t\t\tRallidae\t\t\t\t\tRallidae\n"
     ]
    },
    {
     "name": "stderr",
     "output_type": "stream",
     "text": [
      "C:\\Users\\Walter\\AppData\\Local\\Temp\\ipykernel_9144\\3454993490.py:24: SettingWithCopyWarning: \n",
      "A value is trying to be set on a copy of a slice from a DataFrame\n",
      "\n",
      "See the caveats in the documentation: https://pandas.pydata.org/pandas-docs/stable/user_guide/indexing.html#returning-a-view-versus-a-copy\n",
      "  Combined_df.drop(match[2], inplace=True)\n"
     ]
    },
    {
     "name": "stdout",
     "output_type": "stream",
     "text": [
      "true\n",
      "        Row 12479 matches Row 14465\n",
      "commonName:\t\tGuam Rail\t\t\t\tGuam Rail\n",
      "scientificName:\t\tGallirallus owstoni\t\t\tHypotaenidia owstoni\n",
      "Family:\t\t\tRallidae\t\t\t\t\tRallidae\n"
     ]
    },
    {
     "name": "stderr",
     "output_type": "stream",
     "text": [
      "C:\\Users\\Walter\\AppData\\Local\\Temp\\ipykernel_9144\\3454993490.py:24: SettingWithCopyWarning: \n",
      "A value is trying to be set on a copy of a slice from a DataFrame\n",
      "\n",
      "See the caveats in the documentation: https://pandas.pydata.org/pandas-docs/stable/user_guide/indexing.html#returning-a-view-versus-a-copy\n",
      "  Combined_df.drop(match[2], inplace=True)\n"
     ]
    },
    {
     "name": "stdout",
     "output_type": "stream",
     "text": [
      "true\n",
      "        Row 12480 matches Row 14466\n",
      "commonName:\t\tTahiti Rail\t\t\t\tTahiti Rail\n",
      "scientificName:\t\tGallirallus pacificus\t\t\tHypotaenidia pacifica\n",
      "Family:\t\t\tRallidae\t\t\t\t\tRallidae\n"
     ]
    },
    {
     "name": "stderr",
     "output_type": "stream",
     "text": [
      "C:\\Users\\Walter\\AppData\\Local\\Temp\\ipykernel_9144\\3454993490.py:24: SettingWithCopyWarning: \n",
      "A value is trying to be set on a copy of a slice from a DataFrame\n",
      "\n",
      "See the caveats in the documentation: https://pandas.pydata.org/pandas-docs/stable/user_guide/indexing.html#returning-a-view-versus-a-copy\n",
      "  Combined_df.drop(match[2], inplace=True)\n"
     ]
    },
    {
     "name": "stdout",
     "output_type": "stream",
     "text": [
      "true\n",
      "        Row 12481 matches Row 14467\n",
      "commonName:\t\tBuff-banded Rail\t\t\t\tBuff-banded Rail\n",
      "scientificName:\t\tGallirallus philippensis\t\t\tHypotaenidia philippensis\n",
      "Family:\t\t\tRallidae\t\t\t\t\tRallidae\n"
     ]
    },
    {
     "name": "stderr",
     "output_type": "stream",
     "text": [
      "C:\\Users\\Walter\\AppData\\Local\\Temp\\ipykernel_9144\\3454993490.py:24: SettingWithCopyWarning: \n",
      "A value is trying to be set on a copy of a slice from a DataFrame\n",
      "\n",
      "See the caveats in the documentation: https://pandas.pydata.org/pandas-docs/stable/user_guide/indexing.html#returning-a-view-versus-a-copy\n",
      "  Combined_df.drop(match[2], inplace=True)\n"
     ]
    },
    {
     "name": "stdout",
     "output_type": "stream",
     "text": [
      "true\n",
      "        Row 12503 matches Row 14488\n",
      "commonName:\t\tBar-winged Rail\t\t\t\tBar-winged Rail\n",
      "scientificName:\t\tGallirallus poecilopterus\t\t\tHypotaenidia poeciloptera\n",
      "Family:\t\t\tRallidae\t\t\t\t\tRallidae\n"
     ]
    },
    {
     "name": "stderr",
     "output_type": "stream",
     "text": [
      "C:\\Users\\Walter\\AppData\\Local\\Temp\\ipykernel_9144\\3454993490.py:24: SettingWithCopyWarning: \n",
      "A value is trying to be set on a copy of a slice from a DataFrame\n",
      "\n",
      "See the caveats in the documentation: https://pandas.pydata.org/pandas-docs/stable/user_guide/indexing.html#returning-a-view-versus-a-copy\n",
      "  Combined_df.drop(match[2], inplace=True)\n"
     ]
    },
    {
     "name": "stdout",
     "output_type": "stream",
     "text": [
      "true\n",
      "        Row 12504 matches Row 14489\n",
      "commonName:\t\tRoviana Rail\t\t\t\tRoviana Rail\n",
      "scientificName:\t\tGallirallus rovianae\t\t\tHypotaenidia rovianae\n",
      "Family:\t\t\tRallidae\t\t\t\t\tRallidae\n"
     ]
    },
    {
     "name": "stderr",
     "output_type": "stream",
     "text": [
      "C:\\Users\\Walter\\AppData\\Local\\Temp\\ipykernel_9144\\3454993490.py:24: SettingWithCopyWarning: \n",
      "A value is trying to be set on a copy of a slice from a DataFrame\n",
      "\n",
      "See the caveats in the documentation: https://pandas.pydata.org/pandas-docs/stable/user_guide/indexing.html#returning-a-view-versus-a-copy\n",
      "  Combined_df.drop(match[2], inplace=True)\n"
     ]
    },
    {
     "name": "stdout",
     "output_type": "stream",
     "text": [
      "true\n",
      "        Row 12506 matches Row 14491\n",
      "commonName:\t\tBarred Rail\t\t\t\tBarred Rail\n",
      "scientificName:\t\tGallirallus torquatus\t\t\tHypotaenidia torquata\n",
      "Family:\t\t\tRallidae\t\t\t\t\tRallidae\n"
     ]
    },
    {
     "name": "stderr",
     "output_type": "stream",
     "text": [
      "C:\\Users\\Walter\\AppData\\Local\\Temp\\ipykernel_9144\\3454993490.py:24: SettingWithCopyWarning: \n",
      "A value is trying to be set on a copy of a slice from a DataFrame\n",
      "\n",
      "See the caveats in the documentation: https://pandas.pydata.org/pandas-docs/stable/user_guide/indexing.html#returning-a-view-versus-a-copy\n",
      "  Combined_df.drop(match[2], inplace=True)\n"
     ]
    },
    {
     "name": "stdout",
     "output_type": "stream",
     "text": [
      "true\n",
      "        Row 12512 matches Row 14497\n",
      "commonName:\t\tWake Island Rail\t\t\t\tWake Island Rail\n",
      "scientificName:\t\tGallirallus wakensis\t\t\tHypotaenidia wakensis\n",
      "Family:\t\t\tRallidae\t\t\t\t\tRallidae\n"
     ]
    },
    {
     "name": "stderr",
     "output_type": "stream",
     "text": [
      "C:\\Users\\Walter\\AppData\\Local\\Temp\\ipykernel_9144\\3454993490.py:24: SettingWithCopyWarning: \n",
      "A value is trying to be set on a copy of a slice from a DataFrame\n",
      "\n",
      "See the caveats in the documentation: https://pandas.pydata.org/pandas-docs/stable/user_guide/indexing.html#returning-a-view-versus-a-copy\n",
      "  Combined_df.drop(match[2], inplace=True)\n"
     ]
    },
    {
     "name": "stdout",
     "output_type": "stream",
     "text": [
      "true\n",
      "        Row 12513 matches Row 13508\n",
      "commonName:\t\tInvisible Rail\t\t\t\tInvisible Rail\n",
      "scientificName:\t\tGallirallus wallacii\t\t\tHabroptila wallacii\n",
      "Family:\t\t\tRallidae\t\t\t\t\tRallidae\n"
     ]
    },
    {
     "name": "stderr",
     "output_type": "stream",
     "text": [
      "C:\\Users\\Walter\\AppData\\Local\\Temp\\ipykernel_9144\\3454993490.py:24: SettingWithCopyWarning: \n",
      "A value is trying to be set on a copy of a slice from a DataFrame\n",
      "\n",
      "See the caveats in the documentation: https://pandas.pydata.org/pandas-docs/stable/user_guide/indexing.html#returning-a-view-versus-a-copy\n",
      "  Combined_df.drop(match[2], inplace=True)\n"
     ]
    },
    {
     "name": "stdout",
     "output_type": "stream",
     "text": [
      "true\n",
      "        Row 12514 matches Row 14498\n",
      "commonName:\t\tWoodford's Rail\t\t\t\tWoodford's Rail\n",
      "scientificName:\t\tGallirallus woodfordi\t\t\tHypotaenidia woodfordi\n",
      "Family:\t\t\tRallidae\t\t\t\t\tRallidae\n"
     ]
    },
    {
     "name": "stderr",
     "output_type": "stream",
     "text": [
      "C:\\Users\\Walter\\AppData\\Local\\Temp\\ipykernel_9144\\3454993490.py:24: SettingWithCopyWarning: \n",
      "A value is trying to be set on a copy of a slice from a DataFrame\n",
      "\n",
      "See the caveats in the documentation: https://pandas.pydata.org/pandas-docs/stable/user_guide/indexing.html#returning-a-view-versus-a-copy\n",
      "  Combined_df.drop(match[2], inplace=True)\n"
     ]
    },
    {
     "name": "stdout",
     "output_type": "stream",
     "text": [
      "true\n",
      "        Row 13012 matches Row 28322\n",
      "commonName:\t\tAustralian Pratincole\t\t\t\tAustralian Pratincole\n",
      "scientificName:\t\tGlareola isabella\t\t\tStiltia isabella\n",
      "Family:\t\t\tGlareolidae\t\t\t\t\tGlareolidae\n"
     ]
    },
    {
     "name": "stderr",
     "output_type": "stream",
     "text": [
      "C:\\Users\\Walter\\AppData\\Local\\Temp\\ipykernel_9144\\3454993490.py:24: SettingWithCopyWarning: \n",
      "A value is trying to be set on a copy of a slice from a DataFrame\n",
      "\n",
      "See the caveats in the documentation: https://pandas.pydata.org/pandas-docs/stable/user_guide/indexing.html#returning-a-view-versus-a-copy\n",
      "  Combined_df.drop(match[2], inplace=True)\n"
     ]
    },
    {
     "name": "stdout",
     "output_type": "stream",
     "text": [
      "true\n",
      "        Row 13126 matches Row 13139\n",
      "commonName:\t\tBarred Honeyeater\t\t\t\tBarred Honeyeater\n",
      "scientificName:\t\tGliciphila undulata\t\t\tGlycifohia undulata\n",
      "Family:\t\t\tMeliphagidae\t\t\t\t\tMeliphagidae\n"
     ]
    },
    {
     "name": "stderr",
     "output_type": "stream",
     "text": [
      "C:\\Users\\Walter\\AppData\\Local\\Temp\\ipykernel_9144\\3454993490.py:24: SettingWithCopyWarning: \n",
      "A value is trying to be set on a copy of a slice from a DataFrame\n",
      "\n",
      "See the caveats in the documentation: https://pandas.pydata.org/pandas-docs/stable/user_guide/indexing.html#returning-a-view-versus-a-copy\n",
      "  Combined_df.drop(match[2], inplace=True)\n"
     ]
    },
    {
     "name": "stdout",
     "output_type": "stream",
     "text": [
      "true\n",
      "        Row 13838 matches Row 1857\n",
      "commonName:\t\tYellow-breasted Pipit\t\t\t\tYellow-breasted Pipit\n",
      "scientificName:\t\tHemimacronyx chloris\t\t\tAnthus chloris\n",
      "Family:\t\t\tMotacillidae\t\t\t\t\tMotacillidae\n"
     ]
    },
    {
     "name": "stderr",
     "output_type": "stream",
     "text": [
      "C:\\Users\\Walter\\AppData\\Local\\Temp\\ipykernel_9144\\3454993490.py:24: SettingWithCopyWarning: \n",
      "A value is trying to be set on a copy of a slice from a DataFrame\n",
      "\n",
      "See the caveats in the documentation: https://pandas.pydata.org/pandas-docs/stable/user_guide/indexing.html#returning-a-view-versus-a-copy\n",
      "  Combined_df.drop(match[2], inplace=True)\n"
     ]
    },
    {
     "name": "stdout",
     "output_type": "stream",
     "text": [
      "true\n",
      "        Row 15647 matches Row 8275\n",
      "commonName:\t\tSpeckled Rail\t\t\t\tSpeckled Rail\n",
      "scientificName:\t\tLaterallus notatus\t\t\tCoturnicops notatus\n",
      "Family:\t\t\tRallidae\t\t\t\t\tRallidae\n"
     ]
    },
    {
     "name": "stderr",
     "output_type": "stream",
     "text": [
      "C:\\Users\\Walter\\AppData\\Local\\Temp\\ipykernel_9144\\3454993490.py:24: SettingWithCopyWarning: \n",
      "A value is trying to be set on a copy of a slice from a DataFrame\n",
      "\n",
      "See the caveats in the documentation: https://pandas.pydata.org/pandas-docs/stable/user_guide/indexing.html#returning-a-view-versus-a-copy\n",
      "  Combined_df.drop(match[2], inplace=True)\n"
     ]
    },
    {
     "name": "stdout",
     "output_type": "stream",
     "text": [
      "true\n",
      "        Row 15652 matches Row 15651\n",
      "commonName:\t\tDot-winged Crake\t\t\t\tDot-winged Crake\n",
      "scientificName:\t\tLaterallus spilopterus\t\t\tLaterallus spiloptera\n",
      "Family:\t\t\tRallidae\t\t\t\t\tRallidae\n"
     ]
    },
    {
     "name": "stderr",
     "output_type": "stream",
     "text": [
      "C:\\Users\\Walter\\AppData\\Local\\Temp\\ipykernel_9144\\3454993490.py:24: SettingWithCopyWarning: \n",
      "A value is trying to be set on a copy of a slice from a DataFrame\n",
      "\n",
      "See the caveats in the documentation: https://pandas.pydata.org/pandas-docs/stable/user_guide/indexing.html#returning-a-view-versus-a-copy\n",
      "  Combined_df.drop(match[2], inplace=True)\n"
     ]
    },
    {
     "name": "stdout",
     "output_type": "stream",
     "text": [
      "true\n",
      "        Row 17406 matches Row 26155\n",
      "commonName:\t\tThick-billed Berrypecker\t\t\t\tThick-billed Berrypecker\n",
      "scientificName:\t\tMelanocharis crassirostris\t\t\tRhamphocharis crassirostris\n",
      "Family:\t\t\tMelanocharitidae\t\t\t\t\tMelanocharitidae\n"
     ]
    },
    {
     "name": "stderr",
     "output_type": "stream",
     "text": [
      "C:\\Users\\Walter\\AppData\\Local\\Temp\\ipykernel_9144\\3454993490.py:24: SettingWithCopyWarning: \n",
      "A value is trying to be set on a copy of a slice from a DataFrame\n",
      "\n",
      "See the caveats in the documentation: https://pandas.pydata.org/pandas-docs/stable/user_guide/indexing.html#returning-a-view-versus-a-copy\n",
      "  Combined_df.drop(match[2], inplace=True)\n"
     ]
    },
    {
     "name": "stdout",
     "output_type": "stream",
     "text": [
      "true\n",
      "        Row 17418 matches Row 26158\n",
      "commonName:\t\tSpotted Berrypecker\t\t\t\tSpotted Berrypecker\n",
      "scientificName:\t\tMelanocharis piperata\t\t\tRhamphocharis piperata\n",
      "Family:\t\t\tMelanocharitidae\t\t\t\t\tMelanocharitidae\n"
     ]
    },
    {
     "name": "stderr",
     "output_type": "stream",
     "text": [
      "C:\\Users\\Walter\\AppData\\Local\\Temp\\ipykernel_9144\\3454993490.py:24: SettingWithCopyWarning: \n",
      "A value is trying to be set on a copy of a slice from a DataFrame\n",
      "\n",
      "See the caveats in the documentation: https://pandas.pydata.org/pandas-docs/stable/user_guide/indexing.html#returning-a-view-versus-a-copy\n",
      "  Combined_df.drop(match[2], inplace=True)\n"
     ]
    },
    {
     "name": "stdout",
     "output_type": "stream",
     "text": [
      "true\n",
      "        Row 17453 matches Row 21672\n",
      "commonName:\t\tWhite-rumped Robin\t\t\t\tWhite-rumped Robin\n",
      "scientificName:\t\tMelanodryas bimaculata\t\t\tPeneothello bimaculata\n",
      "Family:\t\t\tPetroicidae\t\t\t\t\tPetroicidae\n"
     ]
    },
    {
     "name": "stderr",
     "output_type": "stream",
     "text": [
      "C:\\Users\\Walter\\AppData\\Local\\Temp\\ipykernel_9144\\3454993490.py:24: SettingWithCopyWarning: \n",
      "A value is trying to be set on a copy of a slice from a DataFrame\n",
      "\n",
      "See the caveats in the documentation: https://pandas.pydata.org/pandas-docs/stable/user_guide/indexing.html#returning-a-view-versus-a-copy\n",
      "  Combined_df.drop(match[2], inplace=True)\n"
     ]
    },
    {
     "name": "stdout",
     "output_type": "stream",
     "text": [
      "true\n",
      "        Row 17456 matches Row 21675\n",
      "commonName:\t\tSmoky Robin\t\t\t\tSmoky Robin\n",
      "scientificName:\t\tMelanodryas cryptoleuca\t\t\tPeneothello cryptoleuca\n",
      "Family:\t\t\tPetroicidae\t\t\t\t\tPetroicidae\n"
     ]
    },
    {
     "name": "stderr",
     "output_type": "stream",
     "text": [
      "C:\\Users\\Walter\\AppData\\Local\\Temp\\ipykernel_9144\\3454993490.py:24: SettingWithCopyWarning: \n",
      "A value is trying to be set on a copy of a slice from a DataFrame\n",
      "\n",
      "See the caveats in the documentation: https://pandas.pydata.org/pandas-docs/stable/user_guide/indexing.html#returning-a-view-versus-a-copy\n",
      "  Combined_df.drop(match[2], inplace=True)\n"
     ]
    },
    {
     "name": "stdout",
     "output_type": "stream",
     "text": [
      "true\n",
      "        Row 17469 matches Row 21683\n",
      "commonName:\t\tMangrove Robin\t\t\t\tMangrove Robin\n",
      "scientificName:\t\tMelanodryas pulverulenta\t\t\tPeneothello pulverulenta\n",
      "Family:\t\t\tPetroicidae\t\t\t\t\tPetroicidae\n"
     ]
    },
    {
     "name": "stderr",
     "output_type": "stream",
     "text": [
      "C:\\Users\\Walter\\AppData\\Local\\Temp\\ipykernel_9144\\3454993490.py:24: SettingWithCopyWarning: \n",
      "A value is trying to be set on a copy of a slice from a DataFrame\n",
      "\n",
      "See the caveats in the documentation: https://pandas.pydata.org/pandas-docs/stable/user_guide/indexing.html#returning-a-view-versus-a-copy\n",
      "  Combined_df.drop(match[2], inplace=True)\n"
     ]
    },
    {
     "name": "stdout",
     "output_type": "stream",
     "text": [
      "true\n",
      "        Row 17474 matches Row 21688\n",
      "commonName:\t\tWhite-winged Robin\t\t\t\tWhite-winged Robin\n",
      "scientificName:\t\tMelanodryas sigillata\t\t\tPeneothello sigillata\n",
      "Family:\t\t\tPetroicidae\t\t\t\t\tPetroicidae\n"
     ]
    },
    {
     "name": "stderr",
     "output_type": "stream",
     "text": [
      "C:\\Users\\Walter\\AppData\\Local\\Temp\\ipykernel_9144\\3454993490.py:24: SettingWithCopyWarning: \n",
      "A value is trying to be set on a copy of a slice from a DataFrame\n",
      "\n",
      "See the caveats in the documentation: https://pandas.pydata.org/pandas-docs/stable/user_guide/indexing.html#returning-a-view-versus-a-copy\n",
      "  Combined_df.drop(match[2], inplace=True)\n"
     ]
    },
    {
     "name": "stdout",
     "output_type": "stream",
     "text": [
      "true\n",
      "        Row 17581 matches Row 29605\n",
      "commonName:\t\tWhite-lined Honeyeater\t\t\t\tWhite-lined Honeyeater\n",
      "scientificName:\t\tMeliphaga albilineata\t\t\tTerritornis albilineata\n",
      "Family:\t\t\tMeliphagidae\t\t\t\t\tMeliphagidae\n"
     ]
    },
    {
     "name": "stderr",
     "output_type": "stream",
     "text": [
      "C:\\Users\\Walter\\AppData\\Local\\Temp\\ipykernel_9144\\3454993490.py:24: SettingWithCopyWarning: \n",
      "A value is trying to be set on a copy of a slice from a DataFrame\n",
      "\n",
      "See the caveats in the documentation: https://pandas.pydata.org/pandas-docs/stable/user_guide/indexing.html#returning-a-view-versus-a-copy\n",
      "  Combined_df.drop(match[2], inplace=True)\n"
     ]
    },
    {
     "name": "stdout",
     "output_type": "stream",
     "text": [
      "true\n",
      "        Row 17582 matches Row 18018\n",
      "commonName:\t\tScrub Honeyeater\t\t\t\tScrub Honeyeater\n",
      "scientificName:\t\tMeliphaga albonotata\t\t\tMicroptilotis albonotatus\n",
      "Family:\t\t\tMeliphagidae\t\t\t\t\tMeliphagidae\n"
     ]
    },
    {
     "name": "stderr",
     "output_type": "stream",
     "text": [
      "C:\\Users\\Walter\\AppData\\Local\\Temp\\ipykernel_9144\\3454993490.py:24: SettingWithCopyWarning: \n",
      "A value is trying to be set on a copy of a slice from a DataFrame\n",
      "\n",
      "See the caveats in the documentation: https://pandas.pydata.org/pandas-docs/stable/user_guide/indexing.html#returning-a-view-versus-a-copy\n",
      "  Combined_df.drop(match[2], inplace=True)\n"
     ]
    },
    {
     "name": "stdout",
     "output_type": "stream",
     "text": [
      "true\n",
      "        Row 17583 matches Row 18019\n",
      "commonName:\t\tMimic Honeyeater\t\t\t\tMimic Honeyeater\n",
      "scientificName:\t\tMeliphaga analoga\t\t\tMicroptilotis analogus\n",
      "Family:\t\t\tMeliphagidae\t\t\t\t\tMeliphagidae\n"
     ]
    },
    {
     "name": "stderr",
     "output_type": "stream",
     "text": [
      "C:\\Users\\Walter\\AppData\\Local\\Temp\\ipykernel_9144\\3454993490.py:24: SettingWithCopyWarning: \n",
      "A value is trying to be set on a copy of a slice from a DataFrame\n",
      "\n",
      "See the caveats in the documentation: https://pandas.pydata.org/pandas-docs/stable/user_guide/indexing.html#returning-a-view-versus-a-copy\n",
      "  Combined_df.drop(match[2], inplace=True)\n"
     ]
    },
    {
     "name": "stdout",
     "output_type": "stream",
     "text": [
      "true\n",
      "        Row 17592 matches Row 20227\n",
      "commonName:\t\tOrange-cheeked Honeyeater\t\t\t\tOrange-cheeked Honeyeater\n",
      "scientificName:\t\tMeliphaga chrysogenys\t\t\tOreornis chrysogenys\n",
      "Family:\t\t\tMeliphagidae\t\t\t\t\tMeliphagidae\n"
     ]
    },
    {
     "name": "stderr",
     "output_type": "stream",
     "text": [
      "C:\\Users\\Walter\\AppData\\Local\\Temp\\ipykernel_9144\\3454993490.py:24: SettingWithCopyWarning: \n",
      "A value is trying to be set on a copy of a slice from a DataFrame\n",
      "\n",
      "See the caveats in the documentation: https://pandas.pydata.org/pandas-docs/stable/user_guide/indexing.html#returning-a-view-versus-a-copy\n",
      "  Combined_df.drop(match[2], inplace=True)\n"
     ]
    },
    {
     "name": "stdout",
     "output_type": "stream",
     "text": [
      "true\n",
      "        Row 17593 matches Row 18020\n",
      "commonName:\t\tElegant Honeyeater\t\t\t\tElegant Honeyeater\n",
      "scientificName:\t\tMeliphaga cinereifrons\t\t\tMicroptilotis cinereifrons\n",
      "Family:\t\t\tMeliphagidae\t\t\t\t\tMeliphagidae\n"
     ]
    },
    {
     "name": "stderr",
     "output_type": "stream",
     "text": [
      "C:\\Users\\Walter\\AppData\\Local\\Temp\\ipykernel_9144\\3454993490.py:24: SettingWithCopyWarning: \n",
      "A value is trying to be set on a copy of a slice from a DataFrame\n",
      "\n",
      "See the caveats in the documentation: https://pandas.pydata.org/pandas-docs/stable/user_guide/indexing.html#returning-a-view-versus-a-copy\n",
      "  Combined_df.drop(match[2], inplace=True)\n"
     ]
    },
    {
     "name": "stdout",
     "output_type": "stream",
     "text": [
      "true\n",
      "        Row 17594 matches Row 18021\n",
      "commonName:\t\tYellow-gaped Honeyeater\t\t\t\tYellow-gaped Honeyeater\n",
      "scientificName:\t\tMeliphaga flavirictus\t\t\tMicroptilotis flavirictus\n",
      "Family:\t\t\tMeliphagidae\t\t\t\t\tMeliphagidae\n"
     ]
    },
    {
     "name": "stderr",
     "output_type": "stream",
     "text": [
      "C:\\Users\\Walter\\AppData\\Local\\Temp\\ipykernel_9144\\3454993490.py:24: SettingWithCopyWarning: \n",
      "A value is trying to be set on a copy of a slice from a DataFrame\n",
      "\n",
      "See the caveats in the documentation: https://pandas.pydata.org/pandas-docs/stable/user_guide/indexing.html#returning-a-view-versus-a-copy\n",
      "  Combined_df.drop(match[2], inplace=True)\n"
     ]
    },
    {
     "name": "stdout",
     "output_type": "stream",
     "text": [
      "true\n",
      "        Row 17597 matches Row 29606\n",
      "commonName:\t\tKimberley Honeyeater\t\t\t\tKimberley Honeyeater\n",
      "scientificName:\t\tMeliphaga fordiana\t\t\tTerritornis fordiana\n",
      "Family:\t\t\tMeliphagidae\t\t\t\t\tMeliphagidae\n"
     ]
    },
    {
     "name": "stderr",
     "output_type": "stream",
     "text": [
      "C:\\Users\\Walter\\AppData\\Local\\Temp\\ipykernel_9144\\3454993490.py:24: SettingWithCopyWarning: \n",
      "A value is trying to be set on a copy of a slice from a DataFrame\n",
      "\n",
      "See the caveats in the documentation: https://pandas.pydata.org/pandas-docs/stable/user_guide/indexing.html#returning-a-view-versus-a-copy\n",
      "  Combined_df.drop(match[2], inplace=True)\n"
     ]
    },
    {
     "name": "stdout",
     "output_type": "stream",
     "text": [
      "true\n",
      "        Row 17598 matches Row 18024\n",
      "commonName:\t\tGraceful Honeyeater\t\t\t\tGraceful Honeyeater\n",
      "scientificName:\t\tMeliphaga gracilis\t\t\tMicroptilotis gracilis\n",
      "Family:\t\t\tMeliphagidae\t\t\t\t\tMeliphagidae\n"
     ]
    },
    {
     "name": "stderr",
     "output_type": "stream",
     "text": [
      "C:\\Users\\Walter\\AppData\\Local\\Temp\\ipykernel_9144\\3454993490.py:24: SettingWithCopyWarning: \n",
      "A value is trying to be set on a copy of a slice from a DataFrame\n",
      "\n",
      "See the caveats in the documentation: https://pandas.pydata.org/pandas-docs/stable/user_guide/indexing.html#returning-a-view-versus-a-copy\n",
      "  Combined_df.drop(match[2], inplace=True)\n"
     ]
    },
    {
     "name": "stdout",
     "output_type": "stream",
     "text": [
      "true\n",
      "        Row 17599 matches Row 18025\n",
      "commonName:\t\tCryptic Honeyeater\t\t\t\tCryptic Honeyeater\n",
      "scientificName:\t\tMeliphaga imitatrix\t\t\tMicroptilotis imitatrix\n",
      "Family:\t\t\tMeliphagidae\t\t\t\t\tMeliphagidae\n"
     ]
    },
    {
     "name": "stderr",
     "output_type": "stream",
     "text": [
      "C:\\Users\\Walter\\AppData\\Local\\Temp\\ipykernel_9144\\3454993490.py:24: SettingWithCopyWarning: \n",
      "A value is trying to be set on a copy of a slice from a DataFrame\n",
      "\n",
      "See the caveats in the documentation: https://pandas.pydata.org/pandas-docs/stable/user_guide/indexing.html#returning-a-view-versus-a-copy\n",
      "  Combined_df.drop(match[2], inplace=True)\n"
     ]
    },
    {
     "name": "stdout",
     "output_type": "stream",
     "text": [
      "true\n",
      "        Row 17608 matches Row 18027\n",
      "commonName:\t\tForest Honeyeater\t\t\t\tForest Honeyeater\n",
      "scientificName:\t\tMeliphaga montana\t\t\tMicroptilotis montanus\n",
      "Family:\t\t\tMeliphagidae\t\t\t\t\tMeliphagidae\n"
     ]
    },
    {
     "name": "stderr",
     "output_type": "stream",
     "text": [
      "C:\\Users\\Walter\\AppData\\Local\\Temp\\ipykernel_9144\\3454993490.py:24: SettingWithCopyWarning: \n",
      "A value is trying to be set on a copy of a slice from a DataFrame\n",
      "\n",
      "See the caveats in the documentation: https://pandas.pydata.org/pandas-docs/stable/user_guide/indexing.html#returning-a-view-versus-a-copy\n",
      "  Combined_df.drop(match[2], inplace=True)\n"
     ]
    },
    {
     "name": "stdout",
     "output_type": "stream",
     "text": [
      "true\n",
      "        Row 17618 matches Row 18030\n",
      "commonName:\t\tMountain Honeyeater\t\t\t\tMountain Honeyeater\n",
      "scientificName:\t\tMeliphaga orientalis\t\t\tMicroptilotis orientalis\n",
      "Family:\t\t\tMeliphagidae\t\t\t\t\tMeliphagidae\n"
     ]
    },
    {
     "name": "stderr",
     "output_type": "stream",
     "text": [
      "C:\\Users\\Walter\\AppData\\Local\\Temp\\ipykernel_9144\\3454993490.py:24: SettingWithCopyWarning: \n",
      "A value is trying to be set on a copy of a slice from a DataFrame\n",
      "\n",
      "See the caveats in the documentation: https://pandas.pydata.org/pandas-docs/stable/user_guide/indexing.html#returning-a-view-versus-a-copy\n",
      "  Combined_df.drop(match[2], inplace=True)\n"
     ]
    },
    {
     "name": "stdout",
     "output_type": "stream",
     "text": [
      "true\n",
      "        Row 17622 matches Row 29607\n",
      "commonName:\t\tStreak-breasted Honeyeater\t\t\t\tStreak-breasted Honeyeater\n",
      "scientificName:\t\tMeliphaga reticulata\t\t\tTerritornis reticulata\n",
      "Family:\t\t\tMeliphagidae\t\t\t\t\tMeliphagidae\n"
     ]
    },
    {
     "name": "stderr",
     "output_type": "stream",
     "text": [
      "C:\\Users\\Walter\\AppData\\Local\\Temp\\ipykernel_9144\\3454993490.py:24: SettingWithCopyWarning: \n",
      "A value is trying to be set on a copy of a slice from a DataFrame\n",
      "\n",
      "See the caveats in the documentation: https://pandas.pydata.org/pandas-docs/stable/user_guide/indexing.html#returning-a-view-versus-a-copy\n",
      "  Combined_df.drop(match[2], inplace=True)\n"
     ]
    },
    {
     "name": "stdout",
     "output_type": "stream",
     "text": [
      "true\n",
      "        Row 17623 matches Row 18034\n",
      "commonName:\t\tTagula Honeyeater\t\t\t\tTagula Honeyeater\n",
      "scientificName:\t\tMeliphaga vicina\t\t\tMicroptilotis vicina\n",
      "Family:\t\t\tMeliphagidae\t\t\t\t\tMeliphagidae\n"
     ]
    },
    {
     "name": "stderr",
     "output_type": "stream",
     "text": [
      "C:\\Users\\Walter\\AppData\\Local\\Temp\\ipykernel_9144\\3454993490.py:24: SettingWithCopyWarning: \n",
      "A value is trying to be set on a copy of a slice from a DataFrame\n",
      "\n",
      "See the caveats in the documentation: https://pandas.pydata.org/pandas-docs/stable/user_guide/indexing.html#returning-a-view-versus-a-copy\n",
      "  Combined_df.drop(match[2], inplace=True)\n"
     ]
    },
    {
     "name": "stdout",
     "output_type": "stream",
     "text": [
      "true\n",
      "        Row 18066 matches Row 11709\n",
      "commonName:\t\tPuff-backed Bulbul\t\t\t\tPuff-backed Bulbul\n",
      "scientificName:\t\tMicrotarsus eutilotus\t\t\tEuptilotus eutilotus\n",
      "Family:\t\t\tPycnonotidae\t\t\t\t\tPycnonotidae\n"
     ]
    },
    {
     "name": "stderr",
     "output_type": "stream",
     "text": [
      "C:\\Users\\Walter\\AppData\\Local\\Temp\\ipykernel_9144\\3454993490.py:24: SettingWithCopyWarning: \n",
      "A value is trying to be set on a copy of a slice from a DataFrame\n",
      "\n",
      "See the caveats in the documentation: https://pandas.pydata.org/pandas-docs/stable/user_guide/indexing.html#returning-a-view-versus-a-copy\n",
      "  Combined_df.drop(match[2], inplace=True)\n"
     ]
    },
    {
     "name": "stdout",
     "output_type": "stream",
     "text": [
      "true\n",
      "        Row 18067 matches Row 3611\n",
      "commonName:\t\tAndaman Bulbul\t\t\t\tAndaman Bulbul\n",
      "scientificName:\t\tMicrotarsus fuscoflavescens\t\t\tBrachypodius fuscoflavescens\n",
      "Family:\t\t\tPycnonotidae\t\t\t\t\tPycnonotidae\n"
     ]
    },
    {
     "name": "stderr",
     "output_type": "stream",
     "text": [
      "C:\\Users\\Walter\\AppData\\Local\\Temp\\ipykernel_9144\\3454993490.py:24: SettingWithCopyWarning: \n",
      "A value is trying to be set on a copy of a slice from a DataFrame\n",
      "\n",
      "See the caveats in the documentation: https://pandas.pydata.org/pandas-docs/stable/user_guide/indexing.html#returning-a-view-versus-a-copy\n",
      "  Combined_df.drop(match[2], inplace=True)\n"
     ]
    },
    {
     "name": "stdout",
     "output_type": "stream",
     "text": [
      "true\n",
      "        Row 18068 matches Row 3612\n",
      "commonName:\t\tBlack-headed Bulbul\t\t\t\tBlack-headed Bulbul\n",
      "scientificName:\t\tMicrotarsus melanocephalos\t\t\tBrachypodius melanocephalos\n",
      "Family:\t\t\tPycnonotidae\t\t\t\t\tPycnonotidae\n"
     ]
    },
    {
     "name": "stderr",
     "output_type": "stream",
     "text": [
      "C:\\Users\\Walter\\AppData\\Local\\Temp\\ipykernel_9144\\3454993490.py:24: SettingWithCopyWarning: \n",
      "A value is trying to be set on a copy of a slice from a DataFrame\n",
      "\n",
      "See the caveats in the documentation: https://pandas.pydata.org/pandas-docs/stable/user_guide/indexing.html#returning-a-view-versus-a-copy\n",
      "  Combined_df.drop(match[2], inplace=True)\n"
     ]
    },
    {
     "name": "stdout",
     "output_type": "stream",
     "text": [
      "true\n",
      "        Row 18074 matches Row 3617\n",
      "commonName:\t\tBlue-wattled Bulbul\t\t\t\tBlue-wattled Bulbul\n",
      "scientificName:\t\tMicrotarsus nieuwenhuisii\t\t\tBrachypodius nieuwenhuisii\n",
      "Family:\t\t\tPycnonotidae\t\t\t\t\tPycnonotidae\n"
     ]
    },
    {
     "name": "stderr",
     "output_type": "stream",
     "text": [
      "C:\\Users\\Walter\\AppData\\Local\\Temp\\ipykernel_9144\\3454993490.py:24: SettingWithCopyWarning: \n",
      "A value is trying to be set on a copy of a slice from a DataFrame\n",
      "\n",
      "See the caveats in the documentation: https://pandas.pydata.org/pandas-docs/stable/user_guide/indexing.html#returning-a-view-versus-a-copy\n",
      "  Combined_df.drop(match[2], inplace=True)\n"
     ]
    },
    {
     "name": "stdout",
     "output_type": "stream",
     "text": [
      "true\n",
      "        Row 18078 matches Row 23950\n",
      "commonName:\t\tYellow-wattled Bulbul\t\t\t\tYellow-wattled Bulbul\n",
      "scientificName:\t\tMicrotarsus urostictus\t\t\tPoliolophus urostictus\n",
      "Family:\t\t\tPycnonotidae\t\t\t\t\tPycnonotidae\n"
     ]
    },
    {
     "name": "stderr",
     "output_type": "stream",
     "text": [
      "C:\\Users\\Walter\\AppData\\Local\\Temp\\ipykernel_9144\\3454993490.py:24: SettingWithCopyWarning: \n",
      "A value is trying to be set on a copy of a slice from a DataFrame\n",
      "\n",
      "See the caveats in the documentation: https://pandas.pydata.org/pandas-docs/stable/user_guide/indexing.html#returning-a-view-versus-a-copy\n",
      "  Combined_df.drop(match[2], inplace=True)\n"
     ]
    },
    {
     "name": "stdout",
     "output_type": "stream",
     "text": [
      "true\n",
      "        Row 19005 matches Row 3647\n",
      "commonName:\t\tBöhm's Flycatcher\t\t\t\tBöhm's Flycatcher\n",
      "scientificName:\t\tMyopornis boehmi\t\t\tBradornis boehmi\n",
      "Family:\t\t\tMuscicapidae\t\t\t\t\tMuscicapidae\n"
     ]
    },
    {
     "name": "stderr",
     "output_type": "stream",
     "text": [
      "C:\\Users\\Walter\\AppData\\Local\\Temp\\ipykernel_9144\\3454993490.py:24: SettingWithCopyWarning: \n",
      "A value is trying to be set on a copy of a slice from a DataFrame\n",
      "\n",
      "See the caveats in the documentation: https://pandas.pydata.org/pandas-docs/stable/user_guide/indexing.html#returning-a-view-versus-a-copy\n",
      "  Combined_df.drop(match[2], inplace=True)\n"
     ]
    },
    {
     "name": "stdout",
     "output_type": "stream",
     "text": [
      "true\n",
      "        Row 20260 matches Row 19366\n",
      "commonName:\t\tOrinoco Goose\t\t\t\tOrinoco Goose\n",
      "scientificName:\t\tOressochen jubatus\t\t\tNeochen jubata\n",
      "Family:\t\t\tAnatidae\t\t\t\t\tAnatidae\n"
     ]
    },
    {
     "name": "stderr",
     "output_type": "stream",
     "text": [
      "C:\\Users\\Walter\\AppData\\Local\\Temp\\ipykernel_9144\\3454993490.py:24: SettingWithCopyWarning: \n",
      "A value is trying to be set on a copy of a slice from a DataFrame\n",
      "\n",
      "See the caveats in the documentation: https://pandas.pydata.org/pandas-docs/stable/user_guide/indexing.html#returning-a-view-versus-a-copy\n",
      "  Combined_df.drop(match[2], inplace=True)\n"
     ]
    },
    {
     "name": "stdout",
     "output_type": "stream",
     "text": [
      "true\n",
      "        Row 20261 matches Row 5946\n",
      "commonName:\t\tAndean Goose\t\t\t\tAndean Goose\n",
      "scientificName:\t\tOressochen melanopterus\t\t\tChloephaga melanoptera\n",
      "Family:\t\t\tAnatidae\t\t\t\t\tAnatidae\n"
     ]
    },
    {
     "name": "stderr",
     "output_type": "stream",
     "text": [
      "C:\\Users\\Walter\\AppData\\Local\\Temp\\ipykernel_9144\\3454993490.py:24: SettingWithCopyWarning: \n",
      "A value is trying to be set on a copy of a slice from a DataFrame\n",
      "\n",
      "See the caveats in the documentation: https://pandas.pydata.org/pandas-docs/stable/user_guide/indexing.html#returning-a-view-versus-a-copy\n",
      "  Combined_df.drop(match[2], inplace=True)\n"
     ]
    },
    {
     "name": "stdout",
     "output_type": "stream",
     "text": [
      "true\n",
      "        Row 20880 matches Row 9688\n",
      "commonName:\t\tThick-billed Flowerpecker\t\t\t\tThick-billed Flowerpecker\n",
      "scientificName:\t\tPachyglossa agilis\t\t\tDicaeum agile\n",
      "Family:\t\t\tDicaeidae\t\t\t\t\tDicaeidae\n"
     ]
    },
    {
     "name": "stderr",
     "output_type": "stream",
     "text": [
      "C:\\Users\\Walter\\AppData\\Local\\Temp\\ipykernel_9144\\3454993490.py:24: SettingWithCopyWarning: \n",
      "A value is trying to be set on a copy of a slice from a DataFrame\n",
      "\n",
      "See the caveats in the documentation: https://pandas.pydata.org/pandas-docs/stable/user_guide/indexing.html#returning-a-view-versus-a-copy\n",
      "  Combined_df.drop(match[2], inplace=True)\n"
     ]
    },
    {
     "name": "stdout",
     "output_type": "stream",
     "text": [
      "true\n",
      "        Row 20892 matches Row 9717\n",
      "commonName:\t\tYellow-vented Flowerpecker\t\t\t\tYellow-vented Flowerpecker\n",
      "scientificName:\t\tPachyglossa chrysorrhea\t\t\tDicaeum chrysorrheum\n",
      "Family:\t\t\tDicaeidae\t\t\t\t\tDicaeidae\n"
     ]
    },
    {
     "name": "stderr",
     "output_type": "stream",
     "text": [
      "C:\\Users\\Walter\\AppData\\Local\\Temp\\ipykernel_9144\\3454993490.py:24: SettingWithCopyWarning: \n",
      "A value is trying to be set on a copy of a slice from a DataFrame\n",
      "\n",
      "See the caveats in the documentation: https://pandas.pydata.org/pandas-docs/stable/user_guide/indexing.html#returning-a-view-versus-a-copy\n",
      "  Combined_df.drop(match[2], inplace=True)\n"
     ]
    },
    {
     "name": "stdout",
     "output_type": "stream",
     "text": [
      "true\n",
      "        Row 20895 matches Row 9734\n",
      "commonName:\t\tBrown-backed Flowerpecker\t\t\t\tBrown-backed Flowerpecker\n",
      "scientificName:\t\tPachyglossa everetti\t\t\tDicaeum everetti\n",
      "Family:\t\t\tDicaeidae\t\t\t\t\tDicaeidae\n"
     ]
    },
    {
     "name": "stderr",
     "output_type": "stream",
     "text": [
      "C:\\Users\\Walter\\AppData\\Local\\Temp\\ipykernel_9144\\3454993490.py:24: SettingWithCopyWarning: \n",
      "A value is trying to be set on a copy of a slice from a DataFrame\n",
      "\n",
      "See the caveats in the documentation: https://pandas.pydata.org/pandas-docs/stable/user_guide/indexing.html#returning-a-view-versus-a-copy\n",
      "  Combined_df.drop(match[2], inplace=True)\n"
     ]
    },
    {
     "name": "stdout",
     "output_type": "stream",
     "text": [
      "true\n",
      "        Row 20898 matches Row 9782\n",
      "commonName:\t\tYellow-bellied Flowerpecker\t\t\t\tYellow-bellied Flowerpecker\n",
      "scientificName:\t\tPachyglossa melanozantha\t\t\tDicaeum melanozanthum\n",
      "Family:\t\t\tDicaeidae\t\t\t\t\tDicaeidae\n"
     ]
    },
    {
     "name": "stderr",
     "output_type": "stream",
     "text": [
      "C:\\Users\\Walter\\AppData\\Local\\Temp\\ipykernel_9144\\3454993490.py:24: SettingWithCopyWarning: \n",
      "A value is trying to be set on a copy of a slice from a DataFrame\n",
      "\n",
      "See the caveats in the documentation: https://pandas.pydata.org/pandas-docs/stable/user_guide/indexing.html#returning-a-view-versus-a-copy\n",
      "  Combined_df.drop(match[2], inplace=True)\n"
     ]
    },
    {
     "name": "stdout",
     "output_type": "stream",
     "text": [
      "true\n",
      "        Row 20899 matches Row 24364\n",
      "commonName:\t\tOlive-backed Flowerpecker\t\t\t\tOlive-backed Flowerpecker\n",
      "scientificName:\t\tPachyglossa olivacea\t\t\tPrionochilus olivaceus\n",
      "Family:\t\t\tDicaeidae\t\t\t\t\tDicaeidae\n"
     ]
    },
    {
     "name": "stderr",
     "output_type": "stream",
     "text": [
      "C:\\Users\\Walter\\AppData\\Local\\Temp\\ipykernel_9144\\3454993490.py:24: SettingWithCopyWarning: \n",
      "A value is trying to be set on a copy of a slice from a DataFrame\n",
      "\n",
      "See the caveats in the documentation: https://pandas.pydata.org/pandas-docs/stable/user_guide/indexing.html#returning-a-view-versus-a-copy\n",
      "  Combined_df.drop(match[2], inplace=True)\n"
     ]
    },
    {
     "name": "stdout",
     "output_type": "stream",
     "text": [
      "true\n",
      "        Row 20903 matches Row 9800\n",
      "commonName:\t\tWhiskered Flowerpecker\t\t\t\tWhiskered Flowerpecker\n",
      "scientificName:\t\tPachyglossa propria\t\t\tDicaeum proprium\n",
      "Family:\t\t\tDicaeidae\t\t\t\t\tDicaeidae\n"
     ]
    },
    {
     "name": "stderr",
     "output_type": "stream",
     "text": [
      "C:\\Users\\Walter\\AppData\\Local\\Temp\\ipykernel_9144\\3454993490.py:24: SettingWithCopyWarning: \n",
      "A value is trying to be set on a copy of a slice from a DataFrame\n",
      "\n",
      "See the caveats in the documentation: https://pandas.pydata.org/pandas-docs/stable/user_guide/indexing.html#returning-a-view-versus-a-copy\n",
      "  Combined_df.drop(match[2], inplace=True)\n"
     ]
    },
    {
     "name": "stdout",
     "output_type": "stream",
     "text": [
      "true\n",
      "        Row 20905 matches Row 23601\n",
      "commonName:\t\tCompact Weaver\t\t\t\tCompact Weaver\n",
      "scientificName:\t\tPachyphantes superciliosus\t\t\tPloceus superciliosus\n",
      "Family:\t\t\tPloceidae\t\t\t\t\tPloceidae\n"
     ]
    },
    {
     "name": "stderr",
     "output_type": "stream",
     "text": [
      "C:\\Users\\Walter\\AppData\\Local\\Temp\\ipykernel_9144\\3454993490.py:24: SettingWithCopyWarning: \n",
      "A value is trying to be set on a copy of a slice from a DataFrame\n",
      "\n",
      "See the caveats in the documentation: https://pandas.pydata.org/pandas-docs/stable/user_guide/indexing.html#returning-a-view-versus-a-copy\n",
      "  Combined_df.drop(match[2], inplace=True)\n"
     ]
    },
    {
     "name": "stdout",
     "output_type": "stream",
     "text": [
      "true\n",
      "        Row 21793 matches Row 21130\n",
      "commonName:\t\tPalawan Tit\t\t\t\tPalawan Tit\n",
      "scientificName:\t\tPeriparus amabilis\t\t\tPardaliparus amabilis\n",
      "Family:\t\t\tParidae\t\t\t\t\tParidae\n"
     ]
    },
    {
     "name": "stderr",
     "output_type": "stream",
     "text": [
      "C:\\Users\\Walter\\AppData\\Local\\Temp\\ipykernel_9144\\3454993490.py:24: SettingWithCopyWarning: \n",
      "A value is trying to be set on a copy of a slice from a DataFrame\n",
      "\n",
      "See the caveats in the documentation: https://pandas.pydata.org/pandas-docs/stable/user_guide/indexing.html#returning-a-view-versus-a-copy\n",
      "  Combined_df.drop(match[2], inplace=True)\n"
     ]
    },
    {
     "name": "stdout",
     "output_type": "stream",
     "text": [
      "true\n",
      "        Row 21816 matches Row 21131\n",
      "commonName:\t\tElegant Tit\t\t\t\tElegant Tit\n",
      "scientificName:\t\tPeriparus elegans\t\t\tPardaliparus elegans\n",
      "Family:\t\t\tParidae\t\t\t\t\tParidae\n"
     ]
    },
    {
     "name": "stderr",
     "output_type": "stream",
     "text": [
      "C:\\Users\\Walter\\AppData\\Local\\Temp\\ipykernel_9144\\3454993490.py:24: SettingWithCopyWarning: \n",
      "A value is trying to be set on a copy of a slice from a DataFrame\n",
      "\n",
      "See the caveats in the documentation: https://pandas.pydata.org/pandas-docs/stable/user_guide/indexing.html#returning-a-view-versus-a-copy\n",
      "  Combined_df.drop(match[2], inplace=True)\n"
     ]
    },
    {
     "name": "stdout",
     "output_type": "stream",
     "text": [
      "true\n",
      "        Row 21832 matches Row 21141\n",
      "commonName:\t\tYellow-bellied Tit\t\t\t\tYellow-bellied Tit\n",
      "scientificName:\t\tPeriparus venustulus\t\t\tPardaliparus venustulus\n",
      "Family:\t\t\tParidae\t\t\t\t\tParidae\n"
     ]
    },
    {
     "name": "stderr",
     "output_type": "stream",
     "text": [
      "C:\\Users\\Walter\\AppData\\Local\\Temp\\ipykernel_9144\\3454993490.py:24: SettingWithCopyWarning: \n",
      "A value is trying to be set on a copy of a slice from a DataFrame\n",
      "\n",
      "See the caveats in the documentation: https://pandas.pydata.org/pandas-docs/stable/user_guide/indexing.html#returning-a-view-versus-a-copy\n",
      "  Combined_df.drop(match[2], inplace=True)\n"
     ]
    },
    {
     "name": "stdout",
     "output_type": "stream",
     "text": [
      "true\n",
      "        Row 24158 matches Row 24161\n",
      "commonName:\t\tRufous-sided Warbling Finch\t\t\t\tRufous-sided Warbling Finch\n",
      "scientificName:\t\tPoospizopsis hypochondria\t\t\tPoospizopsis hypocondria\n",
      "Family:\t\t\tThraupidae\t\t\t\t\tThraupidae\n"
     ]
    },
    {
     "name": "stderr",
     "output_type": "stream",
     "text": [
      "C:\\Users\\Walter\\AppData\\Local\\Temp\\ipykernel_9144\\3454993490.py:24: SettingWithCopyWarning: \n",
      "A value is trying to be set on a copy of a slice from a DataFrame\n",
      "\n",
      "See the caveats in the documentation: https://pandas.pydata.org/pandas-docs/stable/user_guide/indexing.html#returning-a-view-versus-a-copy\n",
      "  Combined_df.drop(match[2], inplace=True)\n"
     ]
    },
    {
     "name": "stdout",
     "output_type": "stream",
     "text": [
      "true\n",
      "        Row 24892 matches Row 21258\n",
      "commonName:\t\tPurple-crowned Lorikeet\t\t\t\tPurple-crowned Lorikeet\n",
      "scientificName:\t\tPsitteuteles porphyrocephalus\t\t\tParvipsitta porphyrocephala\n",
      "Family:\t\t\tPsittaculidae\t\t\t\t\tPsittaculidae\n"
     ]
    },
    {
     "name": "stderr",
     "output_type": "stream",
     "text": [
      "C:\\Users\\Walter\\AppData\\Local\\Temp\\ipykernel_9144\\3454993490.py:24: SettingWithCopyWarning: \n",
      "A value is trying to be set on a copy of a slice from a DataFrame\n",
      "\n",
      "See the caveats in the documentation: https://pandas.pydata.org/pandas-docs/stable/user_guide/indexing.html#returning-a-view-versus-a-copy\n",
      "  Combined_df.drop(match[2], inplace=True)\n"
     ]
    },
    {
     "name": "stdout",
     "output_type": "stream",
     "text": [
      "true\n",
      "        Row 24893 matches Row 21259\n",
      "commonName:\t\tLittle Lorikeet\t\t\t\tLittle Lorikeet\n",
      "scientificName:\t\tPsitteuteles pusillus\t\t\tParvipsitta pusilla\n",
      "Family:\t\t\tPsittaculidae\t\t\t\t\tPsittaculidae\n"
     ]
    },
    {
     "name": "stderr",
     "output_type": "stream",
     "text": [
      "C:\\Users\\Walter\\AppData\\Local\\Temp\\ipykernel_9144\\3454993490.py:24: SettingWithCopyWarning: \n",
      "A value is trying to be set on a copy of a slice from a DataFrame\n",
      "\n",
      "See the caveats in the documentation: https://pandas.pydata.org/pandas-docs/stable/user_guide/indexing.html#returning-a-view-versus-a-copy\n",
      "  Combined_df.drop(match[2], inplace=True)\n"
     ]
    },
    {
     "name": "stdout",
     "output_type": "stream",
     "text": [
      "true\n",
      "        Row 25851 matches Row 29005\n",
      "commonName:\t\tTschudi's Nightjar\t\t\t\tTschudi's Nightjar\n",
      "scientificName:\t\tQuechuavis decussata\t\t\tSystellura decussata\n",
      "Family:\t\t\tCaprimulgidae\t\t\t\t\tCaprimulgidae\n"
     ]
    },
    {
     "name": "stderr",
     "output_type": "stream",
     "text": [
      "C:\\Users\\Walter\\AppData\\Local\\Temp\\ipykernel_9144\\3454993490.py:24: SettingWithCopyWarning: \n",
      "A value is trying to be set on a copy of a slice from a DataFrame\n",
      "\n",
      "See the caveats in the documentation: https://pandas.pydata.org/pandas-docs/stable/user_guide/indexing.html#returning-a-view-versus-a-copy\n",
      "  Combined_df.drop(match[2], inplace=True)\n"
     ]
    },
    {
     "name": "stdout",
     "output_type": "stream",
     "text": [
      "true\n",
      "        Row 26024 matches Row 26021\n",
      "commonName:\t\tBrazilian Tanager\t\t\t\tBrazilian Tanager\n",
      "scientificName:\t\tRamphocelus bresilius\t\t\tRamphocelus bresilia\n",
      "Family:\t\t\tThraupidae\t\t\t\t\tThraupidae\n"
     ]
    },
    {
     "name": "stderr",
     "output_type": "stream",
     "text": [
      "C:\\Users\\Walter\\AppData\\Local\\Temp\\ipykernel_9144\\3454993490.py:24: SettingWithCopyWarning: \n",
      "A value is trying to be set on a copy of a slice from a DataFrame\n",
      "\n",
      "See the caveats in the documentation: https://pandas.pydata.org/pandas-docs/stable/user_guide/indexing.html#returning-a-view-versus-a-copy\n",
      "  Combined_df.drop(match[2], inplace=True)\n"
     ]
    },
    {
     "name": "stdout",
     "output_type": "stream",
     "text": [
      "true\n",
      "        Row 26415 matches Row 29485\n",
      "commonName:\t\tRosy-patched Bushshrike\t\t\t\tRosy-patched Bushshrike\n",
      "scientificName:\t\tRhodophoneus cruentus\t\t\tTelophorus cruentus\n",
      "Family:\t\t\tMalaconotidae\t\t\t\t\tMalaconotidae\n"
     ]
    },
    {
     "name": "stderr",
     "output_type": "stream",
     "text": [
      "C:\\Users\\Walter\\AppData\\Local\\Temp\\ipykernel_9144\\3454993490.py:24: SettingWithCopyWarning: \n",
      "A value is trying to be set on a copy of a slice from a DataFrame\n",
      "\n",
      "See the caveats in the documentation: https://pandas.pydata.org/pandas-docs/stable/user_guide/indexing.html#returning-a-view-versus-a-copy\n",
      "  Combined_df.drop(match[2], inplace=True)\n"
     ]
    },
    {
     "name": "stdout",
     "output_type": "stream",
     "text": [
      "true\n",
      "        Row 26564 matches Row 14929\n",
      "commonName:\t\tSpectacled Bulbul\t\t\t\tSpectacled Bulbul\n",
      "scientificName:\t\tRubigula erythropthalmos\t\t\tIxodia erythropthalmos\n",
      "Family:\t\t\tPycnonotidae\t\t\t\t\tPycnonotidae\n"
     ]
    },
    {
     "name": "stderr",
     "output_type": "stream",
     "text": [
      "C:\\Users\\Walter\\AppData\\Local\\Temp\\ipykernel_9144\\3454993490.py:24: SettingWithCopyWarning: \n",
      "A value is trying to be set on a copy of a slice from a DataFrame\n",
      "\n",
      "See the caveats in the documentation: https://pandas.pydata.org/pandas-docs/stable/user_guide/indexing.html#returning-a-view-versus-a-copy\n",
      "  Combined_df.drop(match[2], inplace=True)\n"
     ]
    },
    {
     "name": "stdout",
     "output_type": "stream",
     "text": [
      "true\n",
      "        Row 26579 matches Row 14930\n",
      "commonName:\t\tScaly-breasted Bulbul\t\t\t\tScaly-breasted Bulbul\n",
      "scientificName:\t\tRubigula squamata\t\t\tIxodia squamata\n",
      "Family:\t\t\tPycnonotidae\t\t\t\t\tPycnonotidae\n"
     ]
    },
    {
     "name": "stderr",
     "output_type": "stream",
     "text": [
      "C:\\Users\\Walter\\AppData\\Local\\Temp\\ipykernel_9144\\3454993490.py:24: SettingWithCopyWarning: \n",
      "A value is trying to be set on a copy of a slice from a DataFrame\n",
      "\n",
      "See the caveats in the documentation: https://pandas.pydata.org/pandas-docs/stable/user_guide/indexing.html#returning-a-view-versus-a-copy\n",
      "  Combined_df.drop(match[2], inplace=True)\n"
     ]
    },
    {
     "name": "stdout",
     "output_type": "stream",
     "text": [
      "true\n",
      "        Row 26586 matches Row 15629\n",
      "commonName:\t\tBlack-banded Crake\t\t\t\tBlack-banded Crake\n",
      "scientificName:\t\tRufirallus fasciatus\t\t\tLaterallus fasciatus\n",
      "Family:\t\t\tRallidae\t\t\t\t\tRallidae\n"
     ]
    },
    {
     "name": "stderr",
     "output_type": "stream",
     "text": [
      "C:\\Users\\Walter\\AppData\\Local\\Temp\\ipykernel_9144\\3454993490.py:24: SettingWithCopyWarning: \n",
      "A value is trying to be set on a copy of a slice from a DataFrame\n",
      "\n",
      "See the caveats in the documentation: https://pandas.pydata.org/pandas-docs/stable/user_guide/indexing.html#returning-a-view-versus-a-copy\n",
      "  Combined_df.drop(match[2], inplace=True)\n"
     ]
    },
    {
     "name": "stdout",
     "output_type": "stream",
     "text": [
      "true\n",
      "        Row 26587 matches Row 15642\n",
      "commonName:\t\tRed-and-white Crake\t\t\t\tRed-and-white Crake\n",
      "scientificName:\t\tRufirallus leucopyrrhus\t\t\tLaterallus leucopyrrhus\n",
      "Family:\t\t\tRallidae\t\t\t\t\tRallidae\n"
     ]
    },
    {
     "name": "stderr",
     "output_type": "stream",
     "text": [
      "C:\\Users\\Walter\\AppData\\Local\\Temp\\ipykernel_9144\\3454993490.py:24: SettingWithCopyWarning: \n",
      "A value is trying to be set on a copy of a slice from a DataFrame\n",
      "\n",
      "See the caveats in the documentation: https://pandas.pydata.org/pandas-docs/stable/user_guide/indexing.html#returning-a-view-versus-a-copy\n",
      "  Combined_df.drop(match[2], inplace=True)\n"
     ]
    },
    {
     "name": "stdout",
     "output_type": "stream",
     "text": [
      "true\n",
      "        Row 26588 matches Row 18035\n",
      "commonName:\t\tOcellated Crake\t\t\t\tOcellated Crake\n",
      "scientificName:\t\tRufirallus schomburgkii\t\t\tMicropygia schomburgkii\n",
      "Family:\t\t\tRallidae\t\t\t\t\tRallidae\n"
     ]
    },
    {
     "name": "stderr",
     "output_type": "stream",
     "text": [
      "C:\\Users\\Walter\\AppData\\Local\\Temp\\ipykernel_9144\\3454993490.py:24: SettingWithCopyWarning: \n",
      "A value is trying to be set on a copy of a slice from a DataFrame\n",
      "\n",
      "See the caveats in the documentation: https://pandas.pydata.org/pandas-docs/stable/user_guide/indexing.html#returning-a-view-versus-a-copy\n",
      "  Combined_df.drop(match[2], inplace=True)\n"
     ]
    },
    {
     "name": "stdout",
     "output_type": "stream",
     "text": [
      "true\n",
      "        Row 26594 matches Row 15653\n",
      "commonName:\t\tRufous-faced Crake\t\t\t\tRufous-faced Crake\n",
      "scientificName:\t\tRufirallus xenopterus\t\t\tLaterallus xenopterus\n",
      "Family:\t\t\tRallidae\t\t\t\t\tRallidae\n"
     ]
    },
    {
     "name": "stderr",
     "output_type": "stream",
     "text": [
      "C:\\Users\\Walter\\AppData\\Local\\Temp\\ipykernel_9144\\3454993490.py:24: SettingWithCopyWarning: \n",
      "A value is trying to be set on a copy of a slice from a DataFrame\n",
      "\n",
      "See the caveats in the documentation: https://pandas.pydata.org/pandas-docs/stable/user_guide/indexing.html#returning-a-view-versus-a-copy\n",
      "  Combined_df.drop(match[2], inplace=True)\n"
     ]
    },
    {
     "name": "stdout",
     "output_type": "stream",
     "text": [
      "true\n",
      "        Row 27705 matches Row 26204\n",
      "commonName:\t\tDouble-banded Courser\t\t\t\tDouble-banded Courser\n",
      "scientificName:\t\tSmutsornis africanus\t\t\tRhinoptilus africanus\n",
      "Family:\t\t\tGlareolidae\t\t\t\t\tGlareolidae\n"
     ]
    },
    {
     "name": "stderr",
     "output_type": "stream",
     "text": [
      "C:\\Users\\Walter\\AppData\\Local\\Temp\\ipykernel_9144\\3454993490.py:24: SettingWithCopyWarning: \n",
      "A value is trying to be set on a copy of a slice from a DataFrame\n",
      "\n",
      "See the caveats in the documentation: https://pandas.pydata.org/pandas-docs/stable/user_guide/indexing.html#returning-a-view-versus-a-copy\n",
      "  Combined_df.drop(match[2], inplace=True)\n"
     ]
    },
    {
     "name": "stdout",
     "output_type": "stream",
     "text": [
      "true\n",
      "        Row 28758 matches Row 28757\n",
      "commonName:\t\tDes Murs's Wiretail\t\t\t\tDes Murs's Wiretail\n",
      "scientificName:\t\tSylviorthorhynchus desmursii\t\t\tSylviorthorhynchus desmurii\n",
      "Family:\t\t\tFurnariidae\t\t\t\t\tFurnariidae\n"
     ]
    },
    {
     "name": "stderr",
     "output_type": "stream",
     "text": [
      "C:\\Users\\Walter\\AppData\\Local\\Temp\\ipykernel_9144\\3454993490.py:24: SettingWithCopyWarning: \n",
      "A value is trying to be set on a copy of a slice from a DataFrame\n",
      "\n",
      "See the caveats in the documentation: https://pandas.pydata.org/pandas-docs/stable/user_guide/indexing.html#returning-a-view-versus-a-copy\n",
      "  Combined_df.drop(match[2], inplace=True)\n"
     ]
    },
    {
     "name": "stdout",
     "output_type": "stream",
     "text": [
      "true\n",
      "        Row 29521 matches Row 27283\n",
      "commonName:\t\tRoraiman Nightjar\t\t\t\tRoraiman Nightjar\n",
      "scientificName:\t\tTepuiornis whitelyi\t\t\tSetopagis whitelyi\n",
      "Family:\t\t\tCaprimulgidae\t\t\t\t\tCaprimulgidae\n"
     ]
    },
    {
     "name": "stderr",
     "output_type": "stream",
     "text": [
      "C:\\Users\\Walter\\AppData\\Local\\Temp\\ipykernel_9144\\3454993490.py:24: SettingWithCopyWarning: \n",
      "A value is trying to be set on a copy of a slice from a DataFrame\n",
      "\n",
      "See the caveats in the documentation: https://pandas.pydata.org/pandas-docs/stable/user_guide/indexing.html#returning-a-view-versus-a-copy\n",
      "  Combined_df.drop(match[2], inplace=True)\n"
     ]
    },
    {
     "name": "stdout",
     "output_type": "stream",
     "text": [
      "true\n",
      "        Row 29906 matches Row 5813\n",
      "commonName:\t\tHooded Plover\t\t\t\tHooded Plover\n",
      "scientificName:\t\tThinornis cucullatus\t\t\tCharadrius cucullatus\n",
      "Family:\t\t\tCharadriidae\t\t\t\t\tCharadriidae\n"
     ]
    },
    {
     "name": "stderr",
     "output_type": "stream",
     "text": [
      "C:\\Users\\Walter\\AppData\\Local\\Temp\\ipykernel_9144\\3454993490.py:24: SettingWithCopyWarning: \n",
      "A value is trying to be set on a copy of a slice from a DataFrame\n",
      "\n",
      "See the caveats in the documentation: https://pandas.pydata.org/pandas-docs/stable/user_guide/indexing.html#returning-a-view-versus-a-copy\n",
      "  Combined_df.drop(match[2], inplace=True)\n"
     ]
    },
    {
     "name": "stdout",
     "output_type": "stream",
     "text": [
      "true\n",
      "        Row 29909 matches Row 5814\n",
      "commonName:\t\tLittle Ringed Plover\t\t\t\tLittle Ringed Plover\n",
      "scientificName:\t\tThinornis dubius\t\t\tCharadrius dubius\n",
      "Family:\t\t\tCharadriidae\t\t\t\t\tCharadriidae\n"
     ]
    },
    {
     "name": "stderr",
     "output_type": "stream",
     "text": [
      "C:\\Users\\Walter\\AppData\\Local\\Temp\\ipykernel_9144\\3454993490.py:24: SettingWithCopyWarning: \n",
      "A value is trying to be set on a copy of a slice from a DataFrame\n",
      "\n",
      "See the caveats in the documentation: https://pandas.pydata.org/pandas-docs/stable/user_guide/indexing.html#returning-a-view-versus-a-copy\n",
      "  Combined_df.drop(match[2], inplace=True)\n"
     ]
    },
    {
     "name": "stdout",
     "output_type": "stream",
     "text": [
      "true\n",
      "        Row 29913 matches Row 5818\n",
      "commonName:\t\tForbes's Plover\t\t\t\tForbes's Plover\n",
      "scientificName:\t\tThinornis forbesi\t\t\tCharadrius forbesi\n",
      "Family:\t\t\tCharadriidae\t\t\t\t\tCharadriidae\n"
     ]
    },
    {
     "name": "stderr",
     "output_type": "stream",
     "text": [
      "C:\\Users\\Walter\\AppData\\Local\\Temp\\ipykernel_9144\\3454993490.py:24: SettingWithCopyWarning: \n",
      "A value is trying to be set on a copy of a slice from a DataFrame\n",
      "\n",
      "See the caveats in the documentation: https://pandas.pydata.org/pandas-docs/stable/user_guide/indexing.html#returning-a-view-versus-a-copy\n",
      "  Combined_df.drop(match[2], inplace=True)\n"
     ]
    },
    {
     "name": "stdout",
     "output_type": "stream",
     "text": [
      "true\n",
      "        Row 29914 matches Row 5823\n",
      "commonName:\t\tBlack-fronted Dotterel\t\t\t\tBlack-fronted Dotterel\n",
      "scientificName:\t\tThinornis melanops\t\t\tCharadrius melanops\n",
      "Family:\t\t\tCharadriidae\t\t\t\t\tCharadriidae\n"
     ]
    },
    {
     "name": "stderr",
     "output_type": "stream",
     "text": [
      "C:\\Users\\Walter\\AppData\\Local\\Temp\\ipykernel_9144\\3454993490.py:24: SettingWithCopyWarning: \n",
      "A value is trying to be set on a copy of a slice from a DataFrame\n",
      "\n",
      "See the caveats in the documentation: https://pandas.pydata.org/pandas-docs/stable/user_guide/indexing.html#returning-a-view-versus-a-copy\n",
      "  Combined_df.drop(match[2], inplace=True)\n"
     ]
    },
    {
     "name": "stdout",
     "output_type": "stream",
     "text": [
      "true\n",
      "        Row 29915 matches Row 5827\n",
      "commonName:\t\tShore Plover\t\t\t\tShore Plover\n",
      "scientificName:\t\tThinornis novaeseelandiae\t\t\tCharadrius novaeseelandiae\n",
      "Family:\t\t\tCharadriidae\t\t\t\t\tCharadriidae\n"
     ]
    },
    {
     "name": "stderr",
     "output_type": "stream",
     "text": [
      "C:\\Users\\Walter\\AppData\\Local\\Temp\\ipykernel_9144\\3454993490.py:24: SettingWithCopyWarning: \n",
      "A value is trying to be set on a copy of a slice from a DataFrame\n",
      "\n",
      "See the caveats in the documentation: https://pandas.pydata.org/pandas-docs/stable/user_guide/indexing.html#returning-a-view-versus-a-copy\n",
      "  Combined_df.drop(match[2], inplace=True)\n"
     ]
    },
    {
     "name": "stdout",
     "output_type": "stream",
     "text": [
      "true\n",
      "        Row 29918 matches Row 5828\n",
      "commonName:\t\tLong-billed Plover\t\t\t\tLong-billed Plover\n",
      "scientificName:\t\tThinornis placidus\t\t\tCharadrius placidus\n",
      "Family:\t\t\tCharadriidae\t\t\t\t\tCharadriidae\n"
     ]
    },
    {
     "name": "stderr",
     "output_type": "stream",
     "text": [
      "C:\\Users\\Walter\\AppData\\Local\\Temp\\ipykernel_9144\\3454993490.py:24: SettingWithCopyWarning: \n",
      "A value is trying to be set on a copy of a slice from a DataFrame\n",
      "\n",
      "See the caveats in the documentation: https://pandas.pydata.org/pandas-docs/stable/user_guide/indexing.html#returning-a-view-versus-a-copy\n",
      "  Combined_df.drop(match[2], inplace=True)\n"
     ]
    },
    {
     "name": "stdout",
     "output_type": "stream",
     "text": [
      "true\n",
      "        Row 29919 matches Row 5830\n",
      "commonName:\t\tThree-banded Plover\t\t\t\tThree-banded Plover\n",
      "scientificName:\t\tThinornis tricollaris\t\t\tCharadrius tricollaris\n",
      "Family:\t\t\tCharadriidae\t\t\t\t\tCharadriidae\n"
     ]
    },
    {
     "name": "stderr",
     "output_type": "stream",
     "text": [
      "C:\\Users\\Walter\\AppData\\Local\\Temp\\ipykernel_9144\\3454993490.py:24: SettingWithCopyWarning: \n",
      "A value is trying to be set on a copy of a slice from a DataFrame\n",
      "\n",
      "See the caveats in the documentation: https://pandas.pydata.org/pandas-docs/stable/user_guide/indexing.html#returning-a-view-versus-a-copy\n",
      "  Combined_df.drop(match[2], inplace=True)\n"
     ]
    },
    {
     "name": "stdout",
     "output_type": "stream",
     "text": [
      "true\n",
      "        Row 30421 matches Row 30436\n",
      "commonName:\t\tWestern Yellow-billed Barbet\t\t\t\tWestern Yellow-billed Barbet\n",
      "scientificName:\t\tTrachylaemus goffinii\t\t\tTrachyphonus goffinii\n",
      "Family:\t\t\tLybiidae\t\t\t\t\tLybiidae\n"
     ]
    },
    {
     "name": "stderr",
     "output_type": "stream",
     "text": [
      "C:\\Users\\Walter\\AppData\\Local\\Temp\\ipykernel_9144\\3454993490.py:24: SettingWithCopyWarning: \n",
      "A value is trying to be set on a copy of a slice from a DataFrame\n",
      "\n",
      "See the caveats in the documentation: https://pandas.pydata.org/pandas-docs/stable/user_guide/indexing.html#returning-a-view-versus-a-copy\n",
      "  Combined_df.drop(match[2], inplace=True)\n"
     ]
    },
    {
     "name": "stdout",
     "output_type": "stream",
     "text": [
      "true\n",
      "        Row 30424 matches Row 30442\n",
      "commonName:\t\tEastern Yellow-billed Barbet\t\t\t\tEastern Yellow-billed Barbet\n",
      "scientificName:\t\tTrachylaemus purpuratus\t\t\tTrachyphonus purpuratus\n",
      "Family:\t\t\tLybiidae\t\t\t\t\tLybiidae\n"
     ]
    },
    {
     "name": "stderr",
     "output_type": "stream",
     "text": [
      "C:\\Users\\Walter\\AppData\\Local\\Temp\\ipykernel_9144\\3454993490.py:24: SettingWithCopyWarning: \n",
      "A value is trying to be set on a copy of a slice from a DataFrame\n",
      "\n",
      "See the caveats in the documentation: https://pandas.pydata.org/pandas-docs/stable/user_guide/indexing.html#returning-a-view-versus-a-copy\n",
      "  Combined_df.drop(match[2], inplace=True)\n"
     ]
    },
    {
     "name": "stdout",
     "output_type": "stream",
     "text": [
      "true\n",
      "        Row 30577 matches Row 11012\n",
      "commonName:\t\tRed Lory\t\t\t\tRed Lory\n",
      "scientificName:\t\tTrichoglossus borneus\t\t\tEos bornea\n",
      "Family:\t\t\tPsittaculidae\t\t\t\t\tPsittaculidae\n"
     ]
    },
    {
     "name": "stderr",
     "output_type": "stream",
     "text": [
      "C:\\Users\\Walter\\AppData\\Local\\Temp\\ipykernel_9144\\3454993490.py:24: SettingWithCopyWarning: \n",
      "A value is trying to be set on a copy of a slice from a DataFrame\n",
      "\n",
      "See the caveats in the documentation: https://pandas.pydata.org/pandas-docs/stable/user_guide/indexing.html#returning-a-view-versus-a-copy\n",
      "  Combined_df.drop(match[2], inplace=True)\n"
     ]
    },
    {
     "name": "stdout",
     "output_type": "stream",
     "text": [
      "true\n",
      "        Row 30585 matches Row 13127\n",
      "commonName:\t\tMusk Lorikeet\t\t\t\tMusk Lorikeet\n",
      "scientificName:\t\tTrichoglossus concinnus\t\t\tGlossopsitta concinna\n",
      "Family:\t\t\tPsittaculidae\t\t\t\t\tPsittaculidae\n"
     ]
    },
    {
     "name": "stderr",
     "output_type": "stream",
     "text": [
      "C:\\Users\\Walter\\AppData\\Local\\Temp\\ipykernel_9144\\3454993490.py:24: SettingWithCopyWarning: \n",
      "A value is trying to be set on a copy of a slice from a DataFrame\n",
      "\n",
      "See the caveats in the documentation: https://pandas.pydata.org/pandas-docs/stable/user_guide/indexing.html#returning-a-view-versus-a-copy\n",
      "  Combined_df.drop(match[2], inplace=True)\n"
     ]
    },
    {
     "name": "stdout",
     "output_type": "stream",
     "text": [
      "true\n",
      "        Row 30586 matches Row 11015\n",
      "commonName:\t\tBlack-winged Lory\t\t\t\tBlack-winged Lory\n",
      "scientificName:\t\tTrichoglossus cyanogenius\t\t\tEos cyanogenia\n",
      "Family:\t\t\tPsittaculidae\t\t\t\t\tPsittaculidae\n"
     ]
    },
    {
     "name": "stderr",
     "output_type": "stream",
     "text": [
      "C:\\Users\\Walter\\AppData\\Local\\Temp\\ipykernel_9144\\3454993490.py:24: SettingWithCopyWarning: \n",
      "A value is trying to be set on a copy of a slice from a DataFrame\n",
      "\n",
      "See the caveats in the documentation: https://pandas.pydata.org/pandas-docs/stable/user_guide/indexing.html#returning-a-view-versus-a-copy\n",
      "  Combined_df.drop(match[2], inplace=True)\n"
     ]
    },
    {
     "name": "stdout",
     "output_type": "stream",
     "text": [
      "true\n",
      "        Row 30588 matches Row 26810\n",
      "commonName:\t\tSula Lorikeet\t\t\t\tSula Lorikeet\n",
      "scientificName:\t\tTrichoglossus flavoviridis\t\t\tSaudareos flavoviridis\n",
      "Family:\t\t\tPsittaculidae\t\t\t\t\tPsittaculidae\n"
     ]
    },
    {
     "name": "stderr",
     "output_type": "stream",
     "text": [
      "C:\\Users\\Walter\\AppData\\Local\\Temp\\ipykernel_9144\\3454993490.py:24: SettingWithCopyWarning: \n",
      "A value is trying to be set on a copy of a slice from a DataFrame\n",
      "\n",
      "See the caveats in the documentation: https://pandas.pydata.org/pandas-docs/stable/user_guide/indexing.html#returning-a-view-versus-a-copy\n",
      "  Combined_df.drop(match[2], inplace=True)\n"
     ]
    },
    {
     "name": "stdout",
     "output_type": "stream",
     "text": [
      "true\n",
      "        Row 30605 matches Row 11016\n",
      "commonName:\t\tRed-and-blue Lory\t\t\t\tRed-and-blue Lory\n",
      "scientificName:\t\tTrichoglossus histrio\t\t\tEos histrio\n",
      "Family:\t\t\tPsittaculidae\t\t\t\t\tPsittaculidae\n"
     ]
    },
    {
     "name": "stderr",
     "output_type": "stream",
     "text": [
      "C:\\Users\\Walter\\AppData\\Local\\Temp\\ipykernel_9144\\3454993490.py:24: SettingWithCopyWarning: \n",
      "A value is trying to be set on a copy of a slice from a DataFrame\n",
      "\n",
      "See the caveats in the documentation: https://pandas.pydata.org/pandas-docs/stable/user_guide/indexing.html#returning-a-view-versus-a-copy\n",
      "  Combined_df.drop(match[2], inplace=True)\n"
     ]
    },
    {
     "name": "stdout",
     "output_type": "stream",
     "text": [
      "true\n",
      "        Row 30609 matches Row 26811\n",
      "commonName:\t\tIris Lorikeet\t\t\t\tIris Lorikeet\n",
      "scientificName:\t\tTrichoglossus iris\t\t\tSaudareos iris\n",
      "Family:\t\t\tPsittaculidae\t\t\t\t\tPsittaculidae\n"
     ]
    },
    {
     "name": "stderr",
     "output_type": "stream",
     "text": [
      "C:\\Users\\Walter\\AppData\\Local\\Temp\\ipykernel_9144\\3454993490.py:24: SettingWithCopyWarning: \n",
      "A value is trying to be set on a copy of a slice from a DataFrame\n",
      "\n",
      "See the caveats in the documentation: https://pandas.pydata.org/pandas-docs/stable/user_guide/indexing.html#returning-a-view-versus-a-copy\n",
      "  Combined_df.drop(match[2], inplace=True)\n"
     ]
    },
    {
     "name": "stdout",
     "output_type": "stream",
     "text": [
      "true\n",
      "        Row 30612 matches Row 26814\n",
      "commonName:\t\tMindanao Lorikeet\t\t\t\tMindanao Lorikeet\n",
      "scientificName:\t\tTrichoglossus johnstoniae\t\t\tSaudareos johnstoniae\n",
      "Family:\t\t\tPsittaculidae\t\t\t\t\tPsittaculidae\n"
     ]
    },
    {
     "name": "stderr",
     "output_type": "stream",
     "text": [
      "C:\\Users\\Walter\\AppData\\Local\\Temp\\ipykernel_9144\\3454993490.py:24: SettingWithCopyWarning: \n",
      "A value is trying to be set on a copy of a slice from a DataFrame\n",
      "\n",
      "See the caveats in the documentation: https://pandas.pydata.org/pandas-docs/stable/user_guide/indexing.html#returning-a-view-versus-a-copy\n",
      "  Combined_df.drop(match[2], inplace=True)\n"
     ]
    },
    {
     "name": "stdout",
     "output_type": "stream",
     "text": [
      "true\n",
      "        Row 30613 matches Row 26815\n",
      "commonName:\t\tYellow-cheeked Lorikeet\t\t\t\tYellow-cheeked Lorikeet\n",
      "scientificName:\t\tTrichoglossus meyeri\t\t\tSaudareos meyeri\n",
      "Family:\t\t\tPsittaculidae\t\t\t\t\tPsittaculidae\n"
     ]
    },
    {
     "name": "stderr",
     "output_type": "stream",
     "text": [
      "C:\\Users\\Walter\\AppData\\Local\\Temp\\ipykernel_9144\\3454993490.py:24: SettingWithCopyWarning: \n",
      "A value is trying to be set on a copy of a slice from a DataFrame\n",
      "\n",
      "See the caveats in the documentation: https://pandas.pydata.org/pandas-docs/stable/user_guide/indexing.html#returning-a-view-versus-a-copy\n",
      "  Combined_df.drop(match[2], inplace=True)\n"
     ]
    },
    {
     "name": "stdout",
     "output_type": "stream",
     "text": [
      "true\n",
      "        Row 30617 matches Row 26816\n",
      "commonName:\t\tOrnate Lorikeet\t\t\t\tOrnate Lorikeet\n",
      "scientificName:\t\tTrichoglossus ornatus\t\t\tSaudareos ornata\n",
      "Family:\t\t\tPsittaculidae\t\t\t\t\tPsittaculidae\n"
     ]
    },
    {
     "name": "stderr",
     "output_type": "stream",
     "text": [
      "C:\\Users\\Walter\\AppData\\Local\\Temp\\ipykernel_9144\\3454993490.py:24: SettingWithCopyWarning: \n",
      "A value is trying to be set on a copy of a slice from a DataFrame\n",
      "\n",
      "See the caveats in the documentation: https://pandas.pydata.org/pandas-docs/stable/user_guide/indexing.html#returning-a-view-versus-a-copy\n",
      "  Combined_df.drop(match[2], inplace=True)\n"
     ]
    },
    {
     "name": "stdout",
     "output_type": "stream",
     "text": [
      "true\n",
      "        Row 30618 matches Row 11019\n",
      "commonName:\t\tBlue-streaked Lory\t\t\t\tBlue-streaked Lory\n",
      "scientificName:\t\tTrichoglossus reticulatus\t\t\tEos reticulata\n",
      "Family:\t\t\tPsittaculidae\t\t\t\t\tPsittaculidae\n"
     ]
    },
    {
     "name": "stderr",
     "output_type": "stream",
     "text": [
      "C:\\Users\\Walter\\AppData\\Local\\Temp\\ipykernel_9144\\3454993490.py:24: SettingWithCopyWarning: \n",
      "A value is trying to be set on a copy of a slice from a DataFrame\n",
      "\n",
      "See the caveats in the documentation: https://pandas.pydata.org/pandas-docs/stable/user_guide/indexing.html#returning-a-view-versus-a-copy\n",
      "  Combined_df.drop(match[2], inplace=True)\n"
     ]
    },
    {
     "name": "stdout",
     "output_type": "stream",
     "text": [
      "true\n",
      "        Row 30622 matches Row 11020\n",
      "commonName:\t\tBlue-eared Lory\t\t\t\tBlue-eared Lory\n",
      "scientificName:\t\tTrichoglossus semilarvatus\t\t\tEos semilarvata\n",
      "Family:\t\t\tPsittaculidae\t\t\t\t\tPsittaculidae\n"
     ]
    },
    {
     "name": "stderr",
     "output_type": "stream",
     "text": [
      "C:\\Users\\Walter\\AppData\\Local\\Temp\\ipykernel_9144\\3454993490.py:24: SettingWithCopyWarning: \n",
      "A value is trying to be set on a copy of a slice from a DataFrame\n",
      "\n",
      "See the caveats in the documentation: https://pandas.pydata.org/pandas-docs/stable/user_guide/indexing.html#returning-a-view-versus-a-copy\n",
      "  Combined_df.drop(match[2], inplace=True)\n"
     ]
    },
    {
     "name": "stdout",
     "output_type": "stream",
     "text": [
      "true\n",
      "        Row 30623 matches Row 11021\n",
      "commonName:\t\tViolet-necked Lory\t\t\t\tViolet-necked Lory\n",
      "scientificName:\t\tTrichoglossus squamatus\t\t\tEos squamata\n",
      "Family:\t\t\tPsittaculidae\t\t\t\t\tPsittaculidae\n"
     ]
    },
    {
     "name": "stderr",
     "output_type": "stream",
     "text": [
      "C:\\Users\\Walter\\AppData\\Local\\Temp\\ipykernel_9144\\3454993490.py:24: SettingWithCopyWarning: \n",
      "A value is trying to be set on a copy of a slice from a DataFrame\n",
      "\n",
      "See the caveats in the documentation: https://pandas.pydata.org/pandas-docs/stable/user_guide/indexing.html#returning-a-view-versus-a-copy\n",
      "  Combined_df.drop(match[2], inplace=True)\n"
     ]
    },
    {
     "name": "stdout",
     "output_type": "stream",
     "text": [
      "true\n",
      "        Row 31674 matches Row 15515\n",
      "commonName:\t\tMagpie Shrike\t\t\t\tMagpie Shrike\n",
      "scientificName:\t\tUrolestes melanoleucus\t\t\tLanius melanoleucus\n",
      "Family:\t\t\tLaniidae\t\t\t\t\tLaniidae\n"
     ]
    },
    {
     "name": "stderr",
     "output_type": "stream",
     "text": [
      "C:\\Users\\Walter\\AppData\\Local\\Temp\\ipykernel_9144\\3454993490.py:24: SettingWithCopyWarning: \n",
      "A value is trying to be set on a copy of a slice from a DataFrame\n",
      "\n",
      "See the caveats in the documentation: https://pandas.pydata.org/pandas-docs/stable/user_guide/indexing.html#returning-a-view-versus-a-copy\n",
      "  Combined_df.drop(match[2], inplace=True)\n"
     ]
    },
    {
     "name": "stdout",
     "output_type": "stream",
     "text": [
      "true\n",
      "        Row 31841 matches Row 5849\n",
      "commonName:\t\tDuchess Lorikeet\t\t\t\tDuchess Lorikeet\n",
      "scientificName:\t\tVini margarethae\t\t\tCharmosynoides margarethae\n",
      "Family:\t\t\tPsittaculidae\t\t\t\t\tPsittaculidae\n",
      "true\n"
     ]
    },
    {
     "name": "stderr",
     "output_type": "stream",
     "text": [
      "C:\\Users\\Walter\\AppData\\Local\\Temp\\ipykernel_9144\\3454993490.py:24: SettingWithCopyWarning: \n",
      "A value is trying to be set on a copy of a slice from a DataFrame\n",
      "\n",
      "See the caveats in the documentation: https://pandas.pydata.org/pandas-docs/stable/user_guide/indexing.html#returning-a-view-versus-a-copy\n",
      "  Combined_df.drop(match[2], inplace=True)\n"
     ]
    }
   ],
   "source": [
    "\n",
    "for match in matching_rows:\n",
    "    print(f\"        Row {match[0]} matches Row {match[2]}\")\n",
    "    print(f\"commonName:\\t\\t{match[1][\"commonName_Clements\"]}\\t\\t\\t\\t{match[3][\"commonName_IOC\"]}\")\n",
    "    print(f\"scientificName:\\t\\t{match[1][\"scientificName_Clements\"]}\\t\\t\\t{match[3][\"scientificName_IOC\"]}\")\n",
    "    print(f\"Family:\\t\\t\\t{match[1][\"family_Clements\"]}\\t\\t\\t\\t\\t{match[3][\"family_IOC\"]}\")\n",
    "\n",
    "    mergeCommand = input(\"Should these rows be merged? (y/n)\")\n",
    "    if mergeCommand == 'y':\n",
    "        # Merge the rows using combine_first\n",
    "        if match[0] in Combined_df.index and match[2] in Combined_df.index:\n",
    "            print(\"true\")\n",
    "            Combined_df.at[match[0], '14.1'] = match[3]['14.1']\n",
    "            Combined_df.at[match[0], 'scientificName_IOC'] = match[3]['scientificName_IOC']\n",
    "            Combined_df.at[match[0], 'commonName_IOC'] = match[3]['commonName_IOC']\n",
    "            Combined_df.at[match[0], 'rank_IOC'] = match[3]['rank_IOC']\n",
    "            Combined_df.at[match[0], 'species_IOC'] = match[3]['species_IOC']\n",
    "            Combined_df.at[match[0], 'genus_IOC'] = match[3]['genus_IOC']\n",
    "            Combined_df.at[match[0], 'family_IOC'] = match[3]['family_IOC']\n",
    "            Combined_df.at[match[0], 'order_IOC'] = match[3]['order_IOC']\n",
    "            Combined_df.at[match[0], 'authority_IOC'] = match[3]['authority_IOC']\n",
    "            Combined_df.at[match[0], 'breedingRange_IOC'] = match[3]['breedingRange_IOC']\n",
    "            Combined_df.at[match[0], 'nonbreedingRange_IOC'] = match[3]['nonbreedingRange_IOC']\n",
    "            \n",
    "            Combined_df.drop(match[2], inplace=True) \n",
    "             # Drop the second row of the pair\n",
    "            #clear_output(wait=False)\n",
    "\n",
    "        else:\n",
    "            print(\"One or both indices do not exist in the DataFrame.# Reset the index if needed\")\n",
    "Combined_df.reset_index(drop=True, inplace=True)\n",
    "\n",
    "Combined_df.to_csv(\"Further_Combined_Clements_IOC.csv\")"
   ]
  }
 ],
 "metadata": {
  "kernelspec": {
   "display_name": "Python 3",
   "language": "python",
   "name": "python3"
  },
  "language_info": {
   "codemirror_mode": {
    "name": "ipython",
    "version": 3
   },
   "file_extension": ".py",
   "mimetype": "text/x-python",
   "name": "python",
   "nbconvert_exporter": "python",
   "pygments_lexer": "ipython3",
   "version": "3.12.9"
  }
 },
 "nbformat": 4,
 "nbformat_minor": 2
}
