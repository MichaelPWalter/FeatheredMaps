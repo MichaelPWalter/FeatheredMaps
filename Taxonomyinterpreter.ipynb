{
 "cells": [
  {
   "cell_type": "code",
   "execution_count": 10,
   "metadata": {},
   "outputs": [
    {
     "name": "stdout",
     "output_type": "stream",
     "text": [
      "Final CSV file has been saved as 'cleaned_json.csv'.\n"
     ]
    }
   ],
   "source": [
    "import csv\n",
    "import json\n",
    "import pandas as pd\n",
    "\n",
    "# Define the input and output file names\n",
    "input_file = 'C:\\\\Users\\\\Walter\\\\Documents\\\\GitHub\\\\FeatheredMaps\\\\eBird_taxonomy_codes_2021E.json'  # Replace with your JSON file name\n",
    "output_file = 'cleaned_json.csv'\n",
    "\n",
    "\n",
    "# Step 1: Read and process the JSON file\n",
    "with open(input_file, \"r\") as file:\n",
    "    data = json.load(file)  # Load JSON as a dictionary\n",
    "\n",
    "# Step 2: Remove every second entry\n",
    "processed_data = {}\n",
    "keys_seen = set()\n",
    "for key, value in data.items():\n",
    "    if key not in keys_seen and value not in keys_seen:\n",
    "        processed_data[key] = value\n",
    "        keys_seen.add(key)\n",
    "        keys_seen.add(value)\n",
    "\n",
    "# Step 3: Convert the processed dictionary into a DataFrame\n",
    "df = pd.DataFrame(list(processed_data.items()), columns=[\"Key\", \"Value\"])\n",
    "\n",
    "# Step 4: Split the Value column into scientificName and commonName\n",
    "df[['scientificName', 'commonName']] = df['Value'].str.split('_', expand=True)\n",
    "\n",
    "# Step 5: Drop the original Value column\n",
    "df = df.drop(columns=['Value'])\n",
    "\n",
    "# Step 5: Drop rows where commonName is empty\n",
    "df = df.dropna(subset=['commonName'])\n",
    "\n",
    "# Step 6: Drop rows where Key contains \"t-\"\n",
    "df = df[~df['Key'].str.contains(\"t-\", na=False)]\n",
    "\n",
    "# Sort column A in ascending order\n",
    "df = df.sort_values(by=\"scientificName\", ascending=True)\n",
    "\n",
    "# Reset the index (optional)\n",
    "df = df.reset_index(drop=True)\n",
    "# Step 6: Save the updated DataFrame to a CSV file\n",
    "df.to_csv(output_file, index=False)\n",
    "\n",
    "print(f\"Final CSV file has been saved as '{output_file}'.\")\n",
    "\n"
   ]
  }
 ],
 "metadata": {
  "kernelspec": {
   "display_name": "Python 3",
   "language": "python",
   "name": "python3"
  },
  "language_info": {
   "codemirror_mode": {
    "name": "ipython",
    "version": 3
   },
   "file_extension": ".py",
   "mimetype": "text/x-python",
   "name": "python",
   "nbconvert_exporter": "python",
   "pygments_lexer": "ipython3",
   "version": "3.12.8"
  }
 },
 "nbformat": 4,
 "nbformat_minor": 2
}
