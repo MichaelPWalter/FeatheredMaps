{
 "cells": [
  {
   "cell_type": "code",
   "execution_count": 1,
   "metadata": {},
   "outputs": [
    {
     "name": "stderr",
     "output_type": "stream",
     "text": [
      "C:\\Users\\Walter\\AppData\\Local\\Temp\\ipykernel_15908\\1984696615.py:1: DeprecationWarning: \n",
      "Pyarrow will become a required dependency of pandas in the next major release of pandas (pandas 3.0),\n",
      "(to allow more performant data types, such as the Arrow string type, and better interoperability with other libraries)\n",
      "but was not found to be installed on your system.\n",
      "If this would cause problems for you,\n",
      "please provide us feedback at https://github.com/pandas-dev/pandas/issues/54466\n",
      "        \n",
      "  import pandas as pd\n"
     ]
    },
    {
     "name": "stdout",
     "output_type": "stream",
     "text": [
      "       sort v2024 species_code             English name  \\\n",
      "2             2.0      ostric2           Common Ostrich   \n",
      "7             7.0      ostric3           Somali Ostrich   \n",
      "9            10.0      soucas1       Southern Cassowary   \n",
      "10           11.0      dwacas1          Dwarf Cassowary   \n",
      "13           12.0      norcas1       Northern Cassowary   \n",
      "...           ...          ...                      ...   \n",
      "33115     35548.0      thbsal1    Thick-billed Saltator   \n",
      "33116     35549.0      gobsal1   Golden-billed Saltator   \n",
      "33123     35556.0      massal1          Masked Saltator   \n",
      "33124     35557.0      slcgro1   Slate-colored Grosbeak   \n",
      "33127     35560.0      bltgro2  Black-throated Grosbeak   \n",
      "\n",
      "                  scientific name  \n",
      "2                Struthio camelus  \n",
      "7          Struthio molybdophanes  \n",
      "9             Casuarius casuarius  \n",
      "10             Casuarius bennetti  \n",
      "13     Casuarius unappendiculatus  \n",
      "...                           ...  \n",
      "33115         Saltator maxillosus  \n",
      "33116    Saltator aurantiirostris  \n",
      "33123            Saltator cinctus  \n",
      "33124            Saltator grossus  \n",
      "33127        Saltator fuliginosus  \n",
      "\n",
      "[11145 rows x 4 columns]\n",
      "Filtered data saved to 'clements_filtered_species.csv'.\n"
     ]
    }
   ],
   "source": [
    "import pandas as pd\n",
    "\n",
    "# File path to the CSV file\n",
    "csv_file = \"C:\\\\Users\\\\Walter\\\\Documents\\\\GitHub\\\\FeatheredMaps\\\\Clements-v2024-October-2024-rev.csv\"  # Replace with your actual file path\n",
    "\n",
    "# Import only the specified columns and filter rows\n",
    "df = pd.read_csv(\n",
    "    csv_file,\n",
    "    usecols=[\"sort v2024\", \"species_code\", \"English name\", \"scientific name\", \"category\"]\n",
    ")\n",
    "\n",
    "# Filter rows where \"category\" is set to \"species\"\n",
    "df_filtered = df[df[\"category\"] == \"species\"]\n",
    "\n",
    "# Drop the \"category\" column if not needed\n",
    "df_filtered = df_filtered.drop(columns=[\"category\"])\n",
    "\n",
    "print(df_filtered)\n",
    "\n",
    "# Save the filtered DataFrame to a new CSV file (optional)\n",
    "df_filtered.to_csv(\"Clements_filtered_species.csv\", index=False)\n",
    "print(\"Filtered data saved to 'clements_filtered_species.csv'.\")\n"
   ]
  }
 ],
 "metadata": {
  "kernelspec": {
   "display_name": "Python 3",
   "language": "python",
   "name": "python3"
  },
  "language_info": {
   "codemirror_mode": {
    "name": "ipython",
    "version": 3
   },
   "file_extension": ".py",
   "mimetype": "text/x-python",
   "name": "python",
   "nbconvert_exporter": "python",
   "pygments_lexer": "ipython3",
   "version": "3.12.9"
  }
 },
 "nbformat": 4,
 "nbformat_minor": 2
}
